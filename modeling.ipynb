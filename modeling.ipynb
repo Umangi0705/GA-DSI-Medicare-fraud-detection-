{
 "cells": [
  {
   "cell_type": "code",
   "execution_count": null,
   "metadata": {},
   "outputs": [],
   "source": [
    "Modeling"
   ]
  },
  {
   "cell_type": "markdown",
   "metadata": {},
   "source": [
    "In this notebook, I will perform modeling using different classification methods and evaluate all models\n",
    "using confusion matrix and classification matrix."
   ]
  },
  {
   "cell_type": "code",
   "execution_count": 1,
   "metadata": {},
   "outputs": [],
   "source": [
    "import pandas as pd\n",
    "import numpy as np\n",
    "import seaborn as sns\n",
    "import matplotlib.pyplot as plt\n",
    "from matplotlib import pyplot\n",
    "from sklearn.svm import SVC\n",
    "from sklearn.svm import LinearSVC\n",
    "from sklearn.ensemble import IsolationForest\n",
    "from sklearn.metrics import roc_curve\n",
    "from sklearn.preprocessing import StandardScaler\n",
    "from sklearn.linear_model import LogisticRegression\n",
    "from imblearn.over_sampling import RandomOverSampler, SMOTE\n",
    "from sklearn.tree import DecisionTreeClassifier, plot_tree, export_text\n",
    "from sklearn.model_selection import train_test_split, cross_val_score, KFold\n",
    "from sklearn.metrics import confusion_matrix, classification_report, \\\n",
    "recall_score, precision_score, accuracy_score, plot_confusion_matrix, roc_auc_score\n",
    "from sklearn.ensemble import RandomForestClassifier, ExtraTreesClassifier, BaggingClassifier, \\\n",
    "GradientBoostingClassifier,AdaBoostClassifier, VotingClassifier\n",
    "from sklearn.metrics import precision_recall_curve,f1_score\n",
    "from sklearn.experimental import enable_hist_gradient_boosting\n",
    "from sklearn.ensemble import HistGradientBoostingClassifier\n",
    "from sklearn.model_selection import cross_val_score\n",
    "from sklearn.model_selection import RepeatedStratifiedKFold\n",
    "from sklearn.neighbors import KNeighborsClassifier\n",
    "from sklearn.model_selection import GridSearchCV\n",
    "from sklearn.pipeline import Pipeline\n",
    "from sklearn.naive_bayes import BernoulliNB"
   ]
  },
  {
   "cell_type": "code",
   "execution_count": 2,
   "metadata": {},
   "outputs": [],
   "source": [
    "# reading(loading) the dataset\n",
    "\n",
    "df=pd.read_csv(\"./datasets/final_data.csv\",index_col=0)"
   ]
  },
  {
   "cell_type": "markdown",
   "metadata": {},
   "source": [
    "For modeling there should not be any null values so let's check null values in our dataset."
   ]
  },
  {
   "cell_type": "code",
   "execution_count": 3,
   "metadata": {},
   "outputs": [
    {
     "data": {
      "text/plain": [
       "NPI                                          0\n",
       "Name                                         0\n",
       "city                                         0\n",
       "state                                        0\n",
       "specialty_description                        0\n",
       "total_drug_cost                              0\n",
       "total_claim_count                            0\n",
       "total_day_supply                             0\n",
       "Opioid Claim Count                           0\n",
       "Opioid Prescribing Rate                      0\n",
       "Long-Acting Opioid Claim Count               0\n",
       "Long-Acting Opioid Prescribing Rate          0\n",
       "Total_Payment_Sum                            0\n",
       "Supplier Rental Indicator                    0\n",
       "Number of Suppliers                          0\n",
       "Number of Supplier Beneficiaries             0\n",
       "Number of Supplier Claims                    0\n",
       "Average Supplier Submitted Charge            0\n",
       "Average Supplier Medicare Allow Amount       0\n",
       "Average Supplier Medicare Payment Amount     0\n",
       "Average Supplier Medicare Standard Amount    0\n",
       "is_fraud                                     0\n",
       "dtype: int64"
      ]
     },
     "execution_count": 3,
     "metadata": {},
     "output_type": "execute_result"
    }
   ],
   "source": [
    "# checking nulls\n",
    "\n",
    "df.isnull().sum()"
   ]
  },
  {
   "cell_type": "markdown",
   "metadata": {},
   "source": [
    "You can see there is no any null values so my dataset is ready for modeling."
   ]
  },
  {
   "cell_type": "code",
   "execution_count": 4,
   "metadata": {},
   "outputs": [
    {
     "data": {
      "text/plain": [
       "Index(['NPI', 'Name', 'city', 'state', 'specialty_description',\n",
       "       'total_drug_cost', 'total_claim_count', 'total_day_supply',\n",
       "       'Opioid Claim Count', 'Opioid Prescribing Rate',\n",
       "       'Long-Acting Opioid Claim Count', 'Long-Acting Opioid Prescribing Rate',\n",
       "       'Total_Payment_Sum', 'Supplier Rental Indicator', 'Number of Suppliers',\n",
       "       'Number of Supplier Beneficiaries', 'Number of Supplier Claims',\n",
       "       'Average Supplier Submitted Charge',\n",
       "       'Average Supplier Medicare Allow Amount',\n",
       "       'Average Supplier Medicare Payment Amount',\n",
       "       'Average Supplier Medicare Standard Amount', 'is_fraud'],\n",
       "      dtype='object')"
      ]
     },
     "execution_count": 4,
     "metadata": {},
     "output_type": "execute_result"
    }
   ],
   "source": [
    "df.columns"
   ]
  },
  {
   "cell_type": "markdown",
   "metadata": {},
   "source": [
    "Checking the multi colinearity of the dataset to see which columns are positively co-related to our is_fraud column and which are the negatively co-related"
   ]
  },
  {
   "cell_type": "code",
   "execution_count": 5,
   "metadata": {},
   "outputs": [
    {
     "data": {
      "text/html": [
       "<div>\n",
       "<style scoped>\n",
       "    .dataframe tbody tr th:only-of-type {\n",
       "        vertical-align: middle;\n",
       "    }\n",
       "\n",
       "    .dataframe tbody tr th {\n",
       "        vertical-align: top;\n",
       "    }\n",
       "\n",
       "    .dataframe thead th {\n",
       "        text-align: right;\n",
       "    }\n",
       "</style>\n",
       "<table border=\"1\" class=\"dataframe\">\n",
       "  <thead>\n",
       "    <tr style=\"text-align: right;\">\n",
       "      <th></th>\n",
       "      <th>NPI</th>\n",
       "      <th>total_drug_cost</th>\n",
       "      <th>total_claim_count</th>\n",
       "      <th>total_day_supply</th>\n",
       "      <th>Opioid Claim Count</th>\n",
       "      <th>Opioid Prescribing Rate</th>\n",
       "      <th>Long-Acting Opioid Claim Count</th>\n",
       "      <th>Long-Acting Opioid Prescribing Rate</th>\n",
       "      <th>Total_Payment_Sum</th>\n",
       "      <th>Supplier Rental Indicator</th>\n",
       "      <th>Number of Suppliers</th>\n",
       "      <th>Number of Supplier Beneficiaries</th>\n",
       "      <th>Number of Supplier Claims</th>\n",
       "      <th>Average Supplier Submitted Charge</th>\n",
       "      <th>Average Supplier Medicare Allow Amount</th>\n",
       "      <th>Average Supplier Medicare Payment Amount</th>\n",
       "      <th>Average Supplier Medicare Standard Amount</th>\n",
       "      <th>is_fraud</th>\n",
       "    </tr>\n",
       "  </thead>\n",
       "  <tbody>\n",
       "    <tr>\n",
       "      <th>NPI</th>\n",
       "      <td>1.000000</td>\n",
       "      <td>-0.000838</td>\n",
       "      <td>-0.001432</td>\n",
       "      <td>-0.000505</td>\n",
       "      <td>-0.000215</td>\n",
       "      <td>0.000814</td>\n",
       "      <td>-0.001643</td>\n",
       "      <td>0.001241</td>\n",
       "      <td>-0.003870</td>\n",
       "      <td>0.000169</td>\n",
       "      <td>0.001677</td>\n",
       "      <td>-0.000680</td>\n",
       "      <td>0.000086</td>\n",
       "      <td>-0.000747</td>\n",
       "      <td>-0.000453</td>\n",
       "      <td>-0.000446</td>\n",
       "      <td>-0.000458</td>\n",
       "      <td>0.002956</td>\n",
       "    </tr>\n",
       "    <tr>\n",
       "      <th>total_drug_cost</th>\n",
       "      <td>-0.000838</td>\n",
       "      <td>1.000000</td>\n",
       "      <td>0.537631</td>\n",
       "      <td>0.496580</td>\n",
       "      <td>0.275614</td>\n",
       "      <td>-0.147505</td>\n",
       "      <td>0.179097</td>\n",
       "      <td>0.192682</td>\n",
       "      <td>0.022279</td>\n",
       "      <td>0.264542</td>\n",
       "      <td>0.327365</td>\n",
       "      <td>0.144714</td>\n",
       "      <td>0.213662</td>\n",
       "      <td>0.159373</td>\n",
       "      <td>0.103937</td>\n",
       "      <td>0.101193</td>\n",
       "      <td>0.101160</td>\n",
       "      <td>0.004455</td>\n",
       "    </tr>\n",
       "    <tr>\n",
       "      <th>total_claim_count</th>\n",
       "      <td>-0.001432</td>\n",
       "      <td>0.537631</td>\n",
       "      <td>1.000000</td>\n",
       "      <td>0.912678</td>\n",
       "      <td>0.540587</td>\n",
       "      <td>-0.166710</td>\n",
       "      <td>0.270295</td>\n",
       "      <td>0.188870</td>\n",
       "      <td>-0.007571</td>\n",
       "      <td>0.457285</td>\n",
       "      <td>0.326317</td>\n",
       "      <td>0.075941</td>\n",
       "      <td>0.167013</td>\n",
       "      <td>0.158793</td>\n",
       "      <td>0.076025</td>\n",
       "      <td>0.070837</td>\n",
       "      <td>0.068083</td>\n",
       "      <td>0.006752</td>\n",
       "    </tr>\n",
       "    <tr>\n",
       "      <th>total_day_supply</th>\n",
       "      <td>-0.000505</td>\n",
       "      <td>0.496580</td>\n",
       "      <td>0.912678</td>\n",
       "      <td>1.000000</td>\n",
       "      <td>0.481991</td>\n",
       "      <td>-0.213925</td>\n",
       "      <td>0.211973</td>\n",
       "      <td>0.165469</td>\n",
       "      <td>-0.010239</td>\n",
       "      <td>0.419752</td>\n",
       "      <td>0.341451</td>\n",
       "      <td>0.059414</td>\n",
       "      <td>0.141373</td>\n",
       "      <td>0.140181</td>\n",
       "      <td>0.049146</td>\n",
       "      <td>0.043784</td>\n",
       "      <td>0.040875</td>\n",
       "      <td>0.004609</td>\n",
       "    </tr>\n",
       "    <tr>\n",
       "      <th>Opioid Claim Count</th>\n",
       "      <td>-0.000215</td>\n",
       "      <td>0.275614</td>\n",
       "      <td>0.540587</td>\n",
       "      <td>0.481991</td>\n",
       "      <td>1.000000</td>\n",
       "      <td>0.239469</td>\n",
       "      <td>0.808875</td>\n",
       "      <td>0.305827</td>\n",
       "      <td>-0.001872</td>\n",
       "      <td>0.274989</td>\n",
       "      <td>0.136726</td>\n",
       "      <td>0.017685</td>\n",
       "      <td>0.064437</td>\n",
       "      <td>0.127631</td>\n",
       "      <td>0.093340</td>\n",
       "      <td>0.090327</td>\n",
       "      <td>0.085309</td>\n",
       "      <td>0.026435</td>\n",
       "    </tr>\n",
       "    <tr>\n",
       "      <th>Opioid Prescribing Rate</th>\n",
       "      <td>0.000814</td>\n",
       "      <td>-0.147505</td>\n",
       "      <td>-0.166710</td>\n",
       "      <td>-0.213925</td>\n",
       "      <td>0.239469</td>\n",
       "      <td>1.000000</td>\n",
       "      <td>0.207296</td>\n",
       "      <td>0.070185</td>\n",
       "      <td>0.031551</td>\n",
       "      <td>-0.148563</td>\n",
       "      <td>-0.185242</td>\n",
       "      <td>-0.061500</td>\n",
       "      <td>-0.108470</td>\n",
       "      <td>-0.016054</td>\n",
       "      <td>0.085734</td>\n",
       "      <td>0.087861</td>\n",
       "      <td>0.087198</td>\n",
       "      <td>0.002791</td>\n",
       "    </tr>\n",
       "    <tr>\n",
       "      <th>Long-Acting Opioid Claim Count</th>\n",
       "      <td>-0.001643</td>\n",
       "      <td>0.179097</td>\n",
       "      <td>0.270295</td>\n",
       "      <td>0.211973</td>\n",
       "      <td>0.808875</td>\n",
       "      <td>0.207296</td>\n",
       "      <td>1.000000</td>\n",
       "      <td>0.414935</td>\n",
       "      <td>-0.001593</td>\n",
       "      <td>0.137284</td>\n",
       "      <td>0.050319</td>\n",
       "      <td>0.005226</td>\n",
       "      <td>0.028437</td>\n",
       "      <td>0.079071</td>\n",
       "      <td>0.066047</td>\n",
       "      <td>0.064694</td>\n",
       "      <td>0.060377</td>\n",
       "      <td>0.029568</td>\n",
       "    </tr>\n",
       "    <tr>\n",
       "      <th>Long-Acting Opioid Prescribing Rate</th>\n",
       "      <td>0.001241</td>\n",
       "      <td>0.192682</td>\n",
       "      <td>0.188870</td>\n",
       "      <td>0.165469</td>\n",
       "      <td>0.305827</td>\n",
       "      <td>0.070185</td>\n",
       "      <td>0.414935</td>\n",
       "      <td>1.000000</td>\n",
       "      <td>-0.002458</td>\n",
       "      <td>0.155218</td>\n",
       "      <td>0.035814</td>\n",
       "      <td>-0.013277</td>\n",
       "      <td>0.015487</td>\n",
       "      <td>0.045541</td>\n",
       "      <td>0.003680</td>\n",
       "      <td>0.001734</td>\n",
       "      <td>-0.000487</td>\n",
       "      <td>0.005681</td>\n",
       "    </tr>\n",
       "    <tr>\n",
       "      <th>Total_Payment_Sum</th>\n",
       "      <td>-0.003870</td>\n",
       "      <td>0.022279</td>\n",
       "      <td>-0.007571</td>\n",
       "      <td>-0.010239</td>\n",
       "      <td>-0.001872</td>\n",
       "      <td>0.031551</td>\n",
       "      <td>-0.001593</td>\n",
       "      <td>-0.002458</td>\n",
       "      <td>1.000000</td>\n",
       "      <td>-0.009582</td>\n",
       "      <td>0.000028</td>\n",
       "      <td>0.002989</td>\n",
       "      <td>0.000477</td>\n",
       "      <td>0.007894</td>\n",
       "      <td>0.016270</td>\n",
       "      <td>0.016383</td>\n",
       "      <td>0.016420</td>\n",
       "      <td>-0.001041</td>\n",
       "    </tr>\n",
       "    <tr>\n",
       "      <th>Supplier Rental Indicator</th>\n",
       "      <td>0.000169</td>\n",
       "      <td>0.264542</td>\n",
       "      <td>0.457285</td>\n",
       "      <td>0.419752</td>\n",
       "      <td>0.274989</td>\n",
       "      <td>-0.148563</td>\n",
       "      <td>0.137284</td>\n",
       "      <td>0.155218</td>\n",
       "      <td>-0.009582</td>\n",
       "      <td>1.000000</td>\n",
       "      <td>0.615698</td>\n",
       "      <td>0.361775</td>\n",
       "      <td>0.499534</td>\n",
       "      <td>0.570964</td>\n",
       "      <td>0.362529</td>\n",
       "      <td>0.353361</td>\n",
       "      <td>0.353252</td>\n",
       "      <td>-0.000758</td>\n",
       "    </tr>\n",
       "    <tr>\n",
       "      <th>Number of Suppliers</th>\n",
       "      <td>0.001677</td>\n",
       "      <td>0.327365</td>\n",
       "      <td>0.326317</td>\n",
       "      <td>0.341451</td>\n",
       "      <td>0.136726</td>\n",
       "      <td>-0.185242</td>\n",
       "      <td>0.050319</td>\n",
       "      <td>0.035814</td>\n",
       "      <td>0.000028</td>\n",
       "      <td>0.615698</td>\n",
       "      <td>1.000000</td>\n",
       "      <td>0.731610</td>\n",
       "      <td>0.822337</td>\n",
       "      <td>0.522888</td>\n",
       "      <td>0.360207</td>\n",
       "      <td>0.352204</td>\n",
       "      <td>0.353781</td>\n",
       "      <td>0.002340</td>\n",
       "    </tr>\n",
       "    <tr>\n",
       "      <th>Number of Supplier Beneficiaries</th>\n",
       "      <td>-0.000680</td>\n",
       "      <td>0.144714</td>\n",
       "      <td>0.075941</td>\n",
       "      <td>0.059414</td>\n",
       "      <td>0.017685</td>\n",
       "      <td>-0.061500</td>\n",
       "      <td>0.005226</td>\n",
       "      <td>-0.013277</td>\n",
       "      <td>0.002989</td>\n",
       "      <td>0.361775</td>\n",
       "      <td>0.731610</td>\n",
       "      <td>1.000000</td>\n",
       "      <td>0.936172</td>\n",
       "      <td>0.412642</td>\n",
       "      <td>0.325281</td>\n",
       "      <td>0.320318</td>\n",
       "      <td>0.321345</td>\n",
       "      <td>0.001855</td>\n",
       "    </tr>\n",
       "    <tr>\n",
       "      <th>Number of Supplier Claims</th>\n",
       "      <td>0.000086</td>\n",
       "      <td>0.213662</td>\n",
       "      <td>0.167013</td>\n",
       "      <td>0.141373</td>\n",
       "      <td>0.064437</td>\n",
       "      <td>-0.108470</td>\n",
       "      <td>0.028437</td>\n",
       "      <td>0.015487</td>\n",
       "      <td>0.000477</td>\n",
       "      <td>0.499534</td>\n",
       "      <td>0.822337</td>\n",
       "      <td>0.936172</td>\n",
       "      <td>1.000000</td>\n",
       "      <td>0.474749</td>\n",
       "      <td>0.339623</td>\n",
       "      <td>0.333504</td>\n",
       "      <td>0.335049</td>\n",
       "      <td>0.001218</td>\n",
       "    </tr>\n",
       "    <tr>\n",
       "      <th>Average Supplier Submitted Charge</th>\n",
       "      <td>-0.000747</td>\n",
       "      <td>0.159373</td>\n",
       "      <td>0.158793</td>\n",
       "      <td>0.140181</td>\n",
       "      <td>0.127631</td>\n",
       "      <td>-0.016054</td>\n",
       "      <td>0.079071</td>\n",
       "      <td>0.045541</td>\n",
       "      <td>0.007894</td>\n",
       "      <td>0.570964</td>\n",
       "      <td>0.522888</td>\n",
       "      <td>0.412642</td>\n",
       "      <td>0.474749</td>\n",
       "      <td>1.000000</td>\n",
       "      <td>0.866600</td>\n",
       "      <td>0.862735</td>\n",
       "      <td>0.861280</td>\n",
       "      <td>0.000510</td>\n",
       "    </tr>\n",
       "    <tr>\n",
       "      <th>Average Supplier Medicare Allow Amount</th>\n",
       "      <td>-0.000453</td>\n",
       "      <td>0.103937</td>\n",
       "      <td>0.076025</td>\n",
       "      <td>0.049146</td>\n",
       "      <td>0.093340</td>\n",
       "      <td>0.085734</td>\n",
       "      <td>0.066047</td>\n",
       "      <td>0.003680</td>\n",
       "      <td>0.016270</td>\n",
       "      <td>0.362529</td>\n",
       "      <td>0.360207</td>\n",
       "      <td>0.325281</td>\n",
       "      <td>0.339623</td>\n",
       "      <td>0.866600</td>\n",
       "      <td>1.000000</td>\n",
       "      <td>0.999731</td>\n",
       "      <td>0.998351</td>\n",
       "      <td>0.000971</td>\n",
       "    </tr>\n",
       "    <tr>\n",
       "      <th>Average Supplier Medicare Payment Amount</th>\n",
       "      <td>-0.000446</td>\n",
       "      <td>0.101193</td>\n",
       "      <td>0.070837</td>\n",
       "      <td>0.043784</td>\n",
       "      <td>0.090327</td>\n",
       "      <td>0.087861</td>\n",
       "      <td>0.064694</td>\n",
       "      <td>0.001734</td>\n",
       "      <td>0.016383</td>\n",
       "      <td>0.353361</td>\n",
       "      <td>0.352204</td>\n",
       "      <td>0.320318</td>\n",
       "      <td>0.333504</td>\n",
       "      <td>0.862735</td>\n",
       "      <td>0.999731</td>\n",
       "      <td>1.000000</td>\n",
       "      <td>0.998595</td>\n",
       "      <td>0.000887</td>\n",
       "    </tr>\n",
       "    <tr>\n",
       "      <th>Average Supplier Medicare Standard Amount</th>\n",
       "      <td>-0.000458</td>\n",
       "      <td>0.101160</td>\n",
       "      <td>0.068083</td>\n",
       "      <td>0.040875</td>\n",
       "      <td>0.085309</td>\n",
       "      <td>0.087198</td>\n",
       "      <td>0.060377</td>\n",
       "      <td>-0.000487</td>\n",
       "      <td>0.016420</td>\n",
       "      <td>0.353252</td>\n",
       "      <td>0.353781</td>\n",
       "      <td>0.321345</td>\n",
       "      <td>0.335049</td>\n",
       "      <td>0.861280</td>\n",
       "      <td>0.998351</td>\n",
       "      <td>0.998595</td>\n",
       "      <td>1.000000</td>\n",
       "      <td>0.000861</td>\n",
       "    </tr>\n",
       "    <tr>\n",
       "      <th>is_fraud</th>\n",
       "      <td>0.002956</td>\n",
       "      <td>0.004455</td>\n",
       "      <td>0.006752</td>\n",
       "      <td>0.004609</td>\n",
       "      <td>0.026435</td>\n",
       "      <td>0.002791</td>\n",
       "      <td>0.029568</td>\n",
       "      <td>0.005681</td>\n",
       "      <td>-0.001041</td>\n",
       "      <td>-0.000758</td>\n",
       "      <td>0.002340</td>\n",
       "      <td>0.001855</td>\n",
       "      <td>0.001218</td>\n",
       "      <td>0.000510</td>\n",
       "      <td>0.000971</td>\n",
       "      <td>0.000887</td>\n",
       "      <td>0.000861</td>\n",
       "      <td>1.000000</td>\n",
       "    </tr>\n",
       "  </tbody>\n",
       "</table>\n",
       "</div>"
      ],
      "text/plain": [
       "                                                NPI  total_drug_cost  \\\n",
       "NPI                                        1.000000        -0.000838   \n",
       "total_drug_cost                           -0.000838         1.000000   \n",
       "total_claim_count                         -0.001432         0.537631   \n",
       "total_day_supply                          -0.000505         0.496580   \n",
       "Opioid Claim Count                        -0.000215         0.275614   \n",
       "Opioid Prescribing Rate                    0.000814        -0.147505   \n",
       "Long-Acting Opioid Claim Count            -0.001643         0.179097   \n",
       "Long-Acting Opioid Prescribing Rate        0.001241         0.192682   \n",
       "Total_Payment_Sum                         -0.003870         0.022279   \n",
       "Supplier Rental Indicator                  0.000169         0.264542   \n",
       "Number of Suppliers                        0.001677         0.327365   \n",
       "Number of Supplier Beneficiaries          -0.000680         0.144714   \n",
       "Number of Supplier Claims                  0.000086         0.213662   \n",
       "Average Supplier Submitted Charge         -0.000747         0.159373   \n",
       "Average Supplier Medicare Allow Amount    -0.000453         0.103937   \n",
       "Average Supplier Medicare Payment Amount  -0.000446         0.101193   \n",
       "Average Supplier Medicare Standard Amount -0.000458         0.101160   \n",
       "is_fraud                                   0.002956         0.004455   \n",
       "\n",
       "                                           total_claim_count  \\\n",
       "NPI                                                -0.001432   \n",
       "total_drug_cost                                     0.537631   \n",
       "total_claim_count                                   1.000000   \n",
       "total_day_supply                                    0.912678   \n",
       "Opioid Claim Count                                  0.540587   \n",
       "Opioid Prescribing Rate                            -0.166710   \n",
       "Long-Acting Opioid Claim Count                      0.270295   \n",
       "Long-Acting Opioid Prescribing Rate                 0.188870   \n",
       "Total_Payment_Sum                                  -0.007571   \n",
       "Supplier Rental Indicator                           0.457285   \n",
       "Number of Suppliers                                 0.326317   \n",
       "Number of Supplier Beneficiaries                    0.075941   \n",
       "Number of Supplier Claims                           0.167013   \n",
       "Average Supplier Submitted Charge                   0.158793   \n",
       "Average Supplier Medicare Allow Amount              0.076025   \n",
       "Average Supplier Medicare Payment Amount            0.070837   \n",
       "Average Supplier Medicare Standard Amount           0.068083   \n",
       "is_fraud                                            0.006752   \n",
       "\n",
       "                                           total_day_supply  \\\n",
       "NPI                                               -0.000505   \n",
       "total_drug_cost                                    0.496580   \n",
       "total_claim_count                                  0.912678   \n",
       "total_day_supply                                   1.000000   \n",
       "Opioid Claim Count                                 0.481991   \n",
       "Opioid Prescribing Rate                           -0.213925   \n",
       "Long-Acting Opioid Claim Count                     0.211973   \n",
       "Long-Acting Opioid Prescribing Rate                0.165469   \n",
       "Total_Payment_Sum                                 -0.010239   \n",
       "Supplier Rental Indicator                          0.419752   \n",
       "Number of Suppliers                                0.341451   \n",
       "Number of Supplier Beneficiaries                   0.059414   \n",
       "Number of Supplier Claims                          0.141373   \n",
       "Average Supplier Submitted Charge                  0.140181   \n",
       "Average Supplier Medicare Allow Amount             0.049146   \n",
       "Average Supplier Medicare Payment Amount           0.043784   \n",
       "Average Supplier Medicare Standard Amount          0.040875   \n",
       "is_fraud                                           0.004609   \n",
       "\n",
       "                                           Opioid Claim Count  \\\n",
       "NPI                                                 -0.000215   \n",
       "total_drug_cost                                      0.275614   \n",
       "total_claim_count                                    0.540587   \n",
       "total_day_supply                                     0.481991   \n",
       "Opioid Claim Count                                   1.000000   \n",
       "Opioid Prescribing Rate                              0.239469   \n",
       "Long-Acting Opioid Claim Count                       0.808875   \n",
       "Long-Acting Opioid Prescribing Rate                  0.305827   \n",
       "Total_Payment_Sum                                   -0.001872   \n",
       "Supplier Rental Indicator                            0.274989   \n",
       "Number of Suppliers                                  0.136726   \n",
       "Number of Supplier Beneficiaries                     0.017685   \n",
       "Number of Supplier Claims                            0.064437   \n",
       "Average Supplier Submitted Charge                    0.127631   \n",
       "Average Supplier Medicare Allow Amount               0.093340   \n",
       "Average Supplier Medicare Payment Amount             0.090327   \n",
       "Average Supplier Medicare Standard Amount            0.085309   \n",
       "is_fraud                                             0.026435   \n",
       "\n",
       "                                           Opioid Prescribing Rate  \\\n",
       "NPI                                                       0.000814   \n",
       "total_drug_cost                                          -0.147505   \n",
       "total_claim_count                                        -0.166710   \n",
       "total_day_supply                                         -0.213925   \n",
       "Opioid Claim Count                                        0.239469   \n",
       "Opioid Prescribing Rate                                   1.000000   \n",
       "Long-Acting Opioid Claim Count                            0.207296   \n",
       "Long-Acting Opioid Prescribing Rate                       0.070185   \n",
       "Total_Payment_Sum                                         0.031551   \n",
       "Supplier Rental Indicator                                -0.148563   \n",
       "Number of Suppliers                                      -0.185242   \n",
       "Number of Supplier Beneficiaries                         -0.061500   \n",
       "Number of Supplier Claims                                -0.108470   \n",
       "Average Supplier Submitted Charge                        -0.016054   \n",
       "Average Supplier Medicare Allow Amount                    0.085734   \n",
       "Average Supplier Medicare Payment Amount                  0.087861   \n",
       "Average Supplier Medicare Standard Amount                 0.087198   \n",
       "is_fraud                                                  0.002791   \n",
       "\n",
       "                                           Long-Acting Opioid Claim Count  \\\n",
       "NPI                                                             -0.001643   \n",
       "total_drug_cost                                                  0.179097   \n",
       "total_claim_count                                                0.270295   \n",
       "total_day_supply                                                 0.211973   \n",
       "Opioid Claim Count                                               0.808875   \n",
       "Opioid Prescribing Rate                                          0.207296   \n",
       "Long-Acting Opioid Claim Count                                   1.000000   \n",
       "Long-Acting Opioid Prescribing Rate                              0.414935   \n",
       "Total_Payment_Sum                                               -0.001593   \n",
       "Supplier Rental Indicator                                        0.137284   \n",
       "Number of Suppliers                                              0.050319   \n",
       "Number of Supplier Beneficiaries                                 0.005226   \n",
       "Number of Supplier Claims                                        0.028437   \n",
       "Average Supplier Submitted Charge                                0.079071   \n",
       "Average Supplier Medicare Allow Amount                           0.066047   \n",
       "Average Supplier Medicare Payment Amount                         0.064694   \n",
       "Average Supplier Medicare Standard Amount                        0.060377   \n",
       "is_fraud                                                         0.029568   \n",
       "\n",
       "                                           Long-Acting Opioid Prescribing Rate  \\\n",
       "NPI                                                                   0.001241   \n",
       "total_drug_cost                                                       0.192682   \n",
       "total_claim_count                                                     0.188870   \n",
       "total_day_supply                                                      0.165469   \n",
       "Opioid Claim Count                                                    0.305827   \n",
       "Opioid Prescribing Rate                                               0.070185   \n",
       "Long-Acting Opioid Claim Count                                        0.414935   \n",
       "Long-Acting Opioid Prescribing Rate                                   1.000000   \n",
       "Total_Payment_Sum                                                    -0.002458   \n",
       "Supplier Rental Indicator                                             0.155218   \n",
       "Number of Suppliers                                                   0.035814   \n",
       "Number of Supplier Beneficiaries                                     -0.013277   \n",
       "Number of Supplier Claims                                             0.015487   \n",
       "Average Supplier Submitted Charge                                     0.045541   \n",
       "Average Supplier Medicare Allow Amount                                0.003680   \n",
       "Average Supplier Medicare Payment Amount                              0.001734   \n",
       "Average Supplier Medicare Standard Amount                            -0.000487   \n",
       "is_fraud                                                              0.005681   \n",
       "\n",
       "                                           Total_Payment_Sum  \\\n",
       "NPI                                                -0.003870   \n",
       "total_drug_cost                                     0.022279   \n",
       "total_claim_count                                  -0.007571   \n",
       "total_day_supply                                   -0.010239   \n",
       "Opioid Claim Count                                 -0.001872   \n",
       "Opioid Prescribing Rate                             0.031551   \n",
       "Long-Acting Opioid Claim Count                     -0.001593   \n",
       "Long-Acting Opioid Prescribing Rate                -0.002458   \n",
       "Total_Payment_Sum                                   1.000000   \n",
       "Supplier Rental Indicator                          -0.009582   \n",
       "Number of Suppliers                                 0.000028   \n",
       "Number of Supplier Beneficiaries                    0.002989   \n",
       "Number of Supplier Claims                           0.000477   \n",
       "Average Supplier Submitted Charge                   0.007894   \n",
       "Average Supplier Medicare Allow Amount              0.016270   \n",
       "Average Supplier Medicare Payment Amount            0.016383   \n",
       "Average Supplier Medicare Standard Amount           0.016420   \n",
       "is_fraud                                           -0.001041   \n",
       "\n",
       "                                           Supplier Rental Indicator  \\\n",
       "NPI                                                         0.000169   \n",
       "total_drug_cost                                             0.264542   \n",
       "total_claim_count                                           0.457285   \n",
       "total_day_supply                                            0.419752   \n",
       "Opioid Claim Count                                          0.274989   \n",
       "Opioid Prescribing Rate                                    -0.148563   \n",
       "Long-Acting Opioid Claim Count                              0.137284   \n",
       "Long-Acting Opioid Prescribing Rate                         0.155218   \n",
       "Total_Payment_Sum                                          -0.009582   \n",
       "Supplier Rental Indicator                                   1.000000   \n",
       "Number of Suppliers                                         0.615698   \n",
       "Number of Supplier Beneficiaries                            0.361775   \n",
       "Number of Supplier Claims                                   0.499534   \n",
       "Average Supplier Submitted Charge                           0.570964   \n",
       "Average Supplier Medicare Allow Amount                      0.362529   \n",
       "Average Supplier Medicare Payment Amount                    0.353361   \n",
       "Average Supplier Medicare Standard Amount                   0.353252   \n",
       "is_fraud                                                   -0.000758   \n",
       "\n",
       "                                           Number of Suppliers  \\\n",
       "NPI                                                   0.001677   \n",
       "total_drug_cost                                       0.327365   \n",
       "total_claim_count                                     0.326317   \n",
       "total_day_supply                                      0.341451   \n",
       "Opioid Claim Count                                    0.136726   \n",
       "Opioid Prescribing Rate                              -0.185242   \n",
       "Long-Acting Opioid Claim Count                        0.050319   \n",
       "Long-Acting Opioid Prescribing Rate                   0.035814   \n",
       "Total_Payment_Sum                                     0.000028   \n",
       "Supplier Rental Indicator                             0.615698   \n",
       "Number of Suppliers                                   1.000000   \n",
       "Number of Supplier Beneficiaries                      0.731610   \n",
       "Number of Supplier Claims                             0.822337   \n",
       "Average Supplier Submitted Charge                     0.522888   \n",
       "Average Supplier Medicare Allow Amount                0.360207   \n",
       "Average Supplier Medicare Payment Amount              0.352204   \n",
       "Average Supplier Medicare Standard Amount             0.353781   \n",
       "is_fraud                                              0.002340   \n",
       "\n",
       "                                           Number of Supplier Beneficiaries  \\\n",
       "NPI                                                               -0.000680   \n",
       "total_drug_cost                                                    0.144714   \n",
       "total_claim_count                                                  0.075941   \n",
       "total_day_supply                                                   0.059414   \n",
       "Opioid Claim Count                                                 0.017685   \n",
       "Opioid Prescribing Rate                                           -0.061500   \n",
       "Long-Acting Opioid Claim Count                                     0.005226   \n",
       "Long-Acting Opioid Prescribing Rate                               -0.013277   \n",
       "Total_Payment_Sum                                                  0.002989   \n",
       "Supplier Rental Indicator                                          0.361775   \n",
       "Number of Suppliers                                                0.731610   \n",
       "Number of Supplier Beneficiaries                                   1.000000   \n",
       "Number of Supplier Claims                                          0.936172   \n",
       "Average Supplier Submitted Charge                                  0.412642   \n",
       "Average Supplier Medicare Allow Amount                             0.325281   \n",
       "Average Supplier Medicare Payment Amount                           0.320318   \n",
       "Average Supplier Medicare Standard Amount                          0.321345   \n",
       "is_fraud                                                           0.001855   \n",
       "\n",
       "                                           Number of Supplier Claims  \\\n",
       "NPI                                                         0.000086   \n",
       "total_drug_cost                                             0.213662   \n",
       "total_claim_count                                           0.167013   \n",
       "total_day_supply                                            0.141373   \n",
       "Opioid Claim Count                                          0.064437   \n",
       "Opioid Prescribing Rate                                    -0.108470   \n",
       "Long-Acting Opioid Claim Count                              0.028437   \n",
       "Long-Acting Opioid Prescribing Rate                         0.015487   \n",
       "Total_Payment_Sum                                           0.000477   \n",
       "Supplier Rental Indicator                                   0.499534   \n",
       "Number of Suppliers                                         0.822337   \n",
       "Number of Supplier Beneficiaries                            0.936172   \n",
       "Number of Supplier Claims                                   1.000000   \n",
       "Average Supplier Submitted Charge                           0.474749   \n",
       "Average Supplier Medicare Allow Amount                      0.339623   \n",
       "Average Supplier Medicare Payment Amount                    0.333504   \n",
       "Average Supplier Medicare Standard Amount                   0.335049   \n",
       "is_fraud                                                    0.001218   \n",
       "\n",
       "                                           Average Supplier Submitted Charge  \\\n",
       "NPI                                                                -0.000747   \n",
       "total_drug_cost                                                     0.159373   \n",
       "total_claim_count                                                   0.158793   \n",
       "total_day_supply                                                    0.140181   \n",
       "Opioid Claim Count                                                  0.127631   \n",
       "Opioid Prescribing Rate                                            -0.016054   \n",
       "Long-Acting Opioid Claim Count                                      0.079071   \n",
       "Long-Acting Opioid Prescribing Rate                                 0.045541   \n",
       "Total_Payment_Sum                                                   0.007894   \n",
       "Supplier Rental Indicator                                           0.570964   \n",
       "Number of Suppliers                                                 0.522888   \n",
       "Number of Supplier Beneficiaries                                    0.412642   \n",
       "Number of Supplier Claims                                           0.474749   \n",
       "Average Supplier Submitted Charge                                   1.000000   \n",
       "Average Supplier Medicare Allow Amount                              0.866600   \n",
       "Average Supplier Medicare Payment Amount                            0.862735   \n",
       "Average Supplier Medicare Standard Amount                           0.861280   \n",
       "is_fraud                                                            0.000510   \n",
       "\n",
       "                                           Average Supplier Medicare Allow Amount  \\\n",
       "NPI                                                                     -0.000453   \n",
       "total_drug_cost                                                          0.103937   \n",
       "total_claim_count                                                        0.076025   \n",
       "total_day_supply                                                         0.049146   \n",
       "Opioid Claim Count                                                       0.093340   \n",
       "Opioid Prescribing Rate                                                  0.085734   \n",
       "Long-Acting Opioid Claim Count                                           0.066047   \n",
       "Long-Acting Opioid Prescribing Rate                                      0.003680   \n",
       "Total_Payment_Sum                                                        0.016270   \n",
       "Supplier Rental Indicator                                                0.362529   \n",
       "Number of Suppliers                                                      0.360207   \n",
       "Number of Supplier Beneficiaries                                         0.325281   \n",
       "Number of Supplier Claims                                                0.339623   \n",
       "Average Supplier Submitted Charge                                        0.866600   \n",
       "Average Supplier Medicare Allow Amount                                   1.000000   \n",
       "Average Supplier Medicare Payment Amount                                 0.999731   \n",
       "Average Supplier Medicare Standard Amount                                0.998351   \n",
       "is_fraud                                                                 0.000971   \n",
       "\n",
       "                                           Average Supplier Medicare Payment Amount  \\\n",
       "NPI                                                                       -0.000446   \n",
       "total_drug_cost                                                            0.101193   \n",
       "total_claim_count                                                          0.070837   \n",
       "total_day_supply                                                           0.043784   \n",
       "Opioid Claim Count                                                         0.090327   \n",
       "Opioid Prescribing Rate                                                    0.087861   \n",
       "Long-Acting Opioid Claim Count                                             0.064694   \n",
       "Long-Acting Opioid Prescribing Rate                                        0.001734   \n",
       "Total_Payment_Sum                                                          0.016383   \n",
       "Supplier Rental Indicator                                                  0.353361   \n",
       "Number of Suppliers                                                        0.352204   \n",
       "Number of Supplier Beneficiaries                                           0.320318   \n",
       "Number of Supplier Claims                                                  0.333504   \n",
       "Average Supplier Submitted Charge                                          0.862735   \n",
       "Average Supplier Medicare Allow Amount                                     0.999731   \n",
       "Average Supplier Medicare Payment Amount                                   1.000000   \n",
       "Average Supplier Medicare Standard Amount                                  0.998595   \n",
       "is_fraud                                                                   0.000887   \n",
       "\n",
       "                                           Average Supplier Medicare Standard Amount  \\\n",
       "NPI                                                                        -0.000458   \n",
       "total_drug_cost                                                             0.101160   \n",
       "total_claim_count                                                           0.068083   \n",
       "total_day_supply                                                            0.040875   \n",
       "Opioid Claim Count                                                          0.085309   \n",
       "Opioid Prescribing Rate                                                     0.087198   \n",
       "Long-Acting Opioid Claim Count                                              0.060377   \n",
       "Long-Acting Opioid Prescribing Rate                                        -0.000487   \n",
       "Total_Payment_Sum                                                           0.016420   \n",
       "Supplier Rental Indicator                                                   0.353252   \n",
       "Number of Suppliers                                                         0.353781   \n",
       "Number of Supplier Beneficiaries                                            0.321345   \n",
       "Number of Supplier Claims                                                   0.335049   \n",
       "Average Supplier Submitted Charge                                           0.861280   \n",
       "Average Supplier Medicare Allow Amount                                      0.998351   \n",
       "Average Supplier Medicare Payment Amount                                    0.998595   \n",
       "Average Supplier Medicare Standard Amount                                   1.000000   \n",
       "is_fraud                                                                    0.000861   \n",
       "\n",
       "                                           is_fraud  \n",
       "NPI                                        0.002956  \n",
       "total_drug_cost                            0.004455  \n",
       "total_claim_count                          0.006752  \n",
       "total_day_supply                           0.004609  \n",
       "Opioid Claim Count                         0.026435  \n",
       "Opioid Prescribing Rate                    0.002791  \n",
       "Long-Acting Opioid Claim Count             0.029568  \n",
       "Long-Acting Opioid Prescribing Rate        0.005681  \n",
       "Total_Payment_Sum                         -0.001041  \n",
       "Supplier Rental Indicator                 -0.000758  \n",
       "Number of Suppliers                        0.002340  \n",
       "Number of Supplier Beneficiaries           0.001855  \n",
       "Number of Supplier Claims                  0.001218  \n",
       "Average Supplier Submitted Charge          0.000510  \n",
       "Average Supplier Medicare Allow Amount     0.000971  \n",
       "Average Supplier Medicare Payment Amount   0.000887  \n",
       "Average Supplier Medicare Standard Amount  0.000861  \n",
       "is_fraud                                   1.000000  "
      ]
     },
     "execution_count": 5,
     "metadata": {},
     "output_type": "execute_result"
    }
   ],
   "source": [
    "df.corr()"
   ]
  },
  {
   "cell_type": "markdown",
   "metadata": {},
   "source": [
    "# Pre processing steps"
   ]
  },
  {
   "cell_type": "code",
   "execution_count": 6,
   "metadata": {},
   "outputs": [],
   "source": [
    "#setting up the predictors and target variable\n",
    "\n",
    "X=df[[ 'total_drug_cost', 'total_claim_count', 'total_day_supply',\n",
    "       'Opioid Claim Count', 'Opioid Prescribing Rate',\n",
    "       'Long-Acting Opioid Claim Count', 'Long-Acting Opioid Prescribing Rate',\n",
    "       'Total_Payment_Sum', 'Number of Suppliers',\n",
    "       'Number of Supplier Beneficiaries', 'Number of Supplier Claims',\n",
    "       'Average Supplier Submitted Charge',\n",
    "       'Average Supplier Medicare Allow Amount',\n",
    "       'Average Supplier Medicare Payment Amount',\n",
    "       'Average Supplier Medicare Standard Amount',\n",
    "       \n",
    "       ]]\n",
    "y=df[\"is_fraud\"]"
   ]
  },
  {
   "cell_type": "code",
   "execution_count": 7,
   "metadata": {},
   "outputs": [
    {
     "data": {
      "text/plain": [
       "0    177973\n",
       "1       116\n",
       "Name: is_fraud, dtype: int64"
      ]
     },
     "execution_count": 7,
     "metadata": {},
     "output_type": "execute_result"
    }
   ],
   "source": [
    "y.value_counts()"
   ]
  },
  {
   "cell_type": "code",
   "execution_count": 8,
   "metadata": {},
   "outputs": [
    {
     "data": {
      "text/plain": [
       "((178089, 15), (178089,))"
      ]
     },
     "execution_count": 8,
     "metadata": {},
     "output_type": "execute_result"
    }
   ],
   "source": [
    "X.shape, y.shape"
   ]
  },
  {
   "cell_type": "markdown",
   "metadata": {},
   "source": [
    "Spitting the data in training and testing sets"
   ]
  },
  {
   "cell_type": "code",
   "execution_count": 9,
   "metadata": {},
   "outputs": [],
   "source": [
    "X_train, X_test, y_train, y_test = train_test_split(X, y,\n",
    "                                                  test_size = .35,\n",
    "                                                    random_state=42,\n",
    "                                                    stratify=y)"
   ]
  },
  {
   "cell_type": "code",
   "execution_count": 10,
   "metadata": {},
   "outputs": [
    {
     "data": {
      "text/plain": [
       "((115757, 15), (62332, 15), (115757,), (62332,))"
      ]
     },
     "execution_count": 10,
     "metadata": {},
     "output_type": "execute_result"
    }
   ],
   "source": [
    "X_train.shape,X_test.shape,y_train.shape,y_test.shape"
   ]
  },
  {
   "cell_type": "code",
   "execution_count": 11,
   "metadata": {},
   "outputs": [
    {
     "data": {
      "text/plain": [
       "0    115682\n",
       "1        75\n",
       "Name: is_fraud, dtype: int64"
      ]
     },
     "execution_count": 11,
     "metadata": {},
     "output_type": "execute_result"
    }
   ],
   "source": [
    "y_train.value_counts()"
   ]
  },
  {
   "cell_type": "code",
   "execution_count": 12,
   "metadata": {},
   "outputs": [
    {
     "data": {
      "text/plain": [
       "0    62291\n",
       "1       41\n",
       "Name: is_fraud, dtype: int64"
      ]
     },
     "execution_count": 12,
     "metadata": {},
     "output_type": "execute_result"
    }
   ],
   "source": [
    "y_test.value_counts()"
   ]
  },
  {
   "cell_type": "markdown",
   "metadata": {},
   "source": [
    "As we can see our target variable has highly imbalance classes so I am using SMOTE(Synthetic Minority Oversampling Technique)\n",
    "which will oversample the minority class.It will not add any extra information but it will rebalance my classes\n"
   ]
  },
  {
   "cell_type": "code",
   "execution_count": 13,
   "metadata": {},
   "outputs": [],
   "source": [
    "sm = SMOTE()\n",
    "X_train, y_train = sm.fit_sample(X_train, y_train)   #resampling X_train\n",
    "X_test,y_test=sm.fit_sample(X_test, y_test)          #resampling X_test"
   ]
  },
  {
   "cell_type": "code",
   "execution_count": 14,
   "metadata": {},
   "outputs": [
    {
     "data": {
      "text/plain": [
       "((231364, 15), (124582, 15), (231364,), (124582,))"
      ]
     },
     "execution_count": 14,
     "metadata": {},
     "output_type": "execute_result"
    }
   ],
   "source": [
    "# checking the shape\n",
    "\n",
    "X_train.shape,X_test.shape,y_train.shape,y_test.shape"
   ]
  },
  {
   "cell_type": "code",
   "execution_count": 15,
   "metadata": {},
   "outputs": [
    {
     "data": {
      "text/plain": [
       "1    115682\n",
       "0    115682\n",
       "Name: is_fraud, dtype: int64"
      ]
     },
     "execution_count": 15,
     "metadata": {},
     "output_type": "execute_result"
    }
   ],
   "source": [
    "y_train.value_counts()"
   ]
  },
  {
   "cell_type": "code",
   "execution_count": 16,
   "metadata": {},
   "outputs": [
    {
     "data": {
      "text/plain": [
       "1    62291\n",
       "0    62291\n",
       "Name: is_fraud, dtype: int64"
      ]
     },
     "execution_count": 16,
     "metadata": {},
     "output_type": "execute_result"
    }
   ],
   "source": [
    "# checking the class\n",
    "\n",
    "y_test.value_counts()"
   ]
  },
  {
   "cell_type": "markdown",
   "metadata": {},
   "source": [
    "So Now we have our y_train and y_test is with balanced class"
   ]
  },
  {
   "cell_type": "markdown",
   "metadata": {},
   "source": [
    "# Logistic Regression"
   ]
  },
  {
   "cell_type": "markdown",
   "metadata": {},
   "source": [
    "First, I will try logistic regression with my dataset"
   ]
  },
  {
   "cell_type": "code",
   "execution_count": 17,
   "metadata": {},
   "outputs": [],
   "source": [
    "# Instantiate the model\n",
    "\n",
    "model=LogisticRegression(max_iter=5000,solver='lbfgs')"
   ]
  },
  {
   "cell_type": "code",
   "execution_count": 18,
   "metadata": {},
   "outputs": [
    {
     "data": {
      "text/plain": [
       "LogisticRegression(max_iter=5000)"
      ]
     },
     "execution_count": 18,
     "metadata": {},
     "output_type": "execute_result"
    }
   ],
   "source": [
    "# fit the model\n",
    "\n",
    "model.fit(X_train,y_train)"
   ]
  },
  {
   "cell_type": "code",
   "execution_count": 19,
   "metadata": {},
   "outputs": [],
   "source": [
    "# predict the model\n",
    "\n",
    "y_pred=model.predict(X_test)"
   ]
  },
  {
   "cell_type": "code",
   "execution_count": 20,
   "metadata": {},
   "outputs": [
    {
     "data": {
      "text/plain": [
       "0.6495997648726681"
      ]
     },
     "execution_count": 20,
     "metadata": {},
     "output_type": "execute_result"
    }
   ],
   "source": [
    "# training score\n",
    "\n",
    "model.score(X_train,y_train)"
   ]
  },
  {
   "cell_type": "code",
   "execution_count": 21,
   "metadata": {},
   "outputs": [
    {
     "data": {
      "text/plain": [
       "0.5598722126791993"
      ]
     },
     "execution_count": 21,
     "metadata": {},
     "output_type": "execute_result"
    }
   ],
   "source": [
    "# testing score\n",
    "\n",
    "model.score(X_test,y_test)"
   ]
  },
  {
   "cell_type": "code",
   "execution_count": 22,
   "metadata": {},
   "outputs": [
    {
     "data": {
      "text/plain": [
       "0    90501\n",
       "1    34081\n",
       "dtype: int64"
      ]
     },
     "execution_count": 22,
     "metadata": {},
     "output_type": "execute_result"
    }
   ],
   "source": [
    "# predicted frauds and non-frauds\n",
    "\n",
    "pd.Series(y_pred).value_counts()"
   ]
  },
  {
   "cell_type": "code",
   "execution_count": 23,
   "metadata": {},
   "outputs": [],
   "source": [
    "coef=model.coef_[0]\n"
   ]
  },
  {
   "cell_type": "code",
   "execution_count": 24,
   "metadata": {},
   "outputs": [],
   "source": [
    "# probabbility of prediction\n",
    "\n",
    "lr_probs = model.predict_proba(X_test)"
   ]
  },
  {
   "cell_type": "code",
   "execution_count": 25,
   "metadata": {},
   "outputs": [
    {
     "data": {
      "text/plain": [
       "array([0.48910376, 0.25167646, 0.30279816, ..., 0.52779005, 0.50430649,\n",
       "       0.78932436])"
      ]
     },
     "execution_count": 25,
     "metadata": {},
     "output_type": "execute_result"
    }
   ],
   "source": [
    "# keep probabilities for the positive outcome only\n",
    "lr_probs = lr_probs[:, 1]\n",
    "lr_probs"
   ]
  },
  {
   "cell_type": "code",
   "execution_count": 26,
   "metadata": {},
   "outputs": [
    {
     "data": {
      "text/plain": [
       "(124582,)"
      ]
     },
     "execution_count": 26,
     "metadata": {},
     "output_type": "execute_result"
    }
   ],
   "source": [
    "lr_probs.shape"
   ]
  },
  {
   "cell_type": "code",
   "execution_count": 27,
   "metadata": {},
   "outputs": [
    {
     "data": {
      "text/plain": [
       "0.5574336782293099"
      ]
     },
     "execution_count": 27,
     "metadata": {},
     "output_type": "execute_result"
    }
   ],
   "source": [
    "lr_auc = roc_auc_score(y_test, lr_probs)\n",
    "lr_auc "
   ]
  },
  {
   "cell_type": "code",
   "execution_count": 28,
   "metadata": {},
   "outputs": [
    {
     "data": {
      "text/plain": [
       "[('total_drug_cost', -3.557194255558339e-07),\n",
       " ('total_claim_count', 5.041394708934244e-05),\n",
       " ('total_day_supply', -2.7883720941150043e-06),\n",
       " ('Opioid Claim Count', 0.0026126480374719444),\n",
       " ('Opioid Prescribing Rate', -0.0012480124033904174),\n",
       " ('Long-Acting Opioid Claim Count', -0.0021924750319928187),\n",
       " ('Long-Acting Opioid Prescribing Rate', 0.00034724682062734955),\n",
       " ('Total_Payment_Sum', -2.9857838747477544e-05),\n",
       " ('Number of Suppliers', 0.0006436579895365535),\n",
       " ('Number of Supplier Beneficiaries', 0.00492155180266164),\n",
       " ('Number of Supplier Claims', -0.0018293035951619165),\n",
       " ('Average Supplier Submitted Charge', -0.00022202221164386465),\n",
       " ('Average Supplier Medicare Allow Amount', 0.00010257523515533433),\n",
       " ('Average Supplier Medicare Payment Amount', -0.0012999775984390526),\n",
       " ('Average Supplier Medicare Standard Amount', 0.0012073379495726867)]"
      ]
     },
     "execution_count": 28,
     "metadata": {},
     "output_type": "execute_result"
    }
   ],
   "source": [
    "# checking the co-efficients\n",
    "\n",
    "x=list(zip(X.columns, coef))\n",
    "x"
   ]
  },
  {
   "cell_type": "code",
   "execution_count": 29,
   "metadata": {},
   "outputs": [
    {
     "name": "stdout",
     "output_type": "stream",
     "text": [
      "total_drug_cost -3.557194255558339e-07\n",
      "total_day_supply -2.7883720941150043e-06\n",
      "Opioid Prescribing Rate -0.0012480124033904174\n",
      "Long-Acting Opioid Claim Count -0.0021924750319928187\n",
      "Total_Payment_Sum -2.9857838747477544e-05\n",
      "Number of Supplier Claims -0.0018293035951619165\n",
      "Average Supplier Submitted Charge -0.00022202221164386465\n",
      "Average Supplier Medicare Payment Amount -0.0012999775984390526\n"
     ]
    }
   ],
   "source": [
    "# coefficients with negetive values\n",
    "\n",
    "for i in x:\n",
    "    if i[1]  < 0:\n",
    "        print (i[0], i[1])"
   ]
  },
  {
   "cell_type": "code",
   "execution_count": 30,
   "metadata": {},
   "outputs": [],
   "source": [
    "# confusion matrix\n",
    "\n",
    "cm=confusion_matrix(y_test, y_pred)"
   ]
  },
  {
   "cell_type": "code",
   "execution_count": 31,
   "metadata": {},
   "outputs": [
    {
     "data": {
      "image/png": "[encoded data removed]",
      "text/plain": [
       "<Figure size 432x288 with 2 Axes>"
      ]
     },
     "metadata": {
      "needs_background": "light"
     },
     "output_type": "display_data"
    }
   ],
   "source": [
    "# plotting the confusion matrix\n",
    "\n",
    "plot_confusion_matrix(model, X_test, y_test, cmap='Blues', values_format='d');"
   ]
  },
  {
   "cell_type": "code",
   "execution_count": 32,
   "metadata": {},
   "outputs": [
    {
     "name": "stdout",
     "output_type": "stream",
     "text": [
      "True Negatives: 48980\n",
      "True Positives: 20770\n",
      "False Positives: 13311\n",
      "False Negatives: 41521\n"
     ]
    }
   ],
   "source": [
    "tn = cm[0,0]; print(\"True Negatives:\", tn)\n",
    "tp = cm[1,1]; print(\"True Positives:\", tp)\n",
    "fp = cm[0,1]; print(\"False Positives:\", fp)\n",
    "fn = cm[1,0]; print(\"False Negatives:\", fn)"
   ]
  },
  {
   "cell_type": "markdown",
   "metadata": {},
   "source": [
    "Here I am detecting frauds where the false negative costs high as it is showing the fraud provider as non fraud provider \n",
    "so we will see recall and precision as our matrices"
   ]
  },
  {
   "cell_type": "code",
   "execution_count": 33,
   "metadata": {},
   "outputs": [
    {
     "data": {
      "text/plain": [
       "0.33343500666227865"
      ]
     },
     "execution_count": 33,
     "metadata": {},
     "output_type": "execute_result"
    }
   ],
   "source": [
    "# recall score\n",
    "\n",
    "recall_score(y_test, y_pred)"
   ]
  },
  {
   "cell_type": "code",
   "execution_count": 34,
   "metadata": {},
   "outputs": [
    {
     "data": {
      "text/plain": [
       "0.6094304744579091"
      ]
     },
     "execution_count": 34,
     "metadata": {},
     "output_type": "execute_result"
    }
   ],
   "source": [
    "# precision score\n",
    "\n",
    "precision_score(y_test, y_pred)"
   ]
  },
  {
   "cell_type": "code",
   "execution_count": 35,
   "metadata": {},
   "outputs": [
    {
     "name": "stdout",
     "output_type": "stream",
     "text": [
      "              precision    recall  f1-score   support\n",
      "\n",
      "           0       0.54      0.79      0.64     62291\n",
      "           1       0.61      0.33      0.43     62291\n",
      "\n",
      "    accuracy                           0.56    124582\n",
      "   macro avg       0.58      0.56      0.54    124582\n",
      "weighted avg       0.58      0.56      0.54    124582\n",
      "\n"
     ]
    }
   ],
   "source": [
    "print(classification_report(y_test, y_pred))"
   ]
  },
  {
   "cell_type": "code",
   "execution_count": 36,
   "metadata": {},
   "outputs": [
    {
     "data": {
      "text/plain": [
       "0.5598722126791993"
      ]
     },
     "execution_count": 36,
     "metadata": {},
     "output_type": "execute_result"
    }
   ],
   "source": [
    "roc_auc_score(y_test, y_pred)"
   ]
  },
  {
   "cell_type": "markdown",
   "metadata": {},
   "source": [
    "If we see the score, precision is 61% which is saying my model is 61% correctly predicting the frauds based on all information given\n",
    "and recall is 33% which is saying that my model is  33% correctly indenfies the actual fraud providers.\n"
   ]
  },
  {
   "cell_type": "markdown",
   "metadata": {},
   "source": [
    "Model has 41629 false negative which is indicating that model is predicting 41629 fraud providers as non fraud provides which \n",
    "is dangerous so let's try another classifier."
   ]
  },
  {
   "cell_type": "markdown",
   "metadata": {},
   "source": [
    "# Decision Tree Classifier"
   ]
  },
  {
   "cell_type": "markdown",
   "metadata": {},
   "source": [
    "A decision tree is a managerial tool that presents all the decision alternatives and outcomes in a flowchart type of diagram, like a tree with branches and leaves. Each branch of the tree represents a decision option, its cost and the probability that it is likely to occur."
   ]
  },
  {
   "cell_type": "code",
   "execution_count": 37,
   "metadata": {},
   "outputs": [],
   "source": [
    "# Instantiate the model\n",
    "\n",
    "dtc = DecisionTreeClassifier(max_depth = 5,\n",
    "                            min_samples_split = 7,\n",
    "                            min_samples_leaf = 3,\n",
    "                            ccp_alpha = 0.01,\n",
    "                            random_state = 42)"
   ]
  },
  {
   "cell_type": "code",
   "execution_count": 38,
   "metadata": {},
   "outputs": [
    {
     "data": {
      "text/plain": [
       "DecisionTreeClassifier(ccp_alpha=0.01, max_depth=5, min_samples_leaf=3,\n",
       "                       min_samples_split=7, random_state=42)"
      ]
     },
     "execution_count": 38,
     "metadata": {},
     "output_type": "execute_result"
    }
   ],
   "source": [
    "# fit the model\n",
    "\n",
    "dtc.fit(X_train, y_train)"
   ]
  },
  {
   "cell_type": "code",
   "execution_count": 39,
   "metadata": {},
   "outputs": [
    {
     "data": {
      "text/plain": [
       "0    115682\n",
       "1    115682\n",
       "Name: is_fraud, dtype: int64"
      ]
     },
     "execution_count": 39,
     "metadata": {},
     "output_type": "execute_result"
    }
   ],
   "source": [
    "y_train.value_counts().sort_index()"
   ]
  },
  {
   "cell_type": "code",
   "execution_count": 40,
   "metadata": {},
   "outputs": [
    {
     "data": {
      "image/png": "[encoded data removed]",
      "text/plain": [
       "<Figure size 720x432 with 1 Axes>"
      ]
     },
     "metadata": {
      "needs_background": "light"
     },
     "output_type": "display_data"
    }
   ],
   "source": [
    "# plotting the decision tree\n",
    "\n",
    "plt.figure(figsize=(10,6))\n",
    "plot_tree(dtc, feature_names=X.columns, \n",
    "           filled=True);"
   ]
  },
  {
   "cell_type": "markdown",
   "metadata": {},
   "source": [
    "As we can see in above tree base graph, my model is taking various decisions and moving \n",
    "to the next branches."
   ]
  },
  {
   "cell_type": "code",
   "execution_count": 41,
   "metadata": {},
   "outputs": [
    {
     "name": "stdout",
     "output_type": "stream",
     "text": [
      "Score on training set: 0.7643151052021923\n",
      "Score on testing set: 0.6433513669711516\n"
     ]
    }
   ],
   "source": [
    "# training and testing score\n",
    "\n",
    "print(f'Score on training set: {dtc.score(X_train, y_train)}')\n",
    "print(f'Score on testing set: {dtc.score(X_test, y_test)}')"
   ]
  },
  {
   "cell_type": "code",
   "execution_count": 42,
   "metadata": {},
   "outputs": [],
   "source": [
    "# prediction of the model\n",
    "\n",
    "preds=dtc.predict(X_test)"
   ]
  },
  {
   "cell_type": "code",
   "execution_count": 43,
   "metadata": {},
   "outputs": [
    {
     "data": {
      "text/plain": [
       "array([0, 0, 0, ..., 0, 1, 1])"
      ]
     },
     "execution_count": 43,
     "metadata": {},
     "output_type": "execute_result"
    }
   ],
   "source": [
    "preds"
   ]
  },
  {
   "cell_type": "code",
   "execution_count": 44,
   "metadata": {},
   "outputs": [],
   "source": [
    "cm=confusion_matrix(y_test, # True values.\n",
    "                 preds) "
   ]
  },
  {
   "cell_type": "code",
   "execution_count": 45,
   "metadata": {},
   "outputs": [
    {
     "data": {
      "image/png": "[encoded data removed]",
      "text/plain": [
       "<Figure size 432x288 with 2 Axes>"
      ]
     },
     "metadata": {
      "needs_background": "light"
     },
     "output_type": "display_data"
    }
   ],
   "source": [
    "plot_confusion_matrix(dtc, X_test, y_test, cmap='Blues', values_format='d');"
   ]
  },
  {
   "cell_type": "code",
   "execution_count": 46,
   "metadata": {},
   "outputs": [
    {
     "name": "stdout",
     "output_type": "stream",
     "text": [
      "True Negatives: 45439\n",
      "True Positives: 34711\n",
      "False Positives: 16852\n",
      "False Negatives: 27580\n"
     ]
    }
   ],
   "source": [
    "\n",
    "tn = cm[0,0]; print(\"True Negatives:\", tn)\n",
    "tp = cm[1,1]; print(\"True Positives:\", tp)\n",
    "fp = cm[0,1]; print(\"False Positives:\", fp)\n",
    "fn = cm[1,0]; print(\"False Negatives:\", fn)"
   ]
  },
  {
   "cell_type": "code",
   "execution_count": 47,
   "metadata": {},
   "outputs": [
    {
     "data": {
      "text/plain": [
       "0.5572394085822993"
      ]
     },
     "execution_count": 47,
     "metadata": {},
     "output_type": "execute_result"
    }
   ],
   "source": [
    "# recall score\n",
    "\n",
    "recall_score(y_test, preds)"
   ]
  },
  {
   "cell_type": "code",
   "execution_count": 48,
   "metadata": {},
   "outputs": [
    {
     "data": {
      "text/plain": [
       "0.6731765025308846"
      ]
     },
     "execution_count": 48,
     "metadata": {},
     "output_type": "execute_result"
    }
   ],
   "source": [
    "# precision score\n",
    "\n",
    "precision_score(y_test, preds)"
   ]
  },
  {
   "cell_type": "code",
   "execution_count": 49,
   "metadata": {},
   "outputs": [
    {
     "name": "stdout",
     "output_type": "stream",
     "text": [
      "              precision    recall  f1-score   support\n",
      "\n",
      "           0       0.62      0.73      0.67     62291\n",
      "           1       0.67      0.56      0.61     62291\n",
      "\n",
      "    accuracy                           0.64    124582\n",
      "   macro avg       0.65      0.64      0.64    124582\n",
      "weighted avg       0.65      0.64      0.64    124582\n",
      "\n"
     ]
    }
   ],
   "source": [
    "print(classification_report(y_test, preds))"
   ]
  },
  {
   "cell_type": "markdown",
   "metadata": {},
   "source": [
    "In this Decision tree model, we reduces our false negetives compared to logistic regression model.\n",
    "It was 41629 and now with decision tree it is 27578 so we improved our score."
   ]
  },
  {
   "cell_type": "markdown",
   "metadata": {},
   "source": [
    "Our precision score is saying that my model 67% correctly predict the fraud and recall score is 56% which is saying that my model is 56% correctly indenfies the actual fraud providers "
   ]
  },
  {
   "cell_type": "markdown",
   "metadata": {},
   "source": [
    "But if you see the training and testing score, there is a big gap between them which shows that \n",
    "my model is highly overfit.So let's try another classifier"
   ]
  },
  {
   "cell_type": "markdown",
   "metadata": {},
   "source": [
    "# Bagging Classifier"
   ]
  },
  {
   "cell_type": "markdown",
   "metadata": {},
   "source": [
    "Bagging takes the advantage of ensemble learning wherein multiple weak learner outperform a single strong learner. It helps reduce variance and thus helps us avoid overfitting."
   ]
  },
  {
   "cell_type": "code",
   "execution_count": 50,
   "metadata": {},
   "outputs": [],
   "source": [
    "# Instantiate the model\n",
    "\n",
    "bag = BaggingClassifier(random_state = 42)"
   ]
  },
  {
   "cell_type": "code",
   "execution_count": 51,
   "metadata": {},
   "outputs": [
    {
     "data": {
      "text/plain": [
       "0.5977508789391726"
      ]
     },
     "execution_count": 51,
     "metadata": {},
     "output_type": "execute_result"
    }
   ],
   "source": [
    "# Fit BaggingClassifier.\n",
    "bag.fit(X_train, y_train)\n",
    "\n",
    "# Score BaggingClassifier.\n",
    "bag.score(X_test, y_test)"
   ]
  },
  {
   "cell_type": "code",
   "execution_count": 52,
   "metadata": {},
   "outputs": [
    {
     "data": {
      "text/plain": [
       "0.999900589547207"
      ]
     },
     "execution_count": 52,
     "metadata": {},
     "output_type": "execute_result"
    }
   ],
   "source": [
    "# training score\n",
    "\n",
    "bag.score(X_train, y_train)"
   ]
  },
  {
   "cell_type": "code",
   "execution_count": 53,
   "metadata": {},
   "outputs": [],
   "source": [
    "# get the prediction\n",
    "\n",
    "preds1=bag.predict(X_test)"
   ]
  },
  {
   "cell_type": "code",
   "execution_count": 54,
   "metadata": {},
   "outputs": [],
   "source": [
    "cm=confusion_matrix(y_test, # True values.\n",
    "                 preds1) "
   ]
  },
  {
   "cell_type": "code",
   "execution_count": 55,
   "metadata": {},
   "outputs": [
    {
     "data": {
      "image/png": "[encoded data removed]",
      "text/plain": [
       "<Figure size 432x288 with 2 Axes>"
      ]
     },
     "metadata": {
      "needs_background": "light"
     },
     "output_type": "display_data"
    }
   ],
   "source": [
    "plot_confusion_matrix(bag, X_test, y_test, cmap='Greens', values_format='d');"
   ]
  },
  {
   "cell_type": "code",
   "execution_count": 56,
   "metadata": {},
   "outputs": [
    {
     "name": "stdout",
     "output_type": "stream",
     "text": [
      "True Negatives: 62157\n",
      "True Positives: 12312\n",
      "False Positives: 134\n",
      "False Negatives: 49979\n"
     ]
    }
   ],
   "source": [
    "\n",
    "tn = cm[0,0]; print(\"True Negatives:\", tn)\n",
    "tp = cm[1,1]; print(\"True Positives:\", tp)\n",
    "fp = cm[0,1]; print(\"False Positives:\", fp)\n",
    "fn = cm[1,0]; print(\"False Negatives:\", fn)"
   ]
  },
  {
   "cell_type": "code",
   "execution_count": 57,
   "metadata": {},
   "outputs": [
    {
     "data": {
      "text/plain": [
       "0.19765295146971473"
      ]
     },
     "execution_count": 57,
     "metadata": {},
     "output_type": "execute_result"
    }
   ],
   "source": [
    "# recall score\n",
    "\n",
    "recall_score(y_test, preds1)"
   ]
  },
  {
   "cell_type": "code",
   "execution_count": 58,
   "metadata": {},
   "outputs": [
    {
     "data": {
      "text/plain": [
       "0.989233488671059"
      ]
     },
     "execution_count": 58,
     "metadata": {},
     "output_type": "execute_result"
    }
   ],
   "source": [
    "# precision score\n",
    "\n",
    "precision_score(y_test, preds1)"
   ]
  },
  {
   "cell_type": "code",
   "execution_count": 59,
   "metadata": {},
   "outputs": [
    {
     "name": "stdout",
     "output_type": "stream",
     "text": [
      "              precision    recall  f1-score   support\n",
      "\n",
      "           0       0.55      1.00      0.71     62291\n",
      "           1       0.99      0.20      0.33     62291\n",
      "\n",
      "    accuracy                           0.60    124582\n",
      "   macro avg       0.77      0.60      0.52    124582\n",
      "weighted avg       0.77      0.60      0.52    124582\n",
      "\n"
     ]
    }
   ],
   "source": [
    "print(classification_report(y_test, preds1))"
   ]
  },
  {
   "cell_type": "markdown",
   "metadata": {},
   "source": [
    "In this Bagging classifier model, we reduces our false positives compared to Decision tree classifier but false negetive is around 51000 which is not acceptable.\n",
    "It was 27578 and now with Bagging classifier it is 50232."
   ]
  },
  {
   "cell_type": "markdown",
   "metadata": {},
   "source": [
    "Recall score is 0.19 which is saying that my model is only 19% correctly indenfies the actual fraud providers whereas the\n",
    "precision score 0.98 which is saying that model is 98% correctly predict the frauds."
   ]
  },
  {
   "cell_type": "markdown",
   "metadata": {},
   "source": [
    "# Random Forest Classifier"
   ]
  },
  {
   "cell_type": "markdown",
   "metadata": {},
   "source": [
    "Random forest adds additional randomness to the model, while growing the trees. Instead of searching for the most important feature while splitting a node, it searches for the best feature among a random subset of features. This results in a wide diversity that generally results in a better model"
   ]
  },
  {
   "cell_type": "code",
   "execution_count": 60,
   "metadata": {},
   "outputs": [],
   "source": [
    "# Instantiate the model\n",
    "\n",
    "rf = RandomForestClassifier(n_estimators=100)"
   ]
  },
  {
   "cell_type": "code",
   "execution_count": 61,
   "metadata": {},
   "outputs": [
    {
     "data": {
      "text/plain": [
       "RandomForestClassifier()"
      ]
     },
     "execution_count": 61,
     "metadata": {},
     "output_type": "execute_result"
    }
   ],
   "source": [
    "# fit the model\n",
    "\n",
    "rf.fit(X_train,y_train)"
   ]
  },
  {
   "cell_type": "code",
   "execution_count": 62,
   "metadata": {},
   "outputs": [],
   "source": [
    "# get the prediction\n",
    "\n",
    "y_pred=rf.predict(X_test)"
   ]
  },
  {
   "cell_type": "code",
   "execution_count": 63,
   "metadata": {},
   "outputs": [
    {
     "data": {
      "text/plain": [
       "1.0"
      ]
     },
     "execution_count": 63,
     "metadata": {},
     "output_type": "execute_result"
    }
   ],
   "source": [
    "# training score\n",
    "\n",
    "rf.score(X_train,y_train)"
   ]
  },
  {
   "cell_type": "code",
   "execution_count": 64,
   "metadata": {},
   "outputs": [
    {
     "data": {
      "text/plain": [
       "0.5424459392207542"
      ]
     },
     "execution_count": 64,
     "metadata": {},
     "output_type": "execute_result"
    }
   ],
   "source": [
    "# testing score\n",
    "\n",
    "rf.score(X_test,y_test)"
   ]
  },
  {
   "cell_type": "code",
   "execution_count": 65,
   "metadata": {},
   "outputs": [],
   "source": [
    "# confusion matrix\n",
    "\n",
    "cm=confusion_matrix(y_test, # True values.\n",
    "                 y_pred) "
   ]
  },
  {
   "cell_type": "code",
   "execution_count": 66,
   "metadata": {},
   "outputs": [
    {
     "data": {
      "image/png": "[encoded data removed]",
      "text/plain": [
       "<Figure size 432x288 with 2 Axes>"
      ]
     },
     "metadata": {
      "needs_background": "light"
     },
     "output_type": "display_data"
    }
   ],
   "source": [
    "plot_confusion_matrix(rf, X_test, y_test, cmap='Blues', values_format='d');"
   ]
  },
  {
   "cell_type": "code",
   "execution_count": 67,
   "metadata": {},
   "outputs": [
    {
     "name": "stdout",
     "output_type": "stream",
     "text": [
      "True Negatives: 62275\n",
      "True Positives: 5304\n",
      "False Positives: 16\n",
      "False Negatives: 56987\n"
     ]
    }
   ],
   "source": [
    "tn = cm[0,0]; print(\"True Negatives:\", tn)\n",
    "tp = cm[1,1]; print(\"True Positives:\", tp)\n",
    "fp = cm[0,1]; print(\"False Positives:\", fp)\n",
    "fn = cm[1,0]; print(\"False Negatives:\", fn)"
   ]
  },
  {
   "cell_type": "code",
   "execution_count": 68,
   "metadata": {},
   "outputs": [
    {
     "data": {
      "text/plain": [
       "0    119262\n",
       "1      5320\n",
       "dtype: int64"
      ]
     },
     "execution_count": 68,
     "metadata": {},
     "output_type": "execute_result"
    }
   ],
   "source": [
    "pd.Series(y_pred).value_counts()"
   ]
  },
  {
   "cell_type": "code",
   "execution_count": 69,
   "metadata": {},
   "outputs": [
    {
     "name": "stdout",
     "output_type": "stream",
     "text": [
      "              precision    recall  f1-score   support\n",
      "\n",
      "           0       0.52      1.00      0.69     62291\n",
      "           1       1.00      0.09      0.16     62291\n",
      "\n",
      "    accuracy                           0.54    124582\n",
      "   macro avg       0.76      0.54      0.42    124582\n",
      "weighted avg       0.76      0.54      0.42    124582\n",
      "\n"
     ]
    }
   ],
   "source": [
    "print(classification_report(y_test, y_pred))"
   ]
  },
  {
   "cell_type": "code",
   "execution_count": 70,
   "metadata": {},
   "outputs": [
    {
     "data": {
      "text/plain": [
       "[('total_drug_cost', 0.11797941985957985),\n",
       " ('total_claim_count', 0.07068611854336018),\n",
       " ('total_day_supply', 0.09152599714200864),\n",
       " ('Opioid Claim Count', 0.07862367245041195),\n",
       " ('Opioid Prescribing Rate', 0.07119249758591356),\n",
       " ('Long-Acting Opioid Claim Count', 0.05110513179518567),\n",
       " ('Long-Acting Opioid Prescribing Rate', 0.04822287721510634),\n",
       " ('Total_Payment_Sum', 0.074917470311692),\n",
       " ('Number of Suppliers', 0.051772671338154753),\n",
       " ('Number of Supplier Beneficiaries', 0.13344262813884716),\n",
       " ('Number of Supplier Claims', 0.04434229705785345),\n",
       " ('Average Supplier Submitted Charge', 0.05157660020915988),\n",
       " ('Average Supplier Medicare Allow Amount', 0.03774412857303979),\n",
       " ('Average Supplier Medicare Payment Amount', 0.03938756200162464),\n",
       " ('Average Supplier Medicare Standard Amount', 0.03748092777806207)]"
      ]
     },
     "execution_count": 70,
     "metadata": {},
     "output_type": "execute_result"
    }
   ],
   "source": [
    "list(zip(X.columns, rf.feature_importances_))"
   ]
  },
  {
   "cell_type": "markdown",
   "metadata": {},
   "source": [
    "Same as above, Random forest model gave me more false negetives which is not good and the \n",
    "recall and precision score are also not relevant."
   ]
  },
  {
   "cell_type": "markdown",
   "metadata": {},
   "source": [
    "# KNeighbors Classifier"
   ]
  },
  {
   "cell_type": "markdown",
   "metadata": {},
   "source": [
    "KNN works by finding the distances between a query and all the examples in the data, selecting the specified number examples (K) closest to the query, then votes for the most frequent label (in the case of classification) or averages the labels (in the case of regression)"
   ]
  },
  {
   "cell_type": "code",
   "execution_count": 71,
   "metadata": {},
   "outputs": [],
   "source": [
    "knn = KNeighborsClassifier( n_neighbors=5)"
   ]
  },
  {
   "cell_type": "code",
   "execution_count": 72,
   "metadata": {},
   "outputs": [
    {
     "data": {
      "text/plain": [
       "KNeighborsClassifier()"
      ]
     },
     "execution_count": 72,
     "metadata": {},
     "output_type": "execute_result"
    }
   ],
   "source": [
    "knn.fit(X_train, y_train)"
   ]
  },
  {
   "cell_type": "code",
   "execution_count": 73,
   "metadata": {},
   "outputs": [],
   "source": [
    "y_preds=knn.predict(X_test)"
   ]
  },
  {
   "cell_type": "code",
   "execution_count": 74,
   "metadata": {},
   "outputs": [
    {
     "name": "stdout",
     "output_type": "stream",
     "text": [
      "What is the baseline or prevalance in my y_test? 0.5\n"
     ]
    }
   ],
   "source": [
    "print(\"What is the baseline or prevalance in my y_test?\", 1 - y_test.mean())"
   ]
  },
  {
   "cell_type": "code",
   "execution_count": 75,
   "metadata": {},
   "outputs": [],
   "source": [
    "# confusion matrix\n",
    "\n",
    "cm=confusion_matrix(y_test, # True values.\n",
    "                 y_preds) "
   ]
  },
  {
   "cell_type": "code",
   "execution_count": 76,
   "metadata": {},
   "outputs": [
    {
     "data": {
      "image/png": "[encoded data removed]",
      "text/plain": [
       "<Figure size 432x288 with 2 Axes>"
      ]
     },
     "metadata": {
      "needs_background": "light"
     },
     "output_type": "display_data"
    }
   ],
   "source": [
    "plot_confusion_matrix(knn, X_test, y_test, cmap='Blues', values_format='d');"
   ]
  },
  {
   "cell_type": "code",
   "execution_count": 77,
   "metadata": {},
   "outputs": [
    {
     "name": "stdout",
     "output_type": "stream",
     "text": [
      "True Negatives: 57942\n",
      "True Positives: 4951\n",
      "False Positives: 4349\n",
      "False Negatives: 57340\n"
     ]
    }
   ],
   "source": [
    "tn = cm[0,0]; print(\"True Negatives:\", tn)\n",
    "tp = cm[1,1]; print(\"True Positives:\", tp)\n",
    "fp = cm[0,1]; print(\"False Positives:\", fp)\n",
    "fn = cm[1,0]; print(\"False Negatives:\", fn)"
   ]
  },
  {
   "cell_type": "markdown",
   "metadata": {},
   "source": [
    "Here we got 57342 false negative which is showing my model incorrectly predict 57342\n",
    "non fraud providers which are fraud that is showing my model did not work well"
   ]
  },
  {
   "cell_type": "code",
   "execution_count": 78,
   "metadata": {},
   "outputs": [
    {
     "name": "stdout",
     "output_type": "stream",
     "text": [
      "              precision    recall  f1-score   support\n",
      "\n",
      "           0       0.50      0.93      0.65     62291\n",
      "           1       0.53      0.08      0.14     62291\n",
      "\n",
      "    accuracy                           0.50    124582\n",
      "   macro avg       0.52      0.50      0.40    124582\n",
      "weighted avg       0.52      0.50      0.40    124582\n",
      "\n"
     ]
    }
   ],
   "source": [
    "print(classification_report(y_test, y_preds))"
   ]
  },
  {
   "cell_type": "markdown",
   "metadata": {},
   "source": [
    "Recall score is 0.08 which is saying my model is 8% correctly identifying the frauds as well as the precision\n",
    "score is saying that my model 53% correctly predict the frauds"
   ]
  },
  {
   "cell_type": "markdown",
   "metadata": {},
   "source": [
    "# Bernoulli Naive Bayes "
   ]
  },
  {
   "cell_type": "markdown",
   "metadata": {},
   "source": [
    "A Naive Bayes classifier is a probabilistic machine learning model that’s used for classification task. The crux of the classifier is based on the Bayes theorem"
   ]
  },
  {
   "cell_type": "code",
   "execution_count": 79,
   "metadata": {},
   "outputs": [],
   "source": [
    "# Instantiate the model\n",
    "\n",
    "model=BernoulliNB()"
   ]
  },
  {
   "cell_type": "code",
   "execution_count": 80,
   "metadata": {},
   "outputs": [
    {
     "data": {
      "text/plain": [
       "BernoulliNB()"
      ]
     },
     "execution_count": 80,
     "metadata": {},
     "output_type": "execute_result"
    }
   ],
   "source": [
    "# fit the model\n",
    "\n",
    "model.fit(X_train,y_train)"
   ]
  },
  {
   "cell_type": "code",
   "execution_count": 81,
   "metadata": {},
   "outputs": [
    {
     "data": {
      "text/plain": [
       "0.6475337563320136"
      ]
     },
     "execution_count": 81,
     "metadata": {},
     "output_type": "execute_result"
    }
   ],
   "source": [
    "# train score\n",
    "model.score(X_train,y_train)"
   ]
  },
  {
   "cell_type": "code",
   "execution_count": 82,
   "metadata": {},
   "outputs": [
    {
     "data": {
      "text/plain": [
       "0.5908638487100866"
      ]
     },
     "execution_count": 82,
     "metadata": {},
     "output_type": "execute_result"
    }
   ],
   "source": [
    "# test score\n",
    "\n",
    "model.score(X_test,y_test)"
   ]
  },
  {
   "cell_type": "code",
   "execution_count": 83,
   "metadata": {},
   "outputs": [],
   "source": [
    "y_pred=model.predict(X_test)"
   ]
  },
  {
   "cell_type": "code",
   "execution_count": 84,
   "metadata": {},
   "outputs": [
    {
     "name": "stdout",
     "output_type": "stream",
     "text": [
      "              precision    recall  f1-score   support\n",
      "\n",
      "           0       0.57      0.72      0.64     62291\n",
      "           1       0.62      0.46      0.53     62291\n",
      "\n",
      "    accuracy                           0.59    124582\n",
      "   macro avg       0.60      0.59      0.58    124582\n",
      "weighted avg       0.60      0.59      0.58    124582\n",
      "\n"
     ]
    }
   ],
   "source": [
    "print(classification_report(y_test, y_pred))"
   ]
  },
  {
   "cell_type": "code",
   "execution_count": 85,
   "metadata": {},
   "outputs": [],
   "source": [
    "cm=confusion_matrix(y_test, # True values.\n",
    "                 y_pred)"
   ]
  },
  {
   "cell_type": "code",
   "execution_count": 86,
   "metadata": {},
   "outputs": [
    {
     "data": {
      "image/png": "[encoded data removed]",
      "text/plain": [
       "<Figure size 432x288 with 2 Axes>"
      ]
     },
     "metadata": {
      "needs_background": "light"
     },
     "output_type": "display_data"
    }
   ],
   "source": [
    "plot_confusion_matrix(model, X_test, y_test, cmap='Blues', values_format='d');"
   ]
  },
  {
   "cell_type": "code",
   "execution_count": 87,
   "metadata": {},
   "outputs": [
    {
     "data": {
      "text/plain": [
       "0.45868584546724245"
      ]
     },
     "execution_count": 87,
     "metadata": {},
     "output_type": "execute_result"
    }
   ],
   "source": [
    "# recall score\n",
    "\n",
    "recall_score(y_test, y_pred)"
   ]
  },
  {
   "cell_type": "code",
   "execution_count": 88,
   "metadata": {},
   "outputs": [
    {
     "data": {
      "text/plain": [
       "0.6235160614525139"
      ]
     },
     "execution_count": 88,
     "metadata": {},
     "output_type": "execute_result"
    }
   ],
   "source": [
    "# precision score\n",
    "\n",
    "precision_score(y_test, y_pred)"
   ]
  },
  {
   "cell_type": "markdown",
   "metadata": {},
   "source": [
    "My model is giving recall score 0.46 which is saying my model is 46% correctly identifies the actual fraud providers and\n",
    "67% correctly predict the fraud providers"
   ]
  },
  {
   "cell_type": "markdown",
   "metadata": {},
   "source": [
    "# HistGradient Boosting"
   ]
  },
  {
   "cell_type": "code",
   "execution_count": 89,
   "metadata": {},
   "outputs": [],
   "source": [
    "model = HistGradientBoostingClassifier()\n",
    "cv = RepeatedStratifiedKFold(n_splits=15, n_repeats=3, random_state=1)\n",
    "n_scores = cross_val_score(model, X_train, y_train, scoring='accuracy', cv=cv, n_jobs=-1, error_score='raise')\n"
   ]
  },
  {
   "cell_type": "code",
   "execution_count": 90,
   "metadata": {},
   "outputs": [],
   "source": [
    "# model = HistGradientBoostingClassifier()\n",
    "model.fit(X_train, y_train)\n",
    "\n",
    "yhat = model.predict(X_test)\n"
   ]
  },
  {
   "cell_type": "code",
   "execution_count": 91,
   "metadata": {},
   "outputs": [],
   "source": [
    "yhat = model.predict(X_test)"
   ]
  },
  {
   "cell_type": "code",
   "execution_count": 92,
   "metadata": {},
   "outputs": [],
   "source": [
    "cm = confusion_matrix(y_test, yhat)"
   ]
  },
  {
   "cell_type": "code",
   "execution_count": 93,
   "metadata": {},
   "outputs": [
    {
     "data": {
      "image/png": "[encoded data removed]",
      "text/plain": [
       "<Figure size 432x288 with 2 Axes>"
      ]
     },
     "metadata": {
      "needs_background": "light"
     },
     "output_type": "display_data"
    }
   ],
   "source": [
    "plot_confusion_matrix(model, X_test, y_test, cmap='Blues', values_format='d');"
   ]
  },
  {
   "cell_type": "code",
   "execution_count": 94,
   "metadata": {},
   "outputs": [
    {
     "name": "stdout",
     "output_type": "stream",
     "text": [
      "True Negatives: 61113\n",
      "True Positives: 12609\n",
      "False Positives: 1178\n",
      "False Negatives: 49682\n"
     ]
    }
   ],
   "source": [
    "\n",
    "tn = cm[0,0]; print(\"True Negatives:\", tn)\n",
    "tp = cm[1,1]; print(\"True Positives:\", tp)\n",
    "fp = cm[0,1]; print(\"False Positives:\", fp)\n",
    "fn = cm[1,0]; print(\"False Negatives:\", fn)"
   ]
  },
  {
   "cell_type": "code",
   "execution_count": 95,
   "metadata": {},
   "outputs": [
    {
     "name": "stdout",
     "output_type": "stream",
     "text": [
      "              precision    recall  f1-score   support\n",
      "\n",
      "           0       0.55      0.98      0.71     62291\n",
      "           1       0.91      0.20      0.33     62291\n",
      "\n",
      "    accuracy                           0.59    124582\n",
      "   macro avg       0.73      0.59      0.52    124582\n",
      "weighted avg       0.73      0.59      0.52    124582\n",
      "\n"
     ]
    }
   ],
   "source": [
    "print(classification_report(y_test, yhat))"
   ]
  },
  {
   "cell_type": "markdown",
   "metadata": {},
   "source": [
    "My model is giving recall score 0.24 which is saying my model is 24% correctly identifies the actual fraud providers and\n",
    "98% correctly predict the fraud providers"
   ]
  },
  {
   "cell_type": "markdown",
   "metadata": {},
   "source": [
    "After running all models you can see that all model gave me high number of false negatives\n",
    "which is saying that my models are incorrectly predicting high numbers of non fraud peoviders which \n",
    "are actual fraud.\n",
    "\n",
    "If I look all the models Logistic regression gave me only around 27000 false negtive with precision score 0.60 which is saying the logistic regression 60% correctly predictes the frauds."
   ]
  },
  {
   "cell_type": "code",
   "execution_count": null,
   "metadata": {},
   "outputs": [],
   "source": []
  }
 ],
 "metadata": {
  "kernelspec": {
   "display_name": "Python 3",
   "language": "python",
   "name": "python3"
  },
  "language_info": {
   "codemirror_mode": {
    "name": "ipython",
    "version": 3
   },
   "file_extension": ".py",
   "mimetype": "text/x-python",
   "name": "python",
   "nbconvert_exporter": "python",
   "pygments_lexer": "ipython3",
   "version": "3.8.3"
  }
 },
 "nbformat": 4,
 "nbformat_minor": 4
}

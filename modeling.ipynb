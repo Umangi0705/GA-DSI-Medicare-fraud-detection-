{
 "cells": [
  {
   "cell_type": "markdown",
   "metadata": {},
   "source": [
    "In this notebook, I will perform modeling using different classification methods and evaluate all models\n",
    "using confusion matrix and classification matrix."
   ]
  },
  {
   "cell_type": "code",
   "execution_count": 2,
   "metadata": {},
   "outputs": [],
   "source": [
    "import pandas as pd\n",
    "import numpy as np\n",
    "import seaborn as sns\n",
    "import matplotlib.pyplot as plt\n",
    "from matplotlib import pyplot\n",
    "from sklearn.svm import SVC\n",
    "from sklearn.svm import LinearSVC\n",
    "from sklearn.ensemble import IsolationForest\n",
    "from sklearn.metrics import roc_curve\n",
    "from sklearn.preprocessing import StandardScaler\n",
    "from sklearn.linear_model import LogisticRegression\n",
    "from imblearn.over_sampling import RandomOverSampler, SMOTE\n",
    "from sklearn.tree import DecisionTreeClassifier, plot_tree, export_text\n",
    "from sklearn.model_selection import train_test_split, cross_val_score, KFold\n",
    "from sklearn.metrics import confusion_matrix, classification_report, \\\n",
    "recall_score, precision_score, accuracy_score, plot_confusion_matrix, roc_auc_score\n",
    "from sklearn.ensemble import RandomForestClassifier, ExtraTreesClassifier, BaggingClassifier, \\\n",
    "GradientBoostingClassifier,AdaBoostClassifier, VotingClassifier\n",
    "from sklearn.metrics import precision_recall_curve,f1_score\n",
    "from sklearn.experimental import enable_hist_gradient_boosting\n",
    "from sklearn.ensemble import HistGradientBoostingClassifier\n",
    "from sklearn.model_selection import cross_val_score\n",
    "from sklearn.model_selection import RepeatedStratifiedKFold\n",
    "from sklearn.neighbors import KNeighborsClassifier\n",
    "from sklearn.model_selection import GridSearchCV\n",
    "from sklearn.pipeline import Pipeline\n",
    "from sklearn.naive_bayes import BernoulliNB"
   ]
  },
  {
   "cell_type": "code",
   "execution_count": 3,
   "metadata": {},
   "outputs": [],
   "source": [
    "df=pd.read_csv(\"./datasets/final_data.csv\",index_col=0)"
   ]
  },
  {
   "cell_type": "markdown",
   "metadata": {},
   "source": [
    "Checking the null data in our dataset"
   ]
  },
  {
   "cell_type": "code",
   "execution_count": 4,
   "metadata": {},
   "outputs": [
    {
     "data": {
      "text/plain": [
       "NPI                                          0\n",
       "Name                                         0\n",
       "city                                         0\n",
       "state                                        0\n",
       "specialty_description                        0\n",
       "total_drug_cost                              0\n",
       "total_claim_count                            0\n",
       "total_day_supply                             0\n",
       "Opioid Claim Count                           0\n",
       "Opioid Prescribing Rate                      0\n",
       "Long-Acting Opioid Claim Count               0\n",
       "Long-Acting Opioid Prescribing Rate          0\n",
       "Total_Payment_Sum                            0\n",
       "Supplier Rental Indicator                    0\n",
       "Number of Suppliers                          0\n",
       "Number of Supplier Beneficiaries             0\n",
       "Number of Supplier Claims                    0\n",
       "Average Supplier Submitted Charge            0\n",
       "Average Supplier Medicare Allow Amount       0\n",
       "Average Supplier Medicare Payment Amount     0\n",
       "Average Supplier Medicare Standard Amount    0\n",
       "is_fraud                                     0\n",
       "dtype: int64"
      ]
     },
     "execution_count": 4,
     "metadata": {},
     "output_type": "execute_result"
    }
   ],
   "source": [
    "df.isnull().sum()"
   ]
  },
  {
   "cell_type": "code",
   "execution_count": 5,
   "metadata": {},
   "outputs": [
    {
     "data": {
      "text/plain": [
       "Index(['NPI', 'Name', 'city', 'state', 'specialty_description',\n",
       "       'total_drug_cost', 'total_claim_count', 'total_day_supply',\n",
       "       'Opioid Claim Count', 'Opioid Prescribing Rate',\n",
       "       'Long-Acting Opioid Claim Count', 'Long-Acting Opioid Prescribing Rate',\n",
       "       'Total_Payment_Sum', 'Supplier Rental Indicator', 'Number of Suppliers',\n",
       "       'Number of Supplier Beneficiaries', 'Number of Supplier Claims',\n",
       "       'Average Supplier Submitted Charge',\n",
       "       'Average Supplier Medicare Allow Amount',\n",
       "       'Average Supplier Medicare Payment Amount',\n",
       "       'Average Supplier Medicare Standard Amount', 'is_fraud'],\n",
       "      dtype='object')"
      ]
     },
     "execution_count": 5,
     "metadata": {},
     "output_type": "execute_result"
    }
   ],
   "source": [
    "df.columns"
   ]
  },
  {
   "cell_type": "markdown",
   "metadata": {},
   "source": [
    "Checking the multi colinearity of the dataset"
   ]
  },
  {
   "cell_type": "code",
   "execution_count": 7,
   "metadata": {},
   "outputs": [
    {
     "data": {
      "text/html": [
       "<div>\n",
       "<style scoped>\n",
       "    .dataframe tbody tr th:only-of-type {\n",
       "        vertical-align: middle;\n",
       "    }\n",
       "\n",
       "    .dataframe tbody tr th {\n",
       "        vertical-align: top;\n",
       "    }\n",
       "\n",
       "    .dataframe thead th {\n",
       "        text-align: right;\n",
       "    }\n",
       "</style>\n",
       "<table border=\"1\" class=\"dataframe\">\n",
       "  <thead>\n",
       "    <tr style=\"text-align: right;\">\n",
       "      <th></th>\n",
       "      <th>NPI</th>\n",
       "      <th>total_drug_cost</th>\n",
       "      <th>total_claim_count</th>\n",
       "      <th>total_day_supply</th>\n",
       "      <th>Opioid Claim Count</th>\n",
       "      <th>Opioid Prescribing Rate</th>\n",
       "      <th>Long-Acting Opioid Claim Count</th>\n",
       "      <th>Long-Acting Opioid Prescribing Rate</th>\n",
       "      <th>Total_Payment_Sum</th>\n",
       "      <th>Supplier Rental Indicator</th>\n",
       "      <th>Number of Suppliers</th>\n",
       "      <th>Number of Supplier Beneficiaries</th>\n",
       "      <th>Number of Supplier Claims</th>\n",
       "      <th>Average Supplier Submitted Charge</th>\n",
       "      <th>Average Supplier Medicare Allow Amount</th>\n",
       "      <th>Average Supplier Medicare Payment Amount</th>\n",
       "      <th>Average Supplier Medicare Standard Amount</th>\n",
       "      <th>is_fraud</th>\n",
       "    </tr>\n",
       "  </thead>\n",
       "  <tbody>\n",
       "    <tr>\n",
       "      <th>NPI</th>\n",
       "      <td>1.000000</td>\n",
       "      <td>-0.000838</td>\n",
       "      <td>-0.001432</td>\n",
       "      <td>-0.000505</td>\n",
       "      <td>-0.000215</td>\n",
       "      <td>0.000814</td>\n",
       "      <td>-0.001643</td>\n",
       "      <td>0.001241</td>\n",
       "      <td>-0.003870</td>\n",
       "      <td>0.000169</td>\n",
       "      <td>0.001677</td>\n",
       "      <td>-0.000680</td>\n",
       "      <td>0.000086</td>\n",
       "      <td>-0.000747</td>\n",
       "      <td>-0.000453</td>\n",
       "      <td>-0.000446</td>\n",
       "      <td>-0.000458</td>\n",
       "      <td>0.002956</td>\n",
       "    </tr>\n",
       "    <tr>\n",
       "      <th>total_drug_cost</th>\n",
       "      <td>-0.000838</td>\n",
       "      <td>1.000000</td>\n",
       "      <td>0.537631</td>\n",
       "      <td>0.496580</td>\n",
       "      <td>0.275614</td>\n",
       "      <td>-0.147505</td>\n",
       "      <td>0.179097</td>\n",
       "      <td>0.192682</td>\n",
       "      <td>0.022279</td>\n",
       "      <td>0.264542</td>\n",
       "      <td>0.327365</td>\n",
       "      <td>0.144714</td>\n",
       "      <td>0.213662</td>\n",
       "      <td>0.159373</td>\n",
       "      <td>0.103937</td>\n",
       "      <td>0.101193</td>\n",
       "      <td>0.101160</td>\n",
       "      <td>0.004455</td>\n",
       "    </tr>\n",
       "    <tr>\n",
       "      <th>total_claim_count</th>\n",
       "      <td>-0.001432</td>\n",
       "      <td>0.537631</td>\n",
       "      <td>1.000000</td>\n",
       "      <td>0.912678</td>\n",
       "      <td>0.540587</td>\n",
       "      <td>-0.166710</td>\n",
       "      <td>0.270295</td>\n",
       "      <td>0.188870</td>\n",
       "      <td>-0.007571</td>\n",
       "      <td>0.457285</td>\n",
       "      <td>0.326317</td>\n",
       "      <td>0.075941</td>\n",
       "      <td>0.167013</td>\n",
       "      <td>0.158793</td>\n",
       "      <td>0.076025</td>\n",
       "      <td>0.070837</td>\n",
       "      <td>0.068083</td>\n",
       "      <td>0.006752</td>\n",
       "    </tr>\n",
       "    <tr>\n",
       "      <th>total_day_supply</th>\n",
       "      <td>-0.000505</td>\n",
       "      <td>0.496580</td>\n",
       "      <td>0.912678</td>\n",
       "      <td>1.000000</td>\n",
       "      <td>0.481991</td>\n",
       "      <td>-0.213925</td>\n",
       "      <td>0.211973</td>\n",
       "      <td>0.165469</td>\n",
       "      <td>-0.010239</td>\n",
       "      <td>0.419752</td>\n",
       "      <td>0.341451</td>\n",
       "      <td>0.059414</td>\n",
       "      <td>0.141373</td>\n",
       "      <td>0.140181</td>\n",
       "      <td>0.049146</td>\n",
       "      <td>0.043784</td>\n",
       "      <td>0.040875</td>\n",
       "      <td>0.004609</td>\n",
       "    </tr>\n",
       "    <tr>\n",
       "      <th>Opioid Claim Count</th>\n",
       "      <td>-0.000215</td>\n",
       "      <td>0.275614</td>\n",
       "      <td>0.540587</td>\n",
       "      <td>0.481991</td>\n",
       "      <td>1.000000</td>\n",
       "      <td>0.239469</td>\n",
       "      <td>0.808875</td>\n",
       "      <td>0.305827</td>\n",
       "      <td>-0.001872</td>\n",
       "      <td>0.274989</td>\n",
       "      <td>0.136726</td>\n",
       "      <td>0.017685</td>\n",
       "      <td>0.064437</td>\n",
       "      <td>0.127631</td>\n",
       "      <td>0.093340</td>\n",
       "      <td>0.090327</td>\n",
       "      <td>0.085309</td>\n",
       "      <td>0.026435</td>\n",
       "    </tr>\n",
       "    <tr>\n",
       "      <th>Opioid Prescribing Rate</th>\n",
       "      <td>0.000814</td>\n",
       "      <td>-0.147505</td>\n",
       "      <td>-0.166710</td>\n",
       "      <td>-0.213925</td>\n",
       "      <td>0.239469</td>\n",
       "      <td>1.000000</td>\n",
       "      <td>0.207296</td>\n",
       "      <td>0.070185</td>\n",
       "      <td>0.031551</td>\n",
       "      <td>-0.148563</td>\n",
       "      <td>-0.185242</td>\n",
       "      <td>-0.061500</td>\n",
       "      <td>-0.108470</td>\n",
       "      <td>-0.016054</td>\n",
       "      <td>0.085734</td>\n",
       "      <td>0.087861</td>\n",
       "      <td>0.087198</td>\n",
       "      <td>0.002791</td>\n",
       "    </tr>\n",
       "    <tr>\n",
       "      <th>Long-Acting Opioid Claim Count</th>\n",
       "      <td>-0.001643</td>\n",
       "      <td>0.179097</td>\n",
       "      <td>0.270295</td>\n",
       "      <td>0.211973</td>\n",
       "      <td>0.808875</td>\n",
       "      <td>0.207296</td>\n",
       "      <td>1.000000</td>\n",
       "      <td>0.414935</td>\n",
       "      <td>-0.001593</td>\n",
       "      <td>0.137284</td>\n",
       "      <td>0.050319</td>\n",
       "      <td>0.005226</td>\n",
       "      <td>0.028437</td>\n",
       "      <td>0.079071</td>\n",
       "      <td>0.066047</td>\n",
       "      <td>0.064694</td>\n",
       "      <td>0.060377</td>\n",
       "      <td>0.029568</td>\n",
       "    </tr>\n",
       "    <tr>\n",
       "      <th>Long-Acting Opioid Prescribing Rate</th>\n",
       "      <td>0.001241</td>\n",
       "      <td>0.192682</td>\n",
       "      <td>0.188870</td>\n",
       "      <td>0.165469</td>\n",
       "      <td>0.305827</td>\n",
       "      <td>0.070185</td>\n",
       "      <td>0.414935</td>\n",
       "      <td>1.000000</td>\n",
       "      <td>-0.002458</td>\n",
       "      <td>0.155218</td>\n",
       "      <td>0.035814</td>\n",
       "      <td>-0.013277</td>\n",
       "      <td>0.015487</td>\n",
       "      <td>0.045541</td>\n",
       "      <td>0.003680</td>\n",
       "      <td>0.001734</td>\n",
       "      <td>-0.000487</td>\n",
       "      <td>0.005681</td>\n",
       "    </tr>\n",
       "    <tr>\n",
       "      <th>Total_Payment_Sum</th>\n",
       "      <td>-0.003870</td>\n",
       "      <td>0.022279</td>\n",
       "      <td>-0.007571</td>\n",
       "      <td>-0.010239</td>\n",
       "      <td>-0.001872</td>\n",
       "      <td>0.031551</td>\n",
       "      <td>-0.001593</td>\n",
       "      <td>-0.002458</td>\n",
       "      <td>1.000000</td>\n",
       "      <td>-0.009582</td>\n",
       "      <td>0.000028</td>\n",
       "      <td>0.002989</td>\n",
       "      <td>0.000477</td>\n",
       "      <td>0.007894</td>\n",
       "      <td>0.016270</td>\n",
       "      <td>0.016383</td>\n",
       "      <td>0.016420</td>\n",
       "      <td>-0.001041</td>\n",
       "    </tr>\n",
       "    <tr>\n",
       "      <th>Supplier Rental Indicator</th>\n",
       "      <td>0.000169</td>\n",
       "      <td>0.264542</td>\n",
       "      <td>0.457285</td>\n",
       "      <td>0.419752</td>\n",
       "      <td>0.274989</td>\n",
       "      <td>-0.148563</td>\n",
       "      <td>0.137284</td>\n",
       "      <td>0.155218</td>\n",
       "      <td>-0.009582</td>\n",
       "      <td>1.000000</td>\n",
       "      <td>0.615698</td>\n",
       "      <td>0.361775</td>\n",
       "      <td>0.499534</td>\n",
       "      <td>0.570964</td>\n",
       "      <td>0.362529</td>\n",
       "      <td>0.353361</td>\n",
       "      <td>0.353252</td>\n",
       "      <td>-0.000758</td>\n",
       "    </tr>\n",
       "    <tr>\n",
       "      <th>Number of Suppliers</th>\n",
       "      <td>0.001677</td>\n",
       "      <td>0.327365</td>\n",
       "      <td>0.326317</td>\n",
       "      <td>0.341451</td>\n",
       "      <td>0.136726</td>\n",
       "      <td>-0.185242</td>\n",
       "      <td>0.050319</td>\n",
       "      <td>0.035814</td>\n",
       "      <td>0.000028</td>\n",
       "      <td>0.615698</td>\n",
       "      <td>1.000000</td>\n",
       "      <td>0.731610</td>\n",
       "      <td>0.822337</td>\n",
       "      <td>0.522888</td>\n",
       "      <td>0.360207</td>\n",
       "      <td>0.352204</td>\n",
       "      <td>0.353781</td>\n",
       "      <td>0.002340</td>\n",
       "    </tr>\n",
       "    <tr>\n",
       "      <th>Number of Supplier Beneficiaries</th>\n",
       "      <td>-0.000680</td>\n",
       "      <td>0.144714</td>\n",
       "      <td>0.075941</td>\n",
       "      <td>0.059414</td>\n",
       "      <td>0.017685</td>\n",
       "      <td>-0.061500</td>\n",
       "      <td>0.005226</td>\n",
       "      <td>-0.013277</td>\n",
       "      <td>0.002989</td>\n",
       "      <td>0.361775</td>\n",
       "      <td>0.731610</td>\n",
       "      <td>1.000000</td>\n",
       "      <td>0.936172</td>\n",
       "      <td>0.412642</td>\n",
       "      <td>0.325281</td>\n",
       "      <td>0.320318</td>\n",
       "      <td>0.321345</td>\n",
       "      <td>0.001855</td>\n",
       "    </tr>\n",
       "    <tr>\n",
       "      <th>Number of Supplier Claims</th>\n",
       "      <td>0.000086</td>\n",
       "      <td>0.213662</td>\n",
       "      <td>0.167013</td>\n",
       "      <td>0.141373</td>\n",
       "      <td>0.064437</td>\n",
       "      <td>-0.108470</td>\n",
       "      <td>0.028437</td>\n",
       "      <td>0.015487</td>\n",
       "      <td>0.000477</td>\n",
       "      <td>0.499534</td>\n",
       "      <td>0.822337</td>\n",
       "      <td>0.936172</td>\n",
       "      <td>1.000000</td>\n",
       "      <td>0.474749</td>\n",
       "      <td>0.339623</td>\n",
       "      <td>0.333504</td>\n",
       "      <td>0.335049</td>\n",
       "      <td>0.001218</td>\n",
       "    </tr>\n",
       "    <tr>\n",
       "      <th>Average Supplier Submitted Charge</th>\n",
       "      <td>-0.000747</td>\n",
       "      <td>0.159373</td>\n",
       "      <td>0.158793</td>\n",
       "      <td>0.140181</td>\n",
       "      <td>0.127631</td>\n",
       "      <td>-0.016054</td>\n",
       "      <td>0.079071</td>\n",
       "      <td>0.045541</td>\n",
       "      <td>0.007894</td>\n",
       "      <td>0.570964</td>\n",
       "      <td>0.522888</td>\n",
       "      <td>0.412642</td>\n",
       "      <td>0.474749</td>\n",
       "      <td>1.000000</td>\n",
       "      <td>0.866600</td>\n",
       "      <td>0.862735</td>\n",
       "      <td>0.861280</td>\n",
       "      <td>0.000510</td>\n",
       "    </tr>\n",
       "    <tr>\n",
       "      <th>Average Supplier Medicare Allow Amount</th>\n",
       "      <td>-0.000453</td>\n",
       "      <td>0.103937</td>\n",
       "      <td>0.076025</td>\n",
       "      <td>0.049146</td>\n",
       "      <td>0.093340</td>\n",
       "      <td>0.085734</td>\n",
       "      <td>0.066047</td>\n",
       "      <td>0.003680</td>\n",
       "      <td>0.016270</td>\n",
       "      <td>0.362529</td>\n",
       "      <td>0.360207</td>\n",
       "      <td>0.325281</td>\n",
       "      <td>0.339623</td>\n",
       "      <td>0.866600</td>\n",
       "      <td>1.000000</td>\n",
       "      <td>0.999731</td>\n",
       "      <td>0.998351</td>\n",
       "      <td>0.000971</td>\n",
       "    </tr>\n",
       "    <tr>\n",
       "      <th>Average Supplier Medicare Payment Amount</th>\n",
       "      <td>-0.000446</td>\n",
       "      <td>0.101193</td>\n",
       "      <td>0.070837</td>\n",
       "      <td>0.043784</td>\n",
       "      <td>0.090327</td>\n",
       "      <td>0.087861</td>\n",
       "      <td>0.064694</td>\n",
       "      <td>0.001734</td>\n",
       "      <td>0.016383</td>\n",
       "      <td>0.353361</td>\n",
       "      <td>0.352204</td>\n",
       "      <td>0.320318</td>\n",
       "      <td>0.333504</td>\n",
       "      <td>0.862735</td>\n",
       "      <td>0.999731</td>\n",
       "      <td>1.000000</td>\n",
       "      <td>0.998595</td>\n",
       "      <td>0.000887</td>\n",
       "    </tr>\n",
       "    <tr>\n",
       "      <th>Average Supplier Medicare Standard Amount</th>\n",
       "      <td>-0.000458</td>\n",
       "      <td>0.101160</td>\n",
       "      <td>0.068083</td>\n",
       "      <td>0.040875</td>\n",
       "      <td>0.085309</td>\n",
       "      <td>0.087198</td>\n",
       "      <td>0.060377</td>\n",
       "      <td>-0.000487</td>\n",
       "      <td>0.016420</td>\n",
       "      <td>0.353252</td>\n",
       "      <td>0.353781</td>\n",
       "      <td>0.321345</td>\n",
       "      <td>0.335049</td>\n",
       "      <td>0.861280</td>\n",
       "      <td>0.998351</td>\n",
       "      <td>0.998595</td>\n",
       "      <td>1.000000</td>\n",
       "      <td>0.000861</td>\n",
       "    </tr>\n",
       "    <tr>\n",
       "      <th>is_fraud</th>\n",
       "      <td>0.002956</td>\n",
       "      <td>0.004455</td>\n",
       "      <td>0.006752</td>\n",
       "      <td>0.004609</td>\n",
       "      <td>0.026435</td>\n",
       "      <td>0.002791</td>\n",
       "      <td>0.029568</td>\n",
       "      <td>0.005681</td>\n",
       "      <td>-0.001041</td>\n",
       "      <td>-0.000758</td>\n",
       "      <td>0.002340</td>\n",
       "      <td>0.001855</td>\n",
       "      <td>0.001218</td>\n",
       "      <td>0.000510</td>\n",
       "      <td>0.000971</td>\n",
       "      <td>0.000887</td>\n",
       "      <td>0.000861</td>\n",
       "      <td>1.000000</td>\n",
       "    </tr>\n",
       "  </tbody>\n",
       "</table>\n",
       "</div>"
      ],
      "text/plain": [
       "                                                NPI  total_drug_cost  \\\n",
       "NPI                                        1.000000        -0.000838   \n",
       "total_drug_cost                           -0.000838         1.000000   \n",
       "total_claim_count                         -0.001432         0.537631   \n",
       "total_day_supply                          -0.000505         0.496580   \n",
       "Opioid Claim Count                        -0.000215         0.275614   \n",
       "Opioid Prescribing Rate                    0.000814        -0.147505   \n",
       "Long-Acting Opioid Claim Count            -0.001643         0.179097   \n",
       "Long-Acting Opioid Prescribing Rate        0.001241         0.192682   \n",
       "Total_Payment_Sum                         -0.003870         0.022279   \n",
       "Supplier Rental Indicator                  0.000169         0.264542   \n",
       "Number of Suppliers                        0.001677         0.327365   \n",
       "Number of Supplier Beneficiaries          -0.000680         0.144714   \n",
       "Number of Supplier Claims                  0.000086         0.213662   \n",
       "Average Supplier Submitted Charge         -0.000747         0.159373   \n",
       "Average Supplier Medicare Allow Amount    -0.000453         0.103937   \n",
       "Average Supplier Medicare Payment Amount  -0.000446         0.101193   \n",
       "Average Supplier Medicare Standard Amount -0.000458         0.101160   \n",
       "is_fraud                                   0.002956         0.004455   \n",
       "\n",
       "                                           total_claim_count  \\\n",
       "NPI                                                -0.001432   \n",
       "total_drug_cost                                     0.537631   \n",
       "total_claim_count                                   1.000000   \n",
       "total_day_supply                                    0.912678   \n",
       "Opioid Claim Count                                  0.540587   \n",
       "Opioid Prescribing Rate                            -0.166710   \n",
       "Long-Acting Opioid Claim Count                      0.270295   \n",
       "Long-Acting Opioid Prescribing Rate                 0.188870   \n",
       "Total_Payment_Sum                                  -0.007571   \n",
       "Supplier Rental Indicator                           0.457285   \n",
       "Number of Suppliers                                 0.326317   \n",
       "Number of Supplier Beneficiaries                    0.075941   \n",
       "Number of Supplier Claims                           0.167013   \n",
       "Average Supplier Submitted Charge                   0.158793   \n",
       "Average Supplier Medicare Allow Amount              0.076025   \n",
       "Average Supplier Medicare Payment Amount            0.070837   \n",
       "Average Supplier Medicare Standard Amount           0.068083   \n",
       "is_fraud                                            0.006752   \n",
       "\n",
       "                                           total_day_supply  \\\n",
       "NPI                                               -0.000505   \n",
       "total_drug_cost                                    0.496580   \n",
       "total_claim_count                                  0.912678   \n",
       "total_day_supply                                   1.000000   \n",
       "Opioid Claim Count                                 0.481991   \n",
       "Opioid Prescribing Rate                           -0.213925   \n",
       "Long-Acting Opioid Claim Count                     0.211973   \n",
       "Long-Acting Opioid Prescribing Rate                0.165469   \n",
       "Total_Payment_Sum                                 -0.010239   \n",
       "Supplier Rental Indicator                          0.419752   \n",
       "Number of Suppliers                                0.341451   \n",
       "Number of Supplier Beneficiaries                   0.059414   \n",
       "Number of Supplier Claims                          0.141373   \n",
       "Average Supplier Submitted Charge                  0.140181   \n",
       "Average Supplier Medicare Allow Amount             0.049146   \n",
       "Average Supplier Medicare Payment Amount           0.043784   \n",
       "Average Supplier Medicare Standard Amount          0.040875   \n",
       "is_fraud                                           0.004609   \n",
       "\n",
       "                                           Opioid Claim Count  \\\n",
       "NPI                                                 -0.000215   \n",
       "total_drug_cost                                      0.275614   \n",
       "total_claim_count                                    0.540587   \n",
       "total_day_supply                                     0.481991   \n",
       "Opioid Claim Count                                   1.000000   \n",
       "Opioid Prescribing Rate                              0.239469   \n",
       "Long-Acting Opioid Claim Count                       0.808875   \n",
       "Long-Acting Opioid Prescribing Rate                  0.305827   \n",
       "Total_Payment_Sum                                   -0.001872   \n",
       "Supplier Rental Indicator                            0.274989   \n",
       "Number of Suppliers                                  0.136726   \n",
       "Number of Supplier Beneficiaries                     0.017685   \n",
       "Number of Supplier Claims                            0.064437   \n",
       "Average Supplier Submitted Charge                    0.127631   \n",
       "Average Supplier Medicare Allow Amount               0.093340   \n",
       "Average Supplier Medicare Payment Amount             0.090327   \n",
       "Average Supplier Medicare Standard Amount            0.085309   \n",
       "is_fraud                                             0.026435   \n",
       "\n",
       "                                           Opioid Prescribing Rate  \\\n",
       "NPI                                                       0.000814   \n",
       "total_drug_cost                                          -0.147505   \n",
       "total_claim_count                                        -0.166710   \n",
       "total_day_supply                                         -0.213925   \n",
       "Opioid Claim Count                                        0.239469   \n",
       "Opioid Prescribing Rate                                   1.000000   \n",
       "Long-Acting Opioid Claim Count                            0.207296   \n",
       "Long-Acting Opioid Prescribing Rate                       0.070185   \n",
       "Total_Payment_Sum                                         0.031551   \n",
       "Supplier Rental Indicator                                -0.148563   \n",
       "Number of Suppliers                                      -0.185242   \n",
       "Number of Supplier Beneficiaries                         -0.061500   \n",
       "Number of Supplier Claims                                -0.108470   \n",
       "Average Supplier Submitted Charge                        -0.016054   \n",
       "Average Supplier Medicare Allow Amount                    0.085734   \n",
       "Average Supplier Medicare Payment Amount                  0.087861   \n",
       "Average Supplier Medicare Standard Amount                 0.087198   \n",
       "is_fraud                                                  0.002791   \n",
       "\n",
       "                                           Long-Acting Opioid Claim Count  \\\n",
       "NPI                                                             -0.001643   \n",
       "total_drug_cost                                                  0.179097   \n",
       "total_claim_count                                                0.270295   \n",
       "total_day_supply                                                 0.211973   \n",
       "Opioid Claim Count                                               0.808875   \n",
       "Opioid Prescribing Rate                                          0.207296   \n",
       "Long-Acting Opioid Claim Count                                   1.000000   \n",
       "Long-Acting Opioid Prescribing Rate                              0.414935   \n",
       "Total_Payment_Sum                                               -0.001593   \n",
       "Supplier Rental Indicator                                        0.137284   \n",
       "Number of Suppliers                                              0.050319   \n",
       "Number of Supplier Beneficiaries                                 0.005226   \n",
       "Number of Supplier Claims                                        0.028437   \n",
       "Average Supplier Submitted Charge                                0.079071   \n",
       "Average Supplier Medicare Allow Amount                           0.066047   \n",
       "Average Supplier Medicare Payment Amount                         0.064694   \n",
       "Average Supplier Medicare Standard Amount                        0.060377   \n",
       "is_fraud                                                         0.029568   \n",
       "\n",
       "                                           Long-Acting Opioid Prescribing Rate  \\\n",
       "NPI                                                                   0.001241   \n",
       "total_drug_cost                                                       0.192682   \n",
       "total_claim_count                                                     0.188870   \n",
       "total_day_supply                                                      0.165469   \n",
       "Opioid Claim Count                                                    0.305827   \n",
       "Opioid Prescribing Rate                                               0.070185   \n",
       "Long-Acting Opioid Claim Count                                        0.414935   \n",
       "Long-Acting Opioid Prescribing Rate                                   1.000000   \n",
       "Total_Payment_Sum                                                    -0.002458   \n",
       "Supplier Rental Indicator                                             0.155218   \n",
       "Number of Suppliers                                                   0.035814   \n",
       "Number of Supplier Beneficiaries                                     -0.013277   \n",
       "Number of Supplier Claims                                             0.015487   \n",
       "Average Supplier Submitted Charge                                     0.045541   \n",
       "Average Supplier Medicare Allow Amount                                0.003680   \n",
       "Average Supplier Medicare Payment Amount                              0.001734   \n",
       "Average Supplier Medicare Standard Amount                            -0.000487   \n",
       "is_fraud                                                              0.005681   \n",
       "\n",
       "                                           Total_Payment_Sum  \\\n",
       "NPI                                                -0.003870   \n",
       "total_drug_cost                                     0.022279   \n",
       "total_claim_count                                  -0.007571   \n",
       "total_day_supply                                   -0.010239   \n",
       "Opioid Claim Count                                 -0.001872   \n",
       "Opioid Prescribing Rate                             0.031551   \n",
       "Long-Acting Opioid Claim Count                     -0.001593   \n",
       "Long-Acting Opioid Prescribing Rate                -0.002458   \n",
       "Total_Payment_Sum                                   1.000000   \n",
       "Supplier Rental Indicator                          -0.009582   \n",
       "Number of Suppliers                                 0.000028   \n",
       "Number of Supplier Beneficiaries                    0.002989   \n",
       "Number of Supplier Claims                           0.000477   \n",
       "Average Supplier Submitted Charge                   0.007894   \n",
       "Average Supplier Medicare Allow Amount              0.016270   \n",
       "Average Supplier Medicare Payment Amount            0.016383   \n",
       "Average Supplier Medicare Standard Amount           0.016420   \n",
       "is_fraud                                           -0.001041   \n",
       "\n",
       "                                           Supplier Rental Indicator  \\\n",
       "NPI                                                         0.000169   \n",
       "total_drug_cost                                             0.264542   \n",
       "total_claim_count                                           0.457285   \n",
       "total_day_supply                                            0.419752   \n",
       "Opioid Claim Count                                          0.274989   \n",
       "Opioid Prescribing Rate                                    -0.148563   \n",
       "Long-Acting Opioid Claim Count                              0.137284   \n",
       "Long-Acting Opioid Prescribing Rate                         0.155218   \n",
       "Total_Payment_Sum                                          -0.009582   \n",
       "Supplier Rental Indicator                                   1.000000   \n",
       "Number of Suppliers                                         0.615698   \n",
       "Number of Supplier Beneficiaries                            0.361775   \n",
       "Number of Supplier Claims                                   0.499534   \n",
       "Average Supplier Submitted Charge                           0.570964   \n",
       "Average Supplier Medicare Allow Amount                      0.362529   \n",
       "Average Supplier Medicare Payment Amount                    0.353361   \n",
       "Average Supplier Medicare Standard Amount                   0.353252   \n",
       "is_fraud                                                   -0.000758   \n",
       "\n",
       "                                           Number of Suppliers  \\\n",
       "NPI                                                   0.001677   \n",
       "total_drug_cost                                       0.327365   \n",
       "total_claim_count                                     0.326317   \n",
       "total_day_supply                                      0.341451   \n",
       "Opioid Claim Count                                    0.136726   \n",
       "Opioid Prescribing Rate                              -0.185242   \n",
       "Long-Acting Opioid Claim Count                        0.050319   \n",
       "Long-Acting Opioid Prescribing Rate                   0.035814   \n",
       "Total_Payment_Sum                                     0.000028   \n",
       "Supplier Rental Indicator                             0.615698   \n",
       "Number of Suppliers                                   1.000000   \n",
       "Number of Supplier Beneficiaries                      0.731610   \n",
       "Number of Supplier Claims                             0.822337   \n",
       "Average Supplier Submitted Charge                     0.522888   \n",
       "Average Supplier Medicare Allow Amount                0.360207   \n",
       "Average Supplier Medicare Payment Amount              0.352204   \n",
       "Average Supplier Medicare Standard Amount             0.353781   \n",
       "is_fraud                                              0.002340   \n",
       "\n",
       "                                           Number of Supplier Beneficiaries  \\\n",
       "NPI                                                               -0.000680   \n",
       "total_drug_cost                                                    0.144714   \n",
       "total_claim_count                                                  0.075941   \n",
       "total_day_supply                                                   0.059414   \n",
       "Opioid Claim Count                                                 0.017685   \n",
       "Opioid Prescribing Rate                                           -0.061500   \n",
       "Long-Acting Opioid Claim Count                                     0.005226   \n",
       "Long-Acting Opioid Prescribing Rate                               -0.013277   \n",
       "Total_Payment_Sum                                                  0.002989   \n",
       "Supplier Rental Indicator                                          0.361775   \n",
       "Number of Suppliers                                                0.731610   \n",
       "Number of Supplier Beneficiaries                                   1.000000   \n",
       "Number of Supplier Claims                                          0.936172   \n",
       "Average Supplier Submitted Charge                                  0.412642   \n",
       "Average Supplier Medicare Allow Amount                             0.325281   \n",
       "Average Supplier Medicare Payment Amount                           0.320318   \n",
       "Average Supplier Medicare Standard Amount                          0.321345   \n",
       "is_fraud                                                           0.001855   \n",
       "\n",
       "                                           Number of Supplier Claims  \\\n",
       "NPI                                                         0.000086   \n",
       "total_drug_cost                                             0.213662   \n",
       "total_claim_count                                           0.167013   \n",
       "total_day_supply                                            0.141373   \n",
       "Opioid Claim Count                                          0.064437   \n",
       "Opioid Prescribing Rate                                    -0.108470   \n",
       "Long-Acting Opioid Claim Count                              0.028437   \n",
       "Long-Acting Opioid Prescribing Rate                         0.015487   \n",
       "Total_Payment_Sum                                           0.000477   \n",
       "Supplier Rental Indicator                                   0.499534   \n",
       "Number of Suppliers                                         0.822337   \n",
       "Number of Supplier Beneficiaries                            0.936172   \n",
       "Number of Supplier Claims                                   1.000000   \n",
       "Average Supplier Submitted Charge                           0.474749   \n",
       "Average Supplier Medicare Allow Amount                      0.339623   \n",
       "Average Supplier Medicare Payment Amount                    0.333504   \n",
       "Average Supplier Medicare Standard Amount                   0.335049   \n",
       "is_fraud                                                    0.001218   \n",
       "\n",
       "                                           Average Supplier Submitted Charge  \\\n",
       "NPI                                                                -0.000747   \n",
       "total_drug_cost                                                     0.159373   \n",
       "total_claim_count                                                   0.158793   \n",
       "total_day_supply                                                    0.140181   \n",
       "Opioid Claim Count                                                  0.127631   \n",
       "Opioid Prescribing Rate                                            -0.016054   \n",
       "Long-Acting Opioid Claim Count                                      0.079071   \n",
       "Long-Acting Opioid Prescribing Rate                                 0.045541   \n",
       "Total_Payment_Sum                                                   0.007894   \n",
       "Supplier Rental Indicator                                           0.570964   \n",
       "Number of Suppliers                                                 0.522888   \n",
       "Number of Supplier Beneficiaries                                    0.412642   \n",
       "Number of Supplier Claims                                           0.474749   \n",
       "Average Supplier Submitted Charge                                   1.000000   \n",
       "Average Supplier Medicare Allow Amount                              0.866600   \n",
       "Average Supplier Medicare Payment Amount                            0.862735   \n",
       "Average Supplier Medicare Standard Amount                           0.861280   \n",
       "is_fraud                                                            0.000510   \n",
       "\n",
       "                                           Average Supplier Medicare Allow Amount  \\\n",
       "NPI                                                                     -0.000453   \n",
       "total_drug_cost                                                          0.103937   \n",
       "total_claim_count                                                        0.076025   \n",
       "total_day_supply                                                         0.049146   \n",
       "Opioid Claim Count                                                       0.093340   \n",
       "Opioid Prescribing Rate                                                  0.085734   \n",
       "Long-Acting Opioid Claim Count                                           0.066047   \n",
       "Long-Acting Opioid Prescribing Rate                                      0.003680   \n",
       "Total_Payment_Sum                                                        0.016270   \n",
       "Supplier Rental Indicator                                                0.362529   \n",
       "Number of Suppliers                                                      0.360207   \n",
       "Number of Supplier Beneficiaries                                         0.325281   \n",
       "Number of Supplier Claims                                                0.339623   \n",
       "Average Supplier Submitted Charge                                        0.866600   \n",
       "Average Supplier Medicare Allow Amount                                   1.000000   \n",
       "Average Supplier Medicare Payment Amount                                 0.999731   \n",
       "Average Supplier Medicare Standard Amount                                0.998351   \n",
       "is_fraud                                                                 0.000971   \n",
       "\n",
       "                                           Average Supplier Medicare Payment Amount  \\\n",
       "NPI                                                                       -0.000446   \n",
       "total_drug_cost                                                            0.101193   \n",
       "total_claim_count                                                          0.070837   \n",
       "total_day_supply                                                           0.043784   \n",
       "Opioid Claim Count                                                         0.090327   \n",
       "Opioid Prescribing Rate                                                    0.087861   \n",
       "Long-Acting Opioid Claim Count                                             0.064694   \n",
       "Long-Acting Opioid Prescribing Rate                                        0.001734   \n",
       "Total_Payment_Sum                                                          0.016383   \n",
       "Supplier Rental Indicator                                                  0.353361   \n",
       "Number of Suppliers                                                        0.352204   \n",
       "Number of Supplier Beneficiaries                                           0.320318   \n",
       "Number of Supplier Claims                                                  0.333504   \n",
       "Average Supplier Submitted Charge                                          0.862735   \n",
       "Average Supplier Medicare Allow Amount                                     0.999731   \n",
       "Average Supplier Medicare Payment Amount                                   1.000000   \n",
       "Average Supplier Medicare Standard Amount                                  0.998595   \n",
       "is_fraud                                                                   0.000887   \n",
       "\n",
       "                                           Average Supplier Medicare Standard Amount  \\\n",
       "NPI                                                                        -0.000458   \n",
       "total_drug_cost                                                             0.101160   \n",
       "total_claim_count                                                           0.068083   \n",
       "total_day_supply                                                            0.040875   \n",
       "Opioid Claim Count                                                          0.085309   \n",
       "Opioid Prescribing Rate                                                     0.087198   \n",
       "Long-Acting Opioid Claim Count                                              0.060377   \n",
       "Long-Acting Opioid Prescribing Rate                                        -0.000487   \n",
       "Total_Payment_Sum                                                           0.016420   \n",
       "Supplier Rental Indicator                                                   0.353252   \n",
       "Number of Suppliers                                                         0.353781   \n",
       "Number of Supplier Beneficiaries                                            0.321345   \n",
       "Number of Supplier Claims                                                   0.335049   \n",
       "Average Supplier Submitted Charge                                           0.861280   \n",
       "Average Supplier Medicare Allow Amount                                      0.998351   \n",
       "Average Supplier Medicare Payment Amount                                    0.998595   \n",
       "Average Supplier Medicare Standard Amount                                   1.000000   \n",
       "is_fraud                                                                    0.000861   \n",
       "\n",
       "                                           is_fraud  \n",
       "NPI                                        0.002956  \n",
       "total_drug_cost                            0.004455  \n",
       "total_claim_count                          0.006752  \n",
       "total_day_supply                           0.004609  \n",
       "Opioid Claim Count                         0.026435  \n",
       "Opioid Prescribing Rate                    0.002791  \n",
       "Long-Acting Opioid Claim Count             0.029568  \n",
       "Long-Acting Opioid Prescribing Rate        0.005681  \n",
       "Total_Payment_Sum                         -0.001041  \n",
       "Supplier Rental Indicator                 -0.000758  \n",
       "Number of Suppliers                        0.002340  \n",
       "Number of Supplier Beneficiaries           0.001855  \n",
       "Number of Supplier Claims                  0.001218  \n",
       "Average Supplier Submitted Charge          0.000510  \n",
       "Average Supplier Medicare Allow Amount     0.000971  \n",
       "Average Supplier Medicare Payment Amount   0.000887  \n",
       "Average Supplier Medicare Standard Amount  0.000861  \n",
       "is_fraud                                   1.000000  "
      ]
     },
     "execution_count": 7,
     "metadata": {},
     "output_type": "execute_result"
    }
   ],
   "source": [
    "df.corr()"
   ]
  },
  {
   "cell_type": "markdown",
   "metadata": {},
   "source": [
    "# Pre processing steps"
   ]
  },
  {
   "cell_type": "code",
   "execution_count": 8,
   "metadata": {},
   "outputs": [],
   "source": [
    "#setting up the predictors and target variable\n",
    "\n",
    "X=df[[ 'total_drug_cost', 'total_claim_count', 'total_day_supply',\n",
    "       'Opioid Claim Count', 'Opioid Prescribing Rate',\n",
    "       'Long-Acting Opioid Claim Count', 'Long-Acting Opioid Prescribing Rate',\n",
    "       'Total_Payment_Sum', 'Number of Suppliers',\n",
    "       'Number of Supplier Beneficiaries', 'Number of Supplier Claims',\n",
    "       'Average Supplier Submitted Charge',\n",
    "       'Average Supplier Medicare Allow Amount',\n",
    "       'Average Supplier Medicare Payment Amount',\n",
    "       'Average Supplier Medicare Standard Amount',\n",
    "       \n",
    "       ]]\n",
    "y=df[\"is_fraud\"]"
   ]
  },
  {
   "cell_type": "code",
   "execution_count": 9,
   "metadata": {},
   "outputs": [
    {
     "data": {
      "text/plain": [
       "0    177973\n",
       "1       116\n",
       "Name: is_fraud, dtype: int64"
      ]
     },
     "execution_count": 9,
     "metadata": {},
     "output_type": "execute_result"
    }
   ],
   "source": [
    "y.value_counts()"
   ]
  },
  {
   "cell_type": "code",
   "execution_count": 10,
   "metadata": {},
   "outputs": [
    {
     "data": {
      "text/plain": [
       "((178089, 15), (178089,))"
      ]
     },
     "execution_count": 10,
     "metadata": {},
     "output_type": "execute_result"
    }
   ],
   "source": [
    "X.shape, y.shape"
   ]
  },
  {
   "cell_type": "markdown",
   "metadata": {},
   "source": [
    "Spitting the data in training and testing sets"
   ]
  },
  {
   "cell_type": "code",
   "execution_count": 11,
   "metadata": {},
   "outputs": [],
   "source": [
    "X_train, X_test, y_train, y_test = train_test_split(X, y,\n",
    "                                                  test_size = .35,\n",
    "                                                    random_state=42,\n",
    "                                                    stratify=y)"
   ]
  },
  {
   "cell_type": "code",
   "execution_count": 12,
   "metadata": {},
   "outputs": [
    {
     "data": {
      "text/plain": [
       "((115757, 15), (62332, 15), (115757,), (62332,))"
      ]
     },
     "execution_count": 12,
     "metadata": {},
     "output_type": "execute_result"
    }
   ],
   "source": [
    "X_train.shape,X_test.shape,y_train.shape,y_test.shape"
   ]
  },
  {
   "cell_type": "code",
   "execution_count": 13,
   "metadata": {},
   "outputs": [
    {
     "data": {
      "text/plain": [
       "0    115682\n",
       "1        75\n",
       "Name: is_fraud, dtype: int64"
      ]
     },
     "execution_count": 13,
     "metadata": {},
     "output_type": "execute_result"
    }
   ],
   "source": [
    "y_train.value_counts()"
   ]
  },
  {
   "cell_type": "code",
   "execution_count": 14,
   "metadata": {},
   "outputs": [
    {
     "data": {
      "text/plain": [
       "0    62291\n",
       "1       41\n",
       "Name: is_fraud, dtype: int64"
      ]
     },
     "execution_count": 14,
     "metadata": {},
     "output_type": "execute_result"
    }
   ],
   "source": [
    "y_test.value_counts()"
   ]
  },
  {
   "cell_type": "markdown",
   "metadata": {},
   "source": [
    "As we can see our target variable has highly imbalance classes so I am using SMOTE(Synthetic Minority Oversampling Technique)\n",
    "which will oversample the minority class.\n"
   ]
  },
  {
   "cell_type": "code",
   "execution_count": 15,
   "metadata": {},
   "outputs": [],
   "source": [
    "sm = SMOTE()\n",
    "X_train, y_train = sm.fit_sample(X_train, y_train)\n",
    "X_test,y_test=sm.fit_sample(X_test, y_test)"
   ]
  },
  {
   "cell_type": "code",
   "execution_count": 16,
   "metadata": {},
   "outputs": [
    {
     "data": {
      "text/plain": [
       "((231364, 15), (124582, 15), (231364,), (124582,))"
      ]
     },
     "execution_count": 16,
     "metadata": {},
     "output_type": "execute_result"
    }
   ],
   "source": [
    "X_train.shape,X_test.shape,y_train.shape,y_test.shape"
   ]
  },
  {
   "cell_type": "code",
   "execution_count": 17,
   "metadata": {},
   "outputs": [
    {
     "data": {
      "text/plain": [
       "1    115682\n",
       "0    115682\n",
       "Name: is_fraud, dtype: int64"
      ]
     },
     "execution_count": 17,
     "metadata": {},
     "output_type": "execute_result"
    }
   ],
   "source": [
    "y_train.value_counts()"
   ]
  },
  {
   "cell_type": "code",
   "execution_count": 18,
   "metadata": {},
   "outputs": [
    {
     "data": {
      "text/plain": [
       "1    62291\n",
       "0    62291\n",
       "Name: is_fraud, dtype: int64"
      ]
     },
     "execution_count": 18,
     "metadata": {},
     "output_type": "execute_result"
    }
   ],
   "source": [
    "y_test.value_counts()"
   ]
  },
  {
   "cell_type": "markdown",
   "metadata": {},
   "source": [
    "So Now we have our balanced y_train and y_test"
   ]
  },
  {
   "cell_type": "markdown",
   "metadata": {},
   "source": [
    "# Logistic Regression"
   ]
  },
  {
   "cell_type": "code",
   "execution_count": 48,
   "metadata": {},
   "outputs": [],
   "source": [
    "model=LogisticRegression(max_iter=5000,solver='lbfgs')"
   ]
  },
  {
   "cell_type": "code",
   "execution_count": 49,
   "metadata": {},
   "outputs": [
    {
     "data": {
      "text/plain": [
       "LogisticRegression(max_iter=5000)"
      ]
     },
     "execution_count": 49,
     "metadata": {},
     "output_type": "execute_result"
    }
   ],
   "source": [
    "model.fit(X_train,y_train)"
   ]
  },
  {
   "cell_type": "code",
   "execution_count": 50,
   "metadata": {},
   "outputs": [],
   "source": [
    "y_pred=model.predict(X_test)"
   ]
  },
  {
   "cell_type": "code",
   "execution_count": 51,
   "metadata": {},
   "outputs": [
    {
     "data": {
      "text/plain": [
       "0.6496256980342664"
      ]
     },
     "execution_count": 51,
     "metadata": {},
     "output_type": "execute_result"
    }
   ],
   "source": [
    "model.score(X_train,y_train)"
   ]
  },
  {
   "cell_type": "code",
   "execution_count": 52,
   "metadata": {},
   "outputs": [
    {
     "data": {
      "text/plain": [
       "0.5388820214798286"
      ]
     },
     "execution_count": 52,
     "metadata": {},
     "output_type": "execute_result"
    }
   ],
   "source": [
    "model.score(X_test,y_test)"
   ]
  },
  {
   "cell_type": "code",
   "execution_count": 53,
   "metadata": {},
   "outputs": [
    {
     "data": {
      "text/plain": [
       "0    91186\n",
       "1    33396\n",
       "dtype: int64"
      ]
     },
     "execution_count": 53,
     "metadata": {},
     "output_type": "execute_result"
    }
   ],
   "source": [
    "pd.Series(y_pred).value_counts()"
   ]
  },
  {
   "cell_type": "code",
   "execution_count": 54,
   "metadata": {},
   "outputs": [],
   "source": [
    "coef=model.coef_[0]\n"
   ]
  },
  {
   "cell_type": "code",
   "execution_count": 55,
   "metadata": {},
   "outputs": [],
   "source": [
    "lr_probs = model.predict_proba(X_test)"
   ]
  },
  {
   "cell_type": "code",
   "execution_count": 56,
   "metadata": {},
   "outputs": [
    {
     "data": {
      "text/plain": [
       "array([0.50992236, 0.21051036, 0.30057891, ..., 0.48426137, 0.45060241,\n",
       "       0.3149159 ])"
      ]
     },
     "execution_count": 56,
     "metadata": {},
     "output_type": "execute_result"
    }
   ],
   "source": [
    "# keep probabilities for the positive outcome only\n",
    "lr_probs = lr_probs[:, 1]\n",
    "lr_probs"
   ]
  },
  {
   "cell_type": "code",
   "execution_count": 57,
   "metadata": {},
   "outputs": [
    {
     "data": {
      "text/plain": [
       "(124582,)"
      ]
     },
     "execution_count": 57,
     "metadata": {},
     "output_type": "execute_result"
    }
   ],
   "source": [
    "lr_probs.shape"
   ]
  },
  {
   "cell_type": "code",
   "execution_count": 58,
   "metadata": {},
   "outputs": [
    {
     "data": {
      "text/plain": [
       "0.5471814218790144"
      ]
     },
     "execution_count": 58,
     "metadata": {},
     "output_type": "execute_result"
    }
   ],
   "source": [
    "lr_auc = roc_auc_score(y_test, lr_probs)\n",
    "lr_auc "
   ]
  },
  {
   "cell_type": "code",
   "execution_count": 59,
   "metadata": {},
   "outputs": [],
   "source": [
    "# calculate pr-curve\n",
    "precision, recall, thresholds = precision_recall_curve(y_test, lr_probs)"
   ]
  },
  {
   "cell_type": "code",
   "execution_count": 60,
   "metadata": {},
   "outputs": [
    {
     "data": {
      "text/plain": [
       "[('total_drug_cost', -3.8555943576547287e-07),\n",
       " ('total_claim_count', 2.5593132157242307e-05),\n",
       " ('total_day_supply', -2.3317084823223288e-06),\n",
       " ('Opioid Claim Count', 0.002184723963158237),\n",
       " ('Opioid Prescribing Rate', 2.362907276234043e-06),\n",
       " ('Long-Acting Opioid Claim Count', 0.0004584186672051064),\n",
       " ('Long-Acting Opioid Prescribing Rate', 1.8293455910273522e-05),\n",
       " ('Total_Payment_Sum', -2.964189247569424e-05),\n",
       " ('Number of Suppliers', 1.1816365932359979e-05),\n",
       " ('Number of Supplier Beneficiaries', 0.00024710063547735806),\n",
       " ('Number of Supplier Claims', 0.00010723976593662912),\n",
       " ('Average Supplier Submitted Charge', -0.0004218455189657978),\n",
       " ('Average Supplier Medicare Allow Amount', 0.00024070921757599086),\n",
       " ('Average Supplier Medicare Payment Amount', 0.00015275928364234998),\n",
       " ('Average Supplier Medicare Standard Amount', 0.0001904641236774124)]"
      ]
     },
     "execution_count": 60,
     "metadata": {},
     "output_type": "execute_result"
    }
   ],
   "source": [
    "x=list(zip(X.columns, coef))\n",
    "x"
   ]
  },
  {
   "cell_type": "code",
   "execution_count": 61,
   "metadata": {},
   "outputs": [
    {
     "name": "stdout",
     "output_type": "stream",
     "text": [
      "total_drug_cost -3.8555943576547287e-07\n",
      "total_day_supply -2.3317084823223288e-06\n",
      "Total_Payment_Sum -2.964189247569424e-05\n",
      "Average Supplier Submitted Charge -0.0004218455189657978\n"
     ]
    }
   ],
   "source": [
    "for i in x:\n",
    "    if i[1]  < 0:\n",
    "        print (i[0], i[1])"
   ]
  },
  {
   "cell_type": "code",
   "execution_count": 62,
   "metadata": {},
   "outputs": [
    {
     "name": "stdout",
     "output_type": "stream",
     "text": [
      "              precision    recall  f1-score   support\n",
      "\n",
      "           0       0.53      0.77      0.63     62291\n",
      "           1       0.57      0.31      0.40     62291\n",
      "\n",
      "    accuracy                           0.54    124582\n",
      "   macro avg       0.55      0.54      0.51    124582\n",
      "weighted avg       0.55      0.54      0.51    124582\n",
      "\n"
     ]
    }
   ],
   "source": [
    "print(classification_report(y_test, y_pred))"
   ]
  },
  {
   "cell_type": "markdown",
   "metadata": {},
   "source": [
    "high precision relates to a low false positive rate, and high recall relates to a low false negative rate."
   ]
  },
  {
   "cell_type": "code",
   "execution_count": 63,
   "metadata": {},
   "outputs": [
    {
     "data": {
      "text/plain": [
       "0.5388820214798286"
      ]
     },
     "execution_count": 63,
     "metadata": {},
     "output_type": "execute_result"
    }
   ],
   "source": [
    "roc_auc_score(y_test, y_pred)"
   ]
  },
  {
   "cell_type": "markdown",
   "metadata": {},
   "source": [
    "# Decision Tree Classifier"
   ]
  },
  {
   "cell_type": "code",
   "execution_count": 64,
   "metadata": {},
   "outputs": [],
   "source": [
    "dtc = DecisionTreeClassifier(max_depth = 5,\n",
    "                            min_samples_split = 7,\n",
    "                            min_samples_leaf = 3,\n",
    "                            ccp_alpha = 0.01,\n",
    "                            random_state = 42)"
   ]
  },
  {
   "cell_type": "code",
   "execution_count": 65,
   "metadata": {},
   "outputs": [
    {
     "data": {
      "text/plain": [
       "DecisionTreeClassifier(ccp_alpha=0.01, max_depth=5, min_samples_leaf=3,\n",
       "                       min_samples_split=7, random_state=42)"
      ]
     },
     "execution_count": 65,
     "metadata": {},
     "output_type": "execute_result"
    }
   ],
   "source": [
    "dtc.fit(X_train, y_train)"
   ]
  },
  {
   "cell_type": "code",
   "execution_count": 66,
   "metadata": {},
   "outputs": [
    {
     "data": {
      "text/plain": [
       "0    115682\n",
       "1    115682\n",
       "Name: is_fraud, dtype: int64"
      ]
     },
     "execution_count": 66,
     "metadata": {},
     "output_type": "execute_result"
    }
   ],
   "source": [
    "y_train.value_counts().sort_index()"
   ]
  },
  {
   "cell_type": "code",
   "execution_count": 67,
   "metadata": {},
   "outputs": [
    {
     "data": {
      "image/png": "[encoded data removed]",
      "text/plain": [
       "<Figure size 720x432 with 1 Axes>"
      ]
     },
     "metadata": {
      "needs_background": "light"
     },
     "output_type": "display_data"
    }
   ],
   "source": [
    "plt.figure(figsize=(10,6))\n",
    "plot_tree(dtc, feature_names=X.columns, \n",
    "           filled=True);"
   ]
  },
  {
   "cell_type": "code",
   "execution_count": 68,
   "metadata": {},
   "outputs": [
    {
     "name": "stdout",
     "output_type": "stream",
     "text": [
      "Score on training set: 0.7641595062326032\n",
      "Score on testing set: 0.6436162527491933\n"
     ]
    }
   ],
   "source": [
    "print(f'Score on training set: {dtc.score(X_train, y_train)}')\n",
    "print(f'Score on testing set: {dtc.score(X_test, y_test)}')"
   ]
  },
  {
   "cell_type": "code",
   "execution_count": 69,
   "metadata": {},
   "outputs": [],
   "source": [
    "preds=dtc.predict(X_test)"
   ]
  },
  {
   "cell_type": "code",
   "execution_count": 70,
   "metadata": {},
   "outputs": [
    {
     "data": {
      "text/plain": [
       "array([0, 0, 0, ..., 0, 0, 1])"
      ]
     },
     "execution_count": 70,
     "metadata": {},
     "output_type": "execute_result"
    }
   ],
   "source": [
    "preds"
   ]
  },
  {
   "cell_type": "code",
   "execution_count": 71,
   "metadata": {},
   "outputs": [],
   "source": [
    "cm=confusion_matrix(y_test, # True values.\n",
    "                 preds) "
   ]
  },
  {
   "cell_type": "code",
   "execution_count": 72,
   "metadata": {},
   "outputs": [
    {
     "data": {
      "image/png": "[encoded data removed]",
      "text/plain": [
       "<Figure size 432x288 with 2 Axes>"
      ]
     },
     "metadata": {
      "needs_background": "light"
     },
     "output_type": "display_data"
    }
   ],
   "source": [
    "plot_confusion_matrix(dtc, X_test, y_test, cmap='Blues', values_format='d');"
   ]
  },
  {
   "cell_type": "code",
   "execution_count": 73,
   "metadata": {},
   "outputs": [
    {
     "name": "stdout",
     "output_type": "stream",
     "text": [
      "True Negatives: 45291\n",
      "True Positives: 34892\n",
      "False Positives: 17000\n",
      "False Negatives: 27399\n"
     ]
    }
   ],
   "source": [
    "\n",
    "tn = cm[0,0]; print(\"True Negatives:\", tn)\n",
    "tp = cm[1,1]; print(\"True Positives:\", tp)\n",
    "fp = cm[0,1]; print(\"False Positives:\", fp)\n",
    "fn = cm[1,0]; print(\"False Negatives:\", fn)"
   ]
  },
  {
   "cell_type": "code",
   "execution_count": 74,
   "metadata": {},
   "outputs": [
    {
     "data": {
      "text/plain": [
       "0.6436162527491933"
      ]
     },
     "execution_count": 74,
     "metadata": {},
     "output_type": "execute_result"
    }
   ],
   "source": [
    "accuracy_score(y_test, preds)"
   ]
  },
  {
   "cell_type": "code",
   "execution_count": 75,
   "metadata": {},
   "outputs": [
    {
     "name": "stdout",
     "output_type": "stream",
     "text": [
      "              precision    recall  f1-score   support\n",
      "\n",
      "           0       0.62      0.73      0.67     62291\n",
      "           1       0.67      0.56      0.61     62291\n",
      "\n",
      "    accuracy                           0.64    124582\n",
      "   macro avg       0.65      0.64      0.64    124582\n",
      "weighted avg       0.65      0.64      0.64    124582\n",
      "\n"
     ]
    }
   ],
   "source": [
    "print(classification_report(y_test, preds))"
   ]
  },
  {
   "cell_type": "markdown",
   "metadata": {},
   "source": [
    "# Bagging Classifier"
   ]
  },
  {
   "cell_type": "code",
   "execution_count": 76,
   "metadata": {},
   "outputs": [],
   "source": [
    "bag = BaggingClassifier(random_state = 42)"
   ]
  },
  {
   "cell_type": "code",
   "execution_count": 77,
   "metadata": {},
   "outputs": [
    {
     "data": {
      "text/plain": [
       "0.5960010274357451"
      ]
     },
     "execution_count": 77,
     "metadata": {},
     "output_type": "execute_result"
    }
   ],
   "source": [
    "# Fit BaggingClassifier.\n",
    "bag.fit(X_train, y_train)\n",
    "\n",
    "# Score BaggingClassifier.\n",
    "bag.score(X_test, y_test)"
   ]
  },
  {
   "cell_type": "code",
   "execution_count": 78,
   "metadata": {},
   "outputs": [
    {
     "data": {
      "text/plain": [
       "0.9999092339344063"
      ]
     },
     "execution_count": 78,
     "metadata": {},
     "output_type": "execute_result"
    }
   ],
   "source": [
    "bag.score(X_train, y_train)"
   ]
  },
  {
   "cell_type": "code",
   "execution_count": 79,
   "metadata": {},
   "outputs": [],
   "source": [
    "preds1=bag.predict(X_test)"
   ]
  },
  {
   "cell_type": "code",
   "execution_count": 80,
   "metadata": {},
   "outputs": [],
   "source": [
    "cm=confusion_matrix(y_test, # True values.\n",
    "                 preds1) "
   ]
  },
  {
   "cell_type": "code",
   "execution_count": 81,
   "metadata": {},
   "outputs": [
    {
     "data": {
      "image/png": "[encoded data removed]",
      "text/plain": [
       "<Figure size 432x288 with 2 Axes>"
      ]
     },
     "metadata": {
      "needs_background": "light"
     },
     "output_type": "display_data"
    }
   ],
   "source": [
    "plot_confusion_matrix(bag, X_test, y_test, cmap='Greens', values_format='d');"
   ]
  },
  {
   "cell_type": "code",
   "execution_count": 82,
   "metadata": {},
   "outputs": [
    {
     "name": "stdout",
     "output_type": "stream",
     "text": [
      "True Negatives: 62183\n",
      "True Positives: 12068\n",
      "False Positives: 108\n",
      "False Negatives: 50223\n"
     ]
    }
   ],
   "source": [
    "\n",
    "tn = cm[0,0]; print(\"True Negatives:\", tn)\n",
    "tp = cm[1,1]; print(\"True Positives:\", tp)\n",
    "fp = cm[0,1]; print(\"False Positives:\", fp)\n",
    "fn = cm[1,0]; print(\"False Negatives:\", fn)"
   ]
  },
  {
   "cell_type": "code",
   "execution_count": 83,
   "metadata": {},
   "outputs": [
    {
     "name": "stdout",
     "output_type": "stream",
     "text": [
      "              precision    recall  f1-score   support\n",
      "\n",
      "           0       0.55      1.00      0.71     62291\n",
      "           1       0.99      0.19      0.32     62291\n",
      "\n",
      "    accuracy                           0.60    124582\n",
      "   macro avg       0.77      0.60      0.52    124582\n",
      "weighted avg       0.77      0.60      0.52    124582\n",
      "\n"
     ]
    }
   ],
   "source": [
    "print(classification_report(y_test, preds1))"
   ]
  },
  {
   "cell_type": "markdown",
   "metadata": {},
   "source": [
    "# Random Forest Classifier"
   ]
  },
  {
   "cell_type": "code",
   "execution_count": 91,
   "metadata": {},
   "outputs": [],
   "source": [
    "rf = RandomForestClassifier(n_estimators=100)"
   ]
  },
  {
   "cell_type": "code",
   "execution_count": 92,
   "metadata": {},
   "outputs": [
    {
     "data": {
      "text/plain": [
       "RandomForestClassifier()"
      ]
     },
     "execution_count": 92,
     "metadata": {},
     "output_type": "execute_result"
    }
   ],
   "source": [
    "rf.fit(X_train,y_train)"
   ]
  },
  {
   "cell_type": "code",
   "execution_count": 93,
   "metadata": {},
   "outputs": [],
   "source": [
    "y_pred=rf.predict(X_test)"
   ]
  },
  {
   "cell_type": "code",
   "execution_count": 94,
   "metadata": {},
   "outputs": [
    {
     "data": {
      "text/plain": [
       "1.0"
      ]
     },
     "execution_count": 94,
     "metadata": {},
     "output_type": "execute_result"
    }
   ],
   "source": [
    "rf.score(X_train,y_train)"
   ]
  },
  {
   "cell_type": "code",
   "execution_count": 95,
   "metadata": {},
   "outputs": [
    {
     "data": {
      "text/plain": [
       "0.53977300091506"
      ]
     },
     "execution_count": 95,
     "metadata": {},
     "output_type": "execute_result"
    }
   ],
   "source": [
    "rf.score(X_test,y_test)"
   ]
  },
  {
   "cell_type": "code",
   "execution_count": 96,
   "metadata": {},
   "outputs": [],
   "source": [
    "cm=confusion_matrix(y_test, # True values.\n",
    "                 y_pred) "
   ]
  },
  {
   "cell_type": "code",
   "execution_count": 97,
   "metadata": {},
   "outputs": [
    {
     "data": {
      "image/png": "[encoded data removed]",
      "text/plain": [
       "<Figure size 432x288 with 2 Axes>"
      ]
     },
     "metadata": {
      "needs_background": "light"
     },
     "output_type": "display_data"
    }
   ],
   "source": [
    "plot_confusion_matrix(rf, X_test, y_test, cmap='Blues', values_format='d');"
   ]
  },
  {
   "cell_type": "code",
   "execution_count": 98,
   "metadata": {},
   "outputs": [
    {
     "name": "stdout",
     "output_type": "stream",
     "text": [
      "True Negatives: 62273\n",
      "True Positives: 4973\n",
      "False Positives: 18\n",
      "False Negatives: 57318\n"
     ]
    }
   ],
   "source": [
    "tn = cm[0,0]; print(\"True Negatives:\", tn)\n",
    "tp = cm[1,1]; print(\"True Positives:\", tp)\n",
    "fp = cm[0,1]; print(\"False Positives:\", fp)\n",
    "fn = cm[1,0]; print(\"False Negatives:\", fn)"
   ]
  },
  {
   "cell_type": "code",
   "execution_count": 99,
   "metadata": {},
   "outputs": [
    {
     "data": {
      "text/plain": [
       "0    119591\n",
       "1      4991\n",
       "dtype: int64"
      ]
     },
     "execution_count": 99,
     "metadata": {},
     "output_type": "execute_result"
    }
   ],
   "source": [
    "pd.Series(y_pred).value_counts()"
   ]
  },
  {
   "cell_type": "code",
   "execution_count": 100,
   "metadata": {},
   "outputs": [
    {
     "name": "stdout",
     "output_type": "stream",
     "text": [
      "              precision    recall  f1-score   support\n",
      "\n",
      "           0       0.52      1.00      0.68     62291\n",
      "           1       1.00      0.08      0.15     62291\n",
      "\n",
      "    accuracy                           0.54    124582\n",
      "   macro avg       0.76      0.54      0.42    124582\n",
      "weighted avg       0.76      0.54      0.42    124582\n",
      "\n"
     ]
    }
   ],
   "source": [
    "print(classification_report(y_test, y_pred))"
   ]
  },
  {
   "cell_type": "code",
   "execution_count": 101,
   "metadata": {},
   "outputs": [
    {
     "data": {
      "text/plain": [
       "[('total_drug_cost', 0.11332037215803308),\n",
       " ('total_claim_count', 0.07412281937889503),\n",
       " ('total_day_supply', 0.09192512687372036),\n",
       " ('Opioid Claim Count', 0.07574789907815896),\n",
       " ('Opioid Prescribing Rate', 0.07827308274318347),\n",
       " ('Long-Acting Opioid Claim Count', 0.04925707355377838),\n",
       " ('Long-Acting Opioid Prescribing Rate', 0.04980117145795817),\n",
       " ('Total_Payment_Sum', 0.07432482935926302),\n",
       " ('Number of Suppliers', 0.04885554594749417),\n",
       " ('Number of Supplier Beneficiaries', 0.13674605430985026),\n",
       " ('Number of Supplier Claims', 0.04258162808044559),\n",
       " ('Average Supplier Submitted Charge', 0.0522523258785035),\n",
       " ('Average Supplier Medicare Allow Amount', 0.038265858789016824),\n",
       " ('Average Supplier Medicare Payment Amount', 0.039326698973919307),\n",
       " ('Average Supplier Medicare Standard Amount', 0.03519951341777996)]"
      ]
     },
     "execution_count": 101,
     "metadata": {},
     "output_type": "execute_result"
    }
   ],
   "source": [
    "list(zip(X.columns, rf.feature_importances_))"
   ]
  },
  {
   "cell_type": "markdown",
   "metadata": {},
   "source": [
    "# AdaBoost Classifier"
   ]
  },
  {
   "cell_type": "code",
   "execution_count": 102,
   "metadata": {},
   "outputs": [],
   "source": [
    "ada = AdaBoostClassifier(base_estimator=DecisionTreeClassifier())"
   ]
  },
  {
   "cell_type": "code",
   "execution_count": 103,
   "metadata": {},
   "outputs": [
    {
     "data": {
      "text/plain": [
       "AdaBoostClassifier(base_estimator=DecisionTreeClassifier())"
      ]
     },
     "execution_count": 103,
     "metadata": {},
     "output_type": "execute_result"
    }
   ],
   "source": [
    "ada.fit(X_train, y_train)"
   ]
  },
  {
   "cell_type": "code",
   "execution_count": 104,
   "metadata": {},
   "outputs": [
    {
     "data": {
      "text/plain": [
       "0.6004559246119022"
      ]
     },
     "execution_count": 104,
     "metadata": {},
     "output_type": "execute_result"
    }
   ],
   "source": [
    "ada.score(X_test, y_test)"
   ]
  },
  {
   "cell_type": "code",
   "execution_count": 105,
   "metadata": {},
   "outputs": [
    {
     "data": {
      "text/plain": [
       "1.0"
      ]
     },
     "execution_count": 105,
     "metadata": {},
     "output_type": "execute_result"
    }
   ],
   "source": [
    "ada.score(X_train, y_train)"
   ]
  },
  {
   "cell_type": "code",
   "execution_count": 106,
   "metadata": {},
   "outputs": [],
   "source": [
    "pred=ada.predict(X_test)"
   ]
  },
  {
   "cell_type": "code",
   "execution_count": 107,
   "metadata": {},
   "outputs": [],
   "source": [
    "cm=confusion_matrix(y_test, # True values.\n",
    "                 pred) "
   ]
  },
  {
   "cell_type": "code",
   "execution_count": 108,
   "metadata": {},
   "outputs": [
    {
     "data": {
      "image/png": "[encoded data removed]",
      "text/plain": [
       "<Figure size 432x288 with 2 Axes>"
      ]
     },
     "metadata": {
      "needs_background": "light"
     },
     "output_type": "display_data"
    }
   ],
   "source": [
    "plot_confusion_matrix(ada, X_test, y_test, cmap='Blues', values_format='d');"
   ]
  },
  {
   "cell_type": "code",
   "execution_count": 109,
   "metadata": {},
   "outputs": [
    {
     "name": "stdout",
     "output_type": "stream",
     "text": [
      "True Negatives: 61977\n",
      "True Positives: 12829\n",
      "False Positives: 314\n",
      "False Negatives: 49462\n"
     ]
    }
   ],
   "source": [
    "\n",
    "tn = cm[0,0]; print(\"True Negatives:\", tn)\n",
    "tp = cm[1,1]; print(\"True Positives:\", tp)\n",
    "fp = cm[0,1]; print(\"False Positives:\", fp)\n",
    "fn = cm[1,0]; print(\"False Negatives:\", fn)"
   ]
  },
  {
   "cell_type": "code",
   "execution_count": 110,
   "metadata": {},
   "outputs": [
    {
     "name": "stdout",
     "output_type": "stream",
     "text": [
      "              precision    recall  f1-score   support\n",
      "\n",
      "           0       0.56      0.99      0.71     62291\n",
      "           1       0.98      0.21      0.34     62291\n",
      "\n",
      "    accuracy                           0.60    124582\n",
      "   macro avg       0.77      0.60      0.53    124582\n",
      "weighted avg       0.77      0.60      0.53    124582\n",
      "\n"
     ]
    }
   ],
   "source": [
    "print(classification_report(y_test, pred))"
   ]
  },
  {
   "cell_type": "markdown",
   "metadata": {},
   "source": [
    "# KNeighbors Classifier"
   ]
  },
  {
   "cell_type": "code",
   "execution_count": 111,
   "metadata": {},
   "outputs": [],
   "source": [
    "knn = KNeighborsClassifier( n_neighbors=5)"
   ]
  },
  {
   "cell_type": "code",
   "execution_count": 112,
   "metadata": {},
   "outputs": [
    {
     "data": {
      "text/plain": [
       "KNeighborsClassifier()"
      ]
     },
     "execution_count": 112,
     "metadata": {},
     "output_type": "execute_result"
    }
   ],
   "source": [
    "knn.fit(X_train, y_train)"
   ]
  },
  {
   "cell_type": "code",
   "execution_count": 113,
   "metadata": {},
   "outputs": [],
   "source": [
    "y_preds=knn.predict(X_test)"
   ]
  },
  {
   "cell_type": "code",
   "execution_count": 114,
   "metadata": {},
   "outputs": [
    {
     "name": "stdout",
     "output_type": "stream",
     "text": [
      "What is the baseline or prevalance in my y_test? 0.5\n"
     ]
    }
   ],
   "source": [
    "print(\"What is the baseline or prevalance in my y_test?\", 1 - y_test.mean())"
   ]
  },
  {
   "cell_type": "code",
   "execution_count": 115,
   "metadata": {},
   "outputs": [
    {
     "data": {
      "text/plain": [
       "0.5036040519497199"
      ]
     },
     "execution_count": 115,
     "metadata": {},
     "output_type": "execute_result"
    }
   ],
   "source": [
    "accuracy_score(y_test, y_preds)"
   ]
  },
  {
   "cell_type": "code",
   "execution_count": 116,
   "metadata": {},
   "outputs": [
    {
     "name": "stdout",
     "output_type": "stream",
     "text": [
      "              precision    recall  f1-score   support\n",
      "\n",
      "           0       0.50      0.93      0.65     62291\n",
      "           1       0.52      0.08      0.13     62291\n",
      "\n",
      "    accuracy                           0.50    124582\n",
      "   macro avg       0.51      0.50      0.39    124582\n",
      "weighted avg       0.51      0.50      0.39    124582\n",
      "\n"
     ]
    }
   ],
   "source": [
    "print(classification_report(y_test, y_preds))"
   ]
  },
  {
   "cell_type": "markdown",
   "metadata": {},
   "source": [
    "# KNN model using grid search"
   ]
  },
  {
   "cell_type": "code",
   "execution_count": 117,
   "metadata": {},
   "outputs": [],
   "source": [
    "knn_params = {\n",
    "    'n_neighbors': range(3, 10, 1),\n",
    "    'metric': ['euclidean', 'manhattan']}"
   ]
  },
  {
   "cell_type": "code",
   "execution_count": 118,
   "metadata": {},
   "outputs": [],
   "source": [
    "# Instantiate our GridSearchCV object.\n",
    "knn_gridsearch = GridSearchCV(KNeighborsClassifier(), # What is the model we want to fit?\n",
    "                              knn_params, # What is the dictionary of hyperparameters?\n",
    "                              cv=2, # What number of folds in CV will we use?\n",
    "                              verbose=1) #"
   ]
  },
  {
   "cell_type": "code",
   "execution_count": 119,
   "metadata": {},
   "outputs": [
    {
     "name": "stdout",
     "output_type": "stream",
     "text": [
      "Fitting 2 folds for each of 14 candidates, totalling 28 fits\n"
     ]
    },
    {
     "name": "stderr",
     "output_type": "stream",
     "text": [
      "[Parallel(n_jobs=1)]: Using backend SequentialBackend with 1 concurrent workers.\n",
      "[Parallel(n_jobs=1)]: Done  28 out of  28 | elapsed:  2.3min finished\n"
     ]
    }
   ],
   "source": [
    "knn_gridsearch.fit(X_train, y_train);"
   ]
  },
  {
   "cell_type": "code",
   "execution_count": 120,
   "metadata": {},
   "outputs": [
    {
     "data": {
      "text/plain": [
       "{'metric': 'manhattan', 'n_neighbors': 4}"
      ]
     },
     "execution_count": 120,
     "metadata": {},
     "output_type": "execute_result"
    }
   ],
   "source": [
    "knn_gridsearch.best_params_"
   ]
  },
  {
   "cell_type": "code",
   "execution_count": 121,
   "metadata": {},
   "outputs": [
    {
     "data": {
      "text/plain": [
       "0.96519769713525"
      ]
     },
     "execution_count": 121,
     "metadata": {},
     "output_type": "execute_result"
    }
   ],
   "source": [
    "knn_gridsearch.best_score_"
   ]
  },
  {
   "cell_type": "code",
   "execution_count": 122,
   "metadata": {},
   "outputs": [],
   "source": [
    "y_pred=knn_gridsearch.predict(X_test)"
   ]
  },
  {
   "cell_type": "code",
   "execution_count": 123,
   "metadata": {},
   "outputs": [],
   "source": [
    "cm=confusion_matrix(y_test, # True values.\n",
    "                 y_pred) "
   ]
  },
  {
   "cell_type": "code",
   "execution_count": 124,
   "metadata": {},
   "outputs": [
    {
     "data": {
      "image/png": "[encoded data removed]",
      "text/plain": [
       "<Figure size 432x288 with 2 Axes>"
      ]
     },
     "metadata": {
      "needs_background": "light"
     },
     "output_type": "display_data"
    }
   ],
   "source": [
    "plot_confusion_matrix(knn_gridsearch, X_test, y_test, cmap='Blues', values_format='d');"
   ]
  },
  {
   "cell_type": "code",
   "execution_count": 125,
   "metadata": {},
   "outputs": [
    {
     "name": "stdout",
     "output_type": "stream",
     "text": [
      "True Negatives: 59213\n",
      "True Positives: 3899\n",
      "False Positives: 3078\n",
      "False Negatives: 58392\n"
     ]
    }
   ],
   "source": [
    "\n",
    "tn = cm[0,0]; print(\"True Negatives:\", tn)\n",
    "tp = cm[1,1]; print(\"True Positives:\", tp)\n",
    "fp = cm[0,1]; print(\"False Positives:\", fp)\n",
    "fn = cm[1,0]; print(\"False Negatives:\", fn)"
   ]
  },
  {
   "cell_type": "code",
   "execution_count": 126,
   "metadata": {},
   "outputs": [
    {
     "name": "stdout",
     "output_type": "stream",
     "text": [
      "              precision    recall  f1-score   support\n",
      "\n",
      "           0       0.50      0.95      0.66     62291\n",
      "           1       0.56      0.06      0.11     62291\n",
      "\n",
      "    accuracy                           0.51    124582\n",
      "   macro avg       0.53      0.51      0.39    124582\n",
      "weighted avg       0.53      0.51      0.39    124582\n",
      "\n"
     ]
    }
   ],
   "source": [
    "print(classification_report(y_test, y_pred))"
   ]
  },
  {
   "cell_type": "markdown",
   "metadata": {},
   "source": [
    "# Bernoulli Naive Bayes "
   ]
  },
  {
   "cell_type": "code",
   "execution_count": 127,
   "metadata": {},
   "outputs": [],
   "source": [
    "model=BernoulliNB()"
   ]
  },
  {
   "cell_type": "code",
   "execution_count": 128,
   "metadata": {},
   "outputs": [
    {
     "data": {
      "text/plain": [
       "BernoulliNB()"
      ]
     },
     "execution_count": 128,
     "metadata": {},
     "output_type": "execute_result"
    }
   ],
   "source": [
    "model.fit(X_train,y_train)"
   ]
  },
  {
   "cell_type": "code",
   "execution_count": 129,
   "metadata": {},
   "outputs": [
    {
     "data": {
      "text/plain": [
       "0.6481864075655677"
      ]
     },
     "execution_count": 129,
     "metadata": {},
     "output_type": "execute_result"
    }
   ],
   "source": [
    "model.score(X_train,y_train)"
   ]
  },
  {
   "cell_type": "code",
   "execution_count": 130,
   "metadata": {},
   "outputs": [
    {
     "data": {
      "text/plain": [
       "0.5931755791366329"
      ]
     },
     "execution_count": 130,
     "metadata": {},
     "output_type": "execute_result"
    }
   ],
   "source": [
    "model.score(X_test,y_test)"
   ]
  },
  {
   "cell_type": "code",
   "execution_count": 131,
   "metadata": {},
   "outputs": [],
   "source": [
    "y_pred=model.predict(X_test)"
   ]
  },
  {
   "cell_type": "code",
   "execution_count": 132,
   "metadata": {},
   "outputs": [
    {
     "name": "stdout",
     "output_type": "stream",
     "text": [
      "              precision    recall  f1-score   support\n",
      "\n",
      "           0       0.57      0.72      0.64     62291\n",
      "           1       0.63      0.46      0.53     62291\n",
      "\n",
      "    accuracy                           0.59    124582\n",
      "   macro avg       0.60      0.59      0.59    124582\n",
      "weighted avg       0.60      0.59      0.59    124582\n",
      "\n"
     ]
    }
   ],
   "source": [
    "print(classification_report(y_test, y_pred))"
   ]
  },
  {
   "cell_type": "code",
   "execution_count": 133,
   "metadata": {},
   "outputs": [],
   "source": [
    "cm=confusion_matrix(y_test, # True values.\n",
    "                 y_pred)"
   ]
  },
  {
   "cell_type": "code",
   "execution_count": 134,
   "metadata": {},
   "outputs": [
    {
     "data": {
      "image/png": "[encoded data removed]",
      "text/plain": [
       "<Figure size 432x288 with 2 Axes>"
      ]
     },
     "metadata": {
      "needs_background": "light"
     },
     "output_type": "display_data"
    }
   ],
   "source": [
    "plot_confusion_matrix(model, X_test, y_test, cmap='Blues', values_format='d');"
   ]
  },
  {
   "cell_type": "markdown",
   "metadata": {},
   "source": [
    "# Anomaly detection"
   ]
  },
  {
   "cell_type": "code",
   "execution_count": 236,
   "metadata": {},
   "outputs": [],
   "source": [
    "isolation_forest = IsolationForest(n_estimators=100)"
   ]
  },
  {
   "cell_type": "code",
   "execution_count": 238,
   "metadata": {},
   "outputs": [
    {
     "data": {
      "text/plain": [
       "IsolationForest()"
      ]
     },
     "execution_count": 238,
     "metadata": {},
     "output_type": "execute_result"
    }
   ],
   "source": [
    "isolation_forest.fit(X_train)"
   ]
  },
  {
   "cell_type": "code",
   "execution_count": 239,
   "metadata": {},
   "outputs": [],
   "source": [
    "xx = np.linspace(X_train.min(), X_train.max())"
   ]
  },
  {
   "cell_type": "code",
   "execution_count": 240,
   "metadata": {},
   "outputs": [],
   "source": [
    "anomaly_score = isolation_forest.decision_function(xx)"
   ]
  },
  {
   "cell_type": "code",
   "execution_count": 241,
   "metadata": {},
   "outputs": [],
   "source": [
    "outlier = isolation_forest.predict(xx)"
   ]
  },
  {
   "cell_type": "code",
   "execution_count": 242,
   "metadata": {},
   "outputs": [
    {
     "data": {
      "text/plain": [
       "array([ 1, -1, -1, -1, -1, -1, -1, -1, -1, -1, -1, -1, -1, -1, -1, -1, -1,\n",
       "       -1, -1, -1, -1, -1, -1, -1, -1, -1, -1, -1, -1, -1, -1, -1, -1, -1,\n",
       "       -1, -1, -1, -1, -1, -1, -1, -1, -1, -1, -1, -1, -1, -1, -1, -1])"
      ]
     },
     "execution_count": 242,
     "metadata": {},
     "output_type": "execute_result"
    }
   ],
   "source": [
    "outlier"
   ]
  },
  {
   "cell_type": "code",
   "execution_count": 243,
   "metadata": {},
   "outputs": [
    {
     "data": {
      "text/plain": [
       "array([ 0.15280685, -0.00683716, -0.11507853, -0.18129521, -0.23851736,\n",
       "       -0.2672483 , -0.28647988, -0.30152131, -0.31189149, -0.31244099,\n",
       "       -0.31629792, -0.31961843, -0.31961843, -0.32017316, -0.32239584,\n",
       "       -0.32462454, -0.32685928, -0.32630003, -0.33022275, -0.33078466,\n",
       "       -0.33078466, -0.33247267, -0.33190962, -0.33078466, -0.33134695,\n",
       "       -0.3341641 , -0.33585897, -0.33642469, -0.33642469, -0.33642469,\n",
       "       -0.33642469, -0.33869141, -0.33869141, -0.33982708, -0.33982708,\n",
       "       -0.33982708, -0.33982708, -0.33982708, -0.33982708, -0.33982708,\n",
       "       -0.33982708, -0.33982708, -0.33982708, -0.33982708, -0.33982708,\n",
       "       -0.33982708, -0.33982708, -0.33982708, -0.33982708, -0.33982708])"
      ]
     },
     "execution_count": 243,
     "metadata": {},
     "output_type": "execute_result"
    }
   ],
   "source": [
    "anomaly_score"
   ]
  },
  {
   "cell_type": "markdown",
   "metadata": {},
   "source": [
    "# HistGradient Boosting"
   ]
  },
  {
   "cell_type": "code",
   "execution_count": 135,
   "metadata": {},
   "outputs": [],
   "source": [
    "model = HistGradientBoostingClassifier()\n",
    "cv = RepeatedStratifiedKFold(n_splits=15, n_repeats=3, random_state=1)\n",
    "n_scores = cross_val_score(model, X_train, y_train, scoring='accuracy', cv=cv, n_jobs=-1, error_score='raise')\n"
   ]
  },
  {
   "cell_type": "code",
   "execution_count": 136,
   "metadata": {},
   "outputs": [],
   "source": [
    "# model = HistGradientBoostingClassifier()\n",
    "model.fit(X_train, y_train)\n",
    "\n",
    "yhat = model.predict(X_test)\n"
   ]
  },
  {
   "cell_type": "code",
   "execution_count": 137,
   "metadata": {},
   "outputs": [],
   "source": [
    "yhat = model.predict(X_test)"
   ]
  },
  {
   "cell_type": "code",
   "execution_count": 138,
   "metadata": {},
   "outputs": [],
   "source": [
    "cm = confusion_matrix(y_test, y_pred)"
   ]
  },
  {
   "cell_type": "code",
   "execution_count": 139,
   "metadata": {},
   "outputs": [
    {
     "data": {
      "image/png": "[encoded data removed]",
      "text/plain": [
       "<Figure size 432x288 with 2 Axes>"
      ]
     },
     "metadata": {
      "needs_background": "light"
     },
     "output_type": "display_data"
    }
   ],
   "source": [
    "plot_confusion_matrix(model, X_test, y_test, cmap='Blues', values_format='d');"
   ]
  },
  {
   "cell_type": "code",
   "execution_count": 140,
   "metadata": {},
   "outputs": [
    {
     "name": "stdout",
     "output_type": "stream",
     "text": [
      "True Negatives: 45039\n",
      "True Positives: 28860\n",
      "False Positives: 17252\n",
      "False Negatives: 33431\n"
     ]
    }
   ],
   "source": [
    "\n",
    "tn = cm[0,0]; print(\"True Negatives:\", tn)\n",
    "tp = cm[1,1]; print(\"True Positives:\", tp)\n",
    "fp = cm[0,1]; print(\"False Positives:\", fp)\n",
    "fn = cm[1,0]; print(\"False Negatives:\", fn)"
   ]
  },
  {
   "cell_type": "code",
   "execution_count": null,
   "metadata": {},
   "outputs": [],
   "source": []
  }
 ],
 "metadata": {
  "kernelspec": {
   "display_name": "Python 3",
   "language": "python",
   "name": "python3"
  },
  "language_info": {
   "codemirror_mode": {
    "name": "ipython",
    "version": 3
   },
   "file_extension": ".py",
   "mimetype": "text/x-python",
   "name": "python",
   "nbconvert_exporter": "python",
   "pygments_lexer": "ipython3",
   "version": "3.8.3"
  }
 },
 "nbformat": 4,
 "nbformat_minor": 4
}

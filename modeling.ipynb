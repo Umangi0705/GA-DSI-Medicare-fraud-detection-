{
 "cells": [
  {
   "cell_type": "code",
   "execution_count": 1,
   "metadata": {},
   "outputs": [],
   "source": [
    "import pandas as pd\n",
    "import numpy as np\n",
    "import seaborn as sns\n",
    "import matplotlib.pyplot as plt\n",
    "from sklearn.linear_model import LogisticRegression\n",
    "from sklearn.ensemble import RandomForestClassifier, ExtraTreesClassifier, BaggingClassifier, \\\n",
    " GradientBoostingClassifier, \\\n",
    "AdaBoostClassifier, VotingClassifier\n",
    "from sklearn.tree import DecisionTreeClassifier, plot_tree, export_text\n",
    "from sklearn.svm import LinearSVC\n",
    "from sklearn.svm import SVC\n",
    "from sklearn.model_selection import train_test_split, cross_val_score, KFold\n",
    "from sklearn.metrics import confusion_matrix, classification_report, \\\n",
    "recall_score, precision_score, accuracy_score, plot_confusion_matrix, roc_auc_score\n",
    "from sklearn.preprocessing import StandardScaler\n",
    "from imblearn.under_sampling import RandomUnderSampler\n",
    "from imblearn.over_sampling import RandomOverSampler, SMOTE\n",
    "from sklearn.ensemble import IsolationForest"
   ]
  },
  {
   "cell_type": "code",
   "execution_count": 2,
   "metadata": {},
   "outputs": [],
   "source": [
    "df=pd.read_csv(\"./datasets/final_data.csv\",index_col=0)"
   ]
  },
  {
   "cell_type": "code",
   "execution_count": 3,
   "metadata": {},
   "outputs": [
    {
     "data": {
      "text/plain": [
       "NPI                                    0\n",
       "Name                                   0\n",
       "city                                   0\n",
       "state                                  0\n",
       "specialty_description                  0\n",
       "total_drug_cost                        0\n",
       "total_claim_count                      0\n",
       "total_day_supply                       0\n",
       "Opioid Claim Count                     0\n",
       "Opioid Prescribing Rate                0\n",
       "Long-Acting Opioid Claim Count         0\n",
       "Long-Acting Opioid Prescribing Rate    0\n",
       "Total_Payment_Sum                      0\n",
       "is_fraud                               0\n",
       "dtype: int64"
      ]
     },
     "execution_count": 3,
     "metadata": {},
     "output_type": "execute_result"
    }
   ],
   "source": [
    "df.isnull().sum()"
   ]
  },
  {
   "cell_type": "code",
   "execution_count": 4,
   "metadata": {},
   "outputs": [
    {
     "data": {
      "text/plain": [
       "Index(['NPI', 'Name', 'city', 'state', 'specialty_description',\n",
       "       'total_drug_cost', 'total_claim_count', 'total_day_supply',\n",
       "       'Opioid Claim Count', 'Opioid Prescribing Rate',\n",
       "       'Long-Acting Opioid Claim Count', 'Long-Acting Opioid Prescribing Rate',\n",
       "       'Total_Payment_Sum', 'is_fraud'],\n",
       "      dtype='object')"
      ]
     },
     "execution_count": 4,
     "metadata": {},
     "output_type": "execute_result"
    }
   ],
   "source": [
    "df.columns"
   ]
  },
  {
   "cell_type": "code",
   "execution_count": 5,
   "metadata": {},
   "outputs": [
    {
     "data": {
      "text/plain": [
       "0         0\n",
       "1         0\n",
       "2         0\n",
       "3         1\n",
       "4         0\n",
       "         ..\n",
       "503245    0\n",
       "503246    0\n",
       "503247    0\n",
       "503248    0\n",
       "503249    0\n",
       "Name: is_fraud, Length: 503250, dtype: int64"
      ]
     },
     "execution_count": 5,
     "metadata": {},
     "output_type": "execute_result"
    }
   ],
   "source": [
    "df[\"is_fraud\"]"
   ]
  },
  {
   "cell_type": "code",
   "execution_count": 6,
   "metadata": {},
   "outputs": [
    {
     "data": {
      "text/html": [
       "<div>\n",
       "<style scoped>\n",
       "    .dataframe tbody tr th:only-of-type {\n",
       "        vertical-align: middle;\n",
       "    }\n",
       "\n",
       "    .dataframe tbody tr th {\n",
       "        vertical-align: top;\n",
       "    }\n",
       "\n",
       "    .dataframe thead th {\n",
       "        text-align: right;\n",
       "    }\n",
       "</style>\n",
       "<table border=\"1\" class=\"dataframe\">\n",
       "  <thead>\n",
       "    <tr style=\"text-align: right;\">\n",
       "      <th></th>\n",
       "      <th>NPI</th>\n",
       "      <th>total_drug_cost</th>\n",
       "      <th>total_claim_count</th>\n",
       "      <th>total_day_supply</th>\n",
       "      <th>Opioid Claim Count</th>\n",
       "      <th>Opioid Prescribing Rate</th>\n",
       "      <th>Long-Acting Opioid Claim Count</th>\n",
       "      <th>Long-Acting Opioid Prescribing Rate</th>\n",
       "      <th>Total_Payment_Sum</th>\n",
       "      <th>is_fraud</th>\n",
       "    </tr>\n",
       "  </thead>\n",
       "  <tbody>\n",
       "    <tr>\n",
       "      <th>NPI</th>\n",
       "      <td>1.000000</td>\n",
       "      <td>0.000229</td>\n",
       "      <td>-0.000304</td>\n",
       "      <td>0.000236</td>\n",
       "      <td>0.000186</td>\n",
       "      <td>-0.000254</td>\n",
       "      <td>-0.000548</td>\n",
       "      <td>0.001076</td>\n",
       "      <td>-0.001683</td>\n",
       "      <td>-0.002130</td>\n",
       "    </tr>\n",
       "    <tr>\n",
       "      <th>total_drug_cost</th>\n",
       "      <td>0.000229</td>\n",
       "      <td>1.000000</td>\n",
       "      <td>0.555280</td>\n",
       "      <td>0.525516</td>\n",
       "      <td>0.264773</td>\n",
       "      <td>-0.105318</td>\n",
       "      <td>0.164074</td>\n",
       "      <td>0.224739</td>\n",
       "      <td>0.021769</td>\n",
       "      <td>0.004043</td>\n",
       "    </tr>\n",
       "    <tr>\n",
       "      <th>total_claim_count</th>\n",
       "      <td>-0.000304</td>\n",
       "      <td>0.555280</td>\n",
       "      <td>1.000000</td>\n",
       "      <td>0.929016</td>\n",
       "      <td>0.471554</td>\n",
       "      <td>-0.110820</td>\n",
       "      <td>0.235911</td>\n",
       "      <td>0.218041</td>\n",
       "      <td>-0.003782</td>\n",
       "      <td>0.006611</td>\n",
       "    </tr>\n",
       "    <tr>\n",
       "      <th>total_day_supply</th>\n",
       "      <td>0.000236</td>\n",
       "      <td>0.525516</td>\n",
       "      <td>0.929016</td>\n",
       "      <td>1.000000</td>\n",
       "      <td>0.417268</td>\n",
       "      <td>-0.142410</td>\n",
       "      <td>0.185092</td>\n",
       "      <td>0.202912</td>\n",
       "      <td>-0.005035</td>\n",
       "      <td>0.004884</td>\n",
       "    </tr>\n",
       "    <tr>\n",
       "      <th>Opioid Claim Count</th>\n",
       "      <td>0.000186</td>\n",
       "      <td>0.264773</td>\n",
       "      <td>0.471554</td>\n",
       "      <td>0.417268</td>\n",
       "      <td>1.000000</td>\n",
       "      <td>0.272214</td>\n",
       "      <td>0.853087</td>\n",
       "      <td>0.356382</td>\n",
       "      <td>-0.000322</td>\n",
       "      <td>0.017823</td>\n",
       "    </tr>\n",
       "    <tr>\n",
       "      <th>Opioid Prescribing Rate</th>\n",
       "      <td>-0.000254</td>\n",
       "      <td>-0.105318</td>\n",
       "      <td>-0.110820</td>\n",
       "      <td>-0.142410</td>\n",
       "      <td>0.272214</td>\n",
       "      <td>1.000000</td>\n",
       "      <td>0.236285</td>\n",
       "      <td>0.170168</td>\n",
       "      <td>0.017645</td>\n",
       "      <td>0.003790</td>\n",
       "    </tr>\n",
       "    <tr>\n",
       "      <th>Long-Acting Opioid Claim Count</th>\n",
       "      <td>-0.000548</td>\n",
       "      <td>0.164074</td>\n",
       "      <td>0.235911</td>\n",
       "      <td>0.185092</td>\n",
       "      <td>0.853087</td>\n",
       "      <td>0.236285</td>\n",
       "      <td>1.000000</td>\n",
       "      <td>0.418829</td>\n",
       "      <td>-0.000640</td>\n",
       "      <td>0.018924</td>\n",
       "    </tr>\n",
       "    <tr>\n",
       "      <th>Long-Acting Opioid Prescribing Rate</th>\n",
       "      <td>0.001076</td>\n",
       "      <td>0.224739</td>\n",
       "      <td>0.218041</td>\n",
       "      <td>0.202912</td>\n",
       "      <td>0.356382</td>\n",
       "      <td>0.170168</td>\n",
       "      <td>0.418829</td>\n",
       "      <td>1.000000</td>\n",
       "      <td>0.004867</td>\n",
       "      <td>0.012254</td>\n",
       "    </tr>\n",
       "    <tr>\n",
       "      <th>Total_Payment_Sum</th>\n",
       "      <td>-0.001683</td>\n",
       "      <td>0.021769</td>\n",
       "      <td>-0.003782</td>\n",
       "      <td>-0.005035</td>\n",
       "      <td>-0.000322</td>\n",
       "      <td>0.017645</td>\n",
       "      <td>-0.000640</td>\n",
       "      <td>0.004867</td>\n",
       "      <td>1.000000</td>\n",
       "      <td>0.000906</td>\n",
       "    </tr>\n",
       "    <tr>\n",
       "      <th>is_fraud</th>\n",
       "      <td>-0.002130</td>\n",
       "      <td>0.004043</td>\n",
       "      <td>0.006611</td>\n",
       "      <td>0.004884</td>\n",
       "      <td>0.017823</td>\n",
       "      <td>0.003790</td>\n",
       "      <td>0.018924</td>\n",
       "      <td>0.012254</td>\n",
       "      <td>0.000906</td>\n",
       "      <td>1.000000</td>\n",
       "    </tr>\n",
       "  </tbody>\n",
       "</table>\n",
       "</div>"
      ],
      "text/plain": [
       "                                          NPI  total_drug_cost  \\\n",
       "NPI                                  1.000000         0.000229   \n",
       "total_drug_cost                      0.000229         1.000000   \n",
       "total_claim_count                   -0.000304         0.555280   \n",
       "total_day_supply                     0.000236         0.525516   \n",
       "Opioid Claim Count                   0.000186         0.264773   \n",
       "Opioid Prescribing Rate             -0.000254        -0.105318   \n",
       "Long-Acting Opioid Claim Count      -0.000548         0.164074   \n",
       "Long-Acting Opioid Prescribing Rate  0.001076         0.224739   \n",
       "Total_Payment_Sum                   -0.001683         0.021769   \n",
       "is_fraud                            -0.002130         0.004043   \n",
       "\n",
       "                                     total_claim_count  total_day_supply  \\\n",
       "NPI                                          -0.000304          0.000236   \n",
       "total_drug_cost                               0.555280          0.525516   \n",
       "total_claim_count                             1.000000          0.929016   \n",
       "total_day_supply                              0.929016          1.000000   \n",
       "Opioid Claim Count                            0.471554          0.417268   \n",
       "Opioid Prescribing Rate                      -0.110820         -0.142410   \n",
       "Long-Acting Opioid Claim Count                0.235911          0.185092   \n",
       "Long-Acting Opioid Prescribing Rate           0.218041          0.202912   \n",
       "Total_Payment_Sum                            -0.003782         -0.005035   \n",
       "is_fraud                                      0.006611          0.004884   \n",
       "\n",
       "                                     Opioid Claim Count  \\\n",
       "NPI                                            0.000186   \n",
       "total_drug_cost                                0.264773   \n",
       "total_claim_count                              0.471554   \n",
       "total_day_supply                               0.417268   \n",
       "Opioid Claim Count                             1.000000   \n",
       "Opioid Prescribing Rate                        0.272214   \n",
       "Long-Acting Opioid Claim Count                 0.853087   \n",
       "Long-Acting Opioid Prescribing Rate            0.356382   \n",
       "Total_Payment_Sum                             -0.000322   \n",
       "is_fraud                                       0.017823   \n",
       "\n",
       "                                     Opioid Prescribing Rate  \\\n",
       "NPI                                                -0.000254   \n",
       "total_drug_cost                                    -0.105318   \n",
       "total_claim_count                                  -0.110820   \n",
       "total_day_supply                                   -0.142410   \n",
       "Opioid Claim Count                                  0.272214   \n",
       "Opioid Prescribing Rate                             1.000000   \n",
       "Long-Acting Opioid Claim Count                      0.236285   \n",
       "Long-Acting Opioid Prescribing Rate                 0.170168   \n",
       "Total_Payment_Sum                                   0.017645   \n",
       "is_fraud                                            0.003790   \n",
       "\n",
       "                                     Long-Acting Opioid Claim Count  \\\n",
       "NPI                                                       -0.000548   \n",
       "total_drug_cost                                            0.164074   \n",
       "total_claim_count                                          0.235911   \n",
       "total_day_supply                                           0.185092   \n",
       "Opioid Claim Count                                         0.853087   \n",
       "Opioid Prescribing Rate                                    0.236285   \n",
       "Long-Acting Opioid Claim Count                             1.000000   \n",
       "Long-Acting Opioid Prescribing Rate                        0.418829   \n",
       "Total_Payment_Sum                                         -0.000640   \n",
       "is_fraud                                                   0.018924   \n",
       "\n",
       "                                     Long-Acting Opioid Prescribing Rate  \\\n",
       "NPI                                                             0.001076   \n",
       "total_drug_cost                                                 0.224739   \n",
       "total_claim_count                                               0.218041   \n",
       "total_day_supply                                                0.202912   \n",
       "Opioid Claim Count                                              0.356382   \n",
       "Opioid Prescribing Rate                                         0.170168   \n",
       "Long-Acting Opioid Claim Count                                  0.418829   \n",
       "Long-Acting Opioid Prescribing Rate                             1.000000   \n",
       "Total_Payment_Sum                                               0.004867   \n",
       "is_fraud                                                        0.012254   \n",
       "\n",
       "                                     Total_Payment_Sum  is_fraud  \n",
       "NPI                                          -0.001683 -0.002130  \n",
       "total_drug_cost                               0.021769  0.004043  \n",
       "total_claim_count                            -0.003782  0.006611  \n",
       "total_day_supply                             -0.005035  0.004884  \n",
       "Opioid Claim Count                           -0.000322  0.017823  \n",
       "Opioid Prescribing Rate                       0.017645  0.003790  \n",
       "Long-Acting Opioid Claim Count               -0.000640  0.018924  \n",
       "Long-Acting Opioid Prescribing Rate           0.004867  0.012254  \n",
       "Total_Payment_Sum                             1.000000  0.000906  \n",
       "is_fraud                                      0.000906  1.000000  "
      ]
     },
     "execution_count": 6,
     "metadata": {},
     "output_type": "execute_result"
    }
   ],
   "source": [
    "df.corr()"
   ]
  },
  {
   "cell_type": "markdown",
   "metadata": {},
   "source": [
    "Pre Processing"
   ]
  },
  {
   "cell_type": "code",
   "execution_count": 7,
   "metadata": {},
   "outputs": [],
   "source": [
    "#setting up the predictors and target variable\n",
    "\n",
    "X=df[['total_drug_cost', 'total_claim_count', 'total_day_supply',\n",
    "       'Opioid Claim Count', 'Opioid Prescribing Rate',\n",
    "       'Long-Acting Opioid Claim Count', 'Long-Acting Opioid Prescribing Rate',\n",
    "       'Total_Payment_Sum']]\n",
    "y=df[\"is_fraud\"]"
   ]
  },
  {
   "cell_type": "markdown",
   "metadata": {},
   "source": [
    "train-test-split"
   ]
  },
  {
   "cell_type": "code",
   "execution_count": 8,
   "metadata": {},
   "outputs": [
    {
     "data": {
      "text/plain": [
       "((503250, 8), (503250,))"
      ]
     },
     "execution_count": 8,
     "metadata": {},
     "output_type": "execute_result"
    }
   ],
   "source": [
    "X.shape, y.shape"
   ]
  },
  {
   "cell_type": "code",
   "execution_count": 9,
   "metadata": {},
   "outputs": [],
   "source": [
    "X_train, X_test, y_train, y_test = train_test_split(X, y,\n",
    "                                                  test_size = .25,\n",
    "                                                    random_state=42,\n",
    "                                                    stratify=y\n",
    "                                                  )"
   ]
  },
  {
   "cell_type": "code",
   "execution_count": 10,
   "metadata": {},
   "outputs": [
    {
     "data": {
      "text/plain": [
       "((377437, 8), (125813, 8), (377437,), (125813,))"
      ]
     },
     "execution_count": 10,
     "metadata": {},
     "output_type": "execute_result"
    }
   ],
   "source": [
    "X_train.shape,X_test.shape,y_train.shape,y_test.shape"
   ]
  },
  {
   "cell_type": "code",
   "execution_count": 11,
   "metadata": {},
   "outputs": [],
   "source": [
    "sm = SMOTE()\n",
    "X_train_res, y_train_res = sm.fit_sample(X_train, y_train)\n",
    "X_test,y_test=sm.fit_sample(X_test, y_test)"
   ]
  },
  {
   "cell_type": "code",
   "execution_count": 12,
   "metadata": {},
   "outputs": [
    {
     "data": {
      "text/plain": [
       "((754486, 8), (754486,))"
      ]
     },
     "execution_count": 12,
     "metadata": {},
     "output_type": "execute_result"
    }
   ],
   "source": [
    "X_train_res.shape,y_train_res.shape"
   ]
  },
  {
   "cell_type": "code",
   "execution_count": 13,
   "metadata": {},
   "outputs": [
    {
     "data": {
      "text/plain": [
       "0    377243\n",
       "1       194\n",
       "Name: is_fraud, dtype: int64"
      ]
     },
     "execution_count": 13,
     "metadata": {},
     "output_type": "execute_result"
    }
   ],
   "source": [
    "y_train.value_counts()"
   ]
  },
  {
   "cell_type": "code",
   "execution_count": 14,
   "metadata": {},
   "outputs": [
    {
     "data": {
      "text/plain": [
       "1    377243\n",
       "0    377243\n",
       "Name: is_fraud, dtype: int64"
      ]
     },
     "execution_count": 14,
     "metadata": {},
     "output_type": "execute_result"
    }
   ],
   "source": [
    "y_train_res.value_counts()"
   ]
  },
  {
   "cell_type": "code",
   "execution_count": 15,
   "metadata": {},
   "outputs": [
    {
     "data": {
      "text/plain": [
       "1    125748\n",
       "0    125748\n",
       "Name: is_fraud, dtype: int64"
      ]
     },
     "execution_count": 15,
     "metadata": {},
     "output_type": "execute_result"
    }
   ],
   "source": [
    "y_test.value_counts()"
   ]
  },
  {
   "cell_type": "markdown",
   "metadata": {},
   "source": [
    "# Logistic Regression"
   ]
  },
  {
   "cell_type": "code",
   "execution_count": 16,
   "metadata": {},
   "outputs": [],
   "source": [
    "model=LogisticRegression(max_iter=1000)"
   ]
  },
  {
   "cell_type": "code",
   "execution_count": 17,
   "metadata": {},
   "outputs": [
    {
     "data": {
      "text/plain": [
       "LogisticRegression(max_iter=1000)"
      ]
     },
     "execution_count": 17,
     "metadata": {},
     "output_type": "execute_result"
    }
   ],
   "source": [
    "model.fit(X_train_res,y_train_res)"
   ]
  },
  {
   "cell_type": "code",
   "execution_count": 18,
   "metadata": {},
   "outputs": [],
   "source": [
    "y_pred=model.predict(X_test)"
   ]
  },
  {
   "cell_type": "code",
   "execution_count": 19,
   "metadata": {},
   "outputs": [
    {
     "data": {
      "text/plain": [
       "0.6063850091320448"
      ]
     },
     "execution_count": 19,
     "metadata": {},
     "output_type": "execute_result"
    }
   ],
   "source": [
    "model.score(X_train_res,y_train_res)"
   ]
  },
  {
   "cell_type": "code",
   "execution_count": 21,
   "metadata": {},
   "outputs": [
    {
     "data": {
      "text/plain": [
       "0.6305507841078983"
      ]
     },
     "execution_count": 21,
     "metadata": {},
     "output_type": "execute_result"
    }
   ],
   "source": [
    "model.score(X_test,y_test)"
   ]
  },
  {
   "cell_type": "code",
   "execution_count": 22,
   "metadata": {},
   "outputs": [
    {
     "data": {
      "text/plain": [
       "1    166515\n",
       "0     84981\n",
       "dtype: int64"
      ]
     },
     "execution_count": 22,
     "metadata": {},
     "output_type": "execute_result"
    }
   ],
   "source": [
    "pd.Series(y_pred).value_counts()"
   ]
  },
  {
   "cell_type": "code",
   "execution_count": 23,
   "metadata": {},
   "outputs": [
    {
     "data": {
      "text/plain": [
       "array([[-7.16603838e-07,  1.56630861e-04, -3.62256530e-06,\n",
       "         1.44629851e-03,  1.38442696e-06,  3.79752105e-04,\n",
       "         3.90597599e-05, -1.45391360e-06]])"
      ]
     },
     "execution_count": 23,
     "metadata": {},
     "output_type": "execute_result"
    }
   ],
   "source": [
    "model.coef_"
   ]
  },
  {
   "cell_type": "code",
   "execution_count": 24,
   "metadata": {},
   "outputs": [
    {
     "data": {
      "text/plain": [
       "array([[0.50313513, 0.49686487],\n",
       "       [0.4909022 , 0.5090978 ],\n",
       "       [0.50968791, 0.49031209],\n",
       "       ...,\n",
       "       [0.48011128, 0.51988872],\n",
       "       [0.49242876, 0.50757124],\n",
       "       [0.47866406, 0.52133594]])"
      ]
     },
     "execution_count": 24,
     "metadata": {},
     "output_type": "execute_result"
    }
   ],
   "source": [
    "model.predict_proba(X_train)"
   ]
  },
  {
   "cell_type": "code",
   "execution_count": 25,
   "metadata": {},
   "outputs": [
    {
     "data": {
      "text/plain": [
       "[('total_drug_cost', -7.166038378657347e-07),\n",
       " ('total_claim_count', 0.00015663086097634244),\n",
       " ('total_day_supply', -3.622565296412984e-06),\n",
       " ('Opioid Claim Count', 0.0014462985101893564),\n",
       " ('Opioid Prescribing Rate', 1.3844269557036085e-06),\n",
       " ('Long-Acting Opioid Claim Count', 0.0003797521052709214),\n",
       " ('Long-Acting Opioid Prescribing Rate', 3.905975992473715e-05),\n",
       " ('Total_Payment_Sum', -1.453913602229601e-06)]"
      ]
     },
     "execution_count": 25,
     "metadata": {},
     "output_type": "execute_result"
    }
   ],
   "source": [
    "list(zip(X.columns, model.coef_[0]))"
   ]
  },
  {
   "cell_type": "code",
   "execution_count": 26,
   "metadata": {},
   "outputs": [],
   "source": [
    "cm=confusion_matrix(y_test, # True values.\n",
    "                 y_pred) "
   ]
  },
  {
   "cell_type": "code",
   "execution_count": 27,
   "metadata": {},
   "outputs": [
    {
     "data": {
      "image/png": "[encoded data removed]",
      "text/plain": [
       "<Figure size 432x288 with 2 Axes>"
      ]
     },
     "metadata": {
      "needs_background": "light"
     },
     "output_type": "display_data"
    }
   ],
   "source": [
    "\n",
    "plot_confusion_matrix(model, X_test, y_test, cmap='Greens', values_format='d');"
   ]
  },
  {
   "cell_type": "code",
   "execution_count": 28,
   "metadata": {},
   "outputs": [
    {
     "name": "stdout",
     "output_type": "stream",
     "text": [
      "True Negatives: 58907\n",
      "True Positives: 99674\n",
      "False Positives: 66841\n",
      "False Negatives: 26074\n"
     ]
    }
   ],
   "source": [
    "\n",
    "tn = cm[0,0]; print(\"True Negatives:\", tn)\n",
    "tp = cm[1,1]; print(\"True Positives:\", tp)\n",
    "fp = cm[0,1]; print(\"False Positives:\", fp)\n",
    "fn = cm[1,0]; print(\"False Negatives:\", fn)"
   ]
  },
  {
   "cell_type": "code",
   "execution_count": 29,
   "metadata": {},
   "outputs": [
    {
     "name": "stdout",
     "output_type": "stream",
     "text": [
      "              precision    recall  f1-score   support\n",
      "\n",
      "           0       0.69      0.47      0.56    125748\n",
      "           1       0.60      0.79      0.68    125748\n",
      "\n",
      "    accuracy                           0.63    251496\n",
      "   macro avg       0.65      0.63      0.62    251496\n",
      "weighted avg       0.65      0.63      0.62    251496\n",
      "\n"
     ]
    }
   ],
   "source": [
    "print(classification_report(y_test, y_pred))"
   ]
  },
  {
   "cell_type": "markdown",
   "metadata": {},
   "source": [
    "high precision relates to a low false positive rate, and high recall relates to a low false negative rate."
   ]
  },
  {
   "cell_type": "markdown",
   "metadata": {},
   "source": [
    " The True Positive Rate (TPR) is a plot against False Positive Rate (FPR) for the probabilities of the classifier predictions. Then, the area under the plot is calculated. The greater the area under the curve the better our model is."
   ]
  },
  {
   "cell_type": "code",
   "execution_count": 30,
   "metadata": {},
   "outputs": [
    {
     "data": {
      "text/plain": [
       "0.6305507841078983"
      ]
     },
     "execution_count": 30,
     "metadata": {},
     "output_type": "execute_result"
    }
   ],
   "source": [
    "roc_auc_score(y_test, y_pred)"
   ]
  },
  {
   "cell_type": "code",
   "execution_count": 31,
   "metadata": {},
   "outputs": [
    {
     "data": {
      "text/plain": [
       "1    0.5\n",
       "0    0.5\n",
       "Name: is_fraud, dtype: float64"
      ]
     },
     "execution_count": 31,
     "metadata": {},
     "output_type": "execute_result"
    }
   ],
   "source": [
    "pd.Series(y_test).value_counts(normalize=True)"
   ]
  },
  {
   "cell_type": "markdown",
   "metadata": {},
   "source": [
    "# Decision Tree Classifier"
   ]
  },
  {
   "cell_type": "code",
   "execution_count": 32,
   "metadata": {},
   "outputs": [],
   "source": [
    "dtc = DecisionTreeClassifier(max_depth = 5,\n",
    "                            min_samples_split = 7,\n",
    "                            min_samples_leaf = 3,\n",
    "                            ccp_alpha = 0.01,\n",
    "                            random_state = 42)"
   ]
  },
  {
   "cell_type": "code",
   "execution_count": 33,
   "metadata": {},
   "outputs": [
    {
     "data": {
      "text/plain": [
       "DecisionTreeClassifier(ccp_alpha=0.01, max_depth=5, min_samples_leaf=3,\n",
       "                       min_samples_split=7, random_state=42)"
      ]
     },
     "execution_count": 33,
     "metadata": {},
     "output_type": "execute_result"
    }
   ],
   "source": [
    "dtc.fit(X_train_res, y_train_res)"
   ]
  },
  {
   "cell_type": "code",
   "execution_count": 34,
   "metadata": {},
   "outputs": [
    {
     "data": {
      "text/plain": [
       "0    377243\n",
       "1    377243\n",
       "Name: is_fraud, dtype: int64"
      ]
     },
     "execution_count": 34,
     "metadata": {},
     "output_type": "execute_result"
    }
   ],
   "source": [
    "y_train_res.value_counts().sort_index()"
   ]
  },
  {
   "cell_type": "code",
   "execution_count": 35,
   "metadata": {},
   "outputs": [
    {
     "data": {
      "image/png": "[encoded data removed]",
      "text/plain": [
       "<Figure size 720x432 with 1 Axes>"
      ]
     },
     "metadata": {
      "needs_background": "light"
     },
     "output_type": "display_data"
    }
   ],
   "source": [
    "plt.figure(figsize=(10,6))\n",
    "plot_tree(dtc, feature_names=X.columns, \n",
    "           filled=True);"
   ]
  },
  {
   "cell_type": "code",
   "execution_count": 36,
   "metadata": {},
   "outputs": [
    {
     "name": "stdout",
     "output_type": "stream",
     "text": [
      "Score on training set: 0.6904250045726494\n",
      "Score on testing set: 0.7123214683334924\n"
     ]
    }
   ],
   "source": [
    "print(f'Score on training set: {dtc.score(X_train_res, y_train_res)}')\n",
    "print(f'Score on testing set: {dtc.score(X_test, y_test)}')"
   ]
  },
  {
   "cell_type": "code",
   "execution_count": 37,
   "metadata": {},
   "outputs": [],
   "source": [
    "preds=dtc.predict(X_test)"
   ]
  },
  {
   "cell_type": "code",
   "execution_count": 38,
   "metadata": {},
   "outputs": [
    {
     "data": {
      "text/plain": [
       "array([0, 0, 0, ..., 0, 1, 0])"
      ]
     },
     "execution_count": 38,
     "metadata": {},
     "output_type": "execute_result"
    }
   ],
   "source": [
    "preds"
   ]
  },
  {
   "cell_type": "code",
   "execution_count": 39,
   "metadata": {},
   "outputs": [],
   "source": [
    "cm=confusion_matrix(y_test, # True values.\n",
    "                 preds) "
   ]
  },
  {
   "cell_type": "code",
   "execution_count": 40,
   "metadata": {},
   "outputs": [
    {
     "data": {
      "image/png": "[encoded data removed]",
      "text/plain": [
       "<Figure size 432x288 with 2 Axes>"
      ]
     },
     "metadata": {
      "needs_background": "light"
     },
     "output_type": "display_data"
    }
   ],
   "source": [
    "plot_confusion_matrix(dtc, X_test, y_test, cmap='Blues', values_format='d');"
   ]
  },
  {
   "cell_type": "code",
   "execution_count": 41,
   "metadata": {},
   "outputs": [
    {
     "name": "stdout",
     "output_type": "stream",
     "text": [
      "True Negatives: 109449\n",
      "True Positives: 69697\n",
      "False Positives: 16299\n",
      "False Negatives: 56051\n"
     ]
    }
   ],
   "source": [
    "\n",
    "tn = cm[0,0]; print(\"True Negatives:\", tn)\n",
    "tp = cm[1,1]; print(\"True Positives:\", tp)\n",
    "fp = cm[0,1]; print(\"False Positives:\", fp)\n",
    "fn = cm[1,0]; print(\"False Negatives:\", fn)"
   ]
  },
  {
   "cell_type": "code",
   "execution_count": 42,
   "metadata": {},
   "outputs": [
    {
     "data": {
      "text/plain": [
       "0.7123214683334924"
      ]
     },
     "execution_count": 42,
     "metadata": {},
     "output_type": "execute_result"
    }
   ],
   "source": [
    "accuracy_score(y_test, preds)"
   ]
  },
  {
   "cell_type": "code",
   "execution_count": 43,
   "metadata": {},
   "outputs": [
    {
     "name": "stdout",
     "output_type": "stream",
     "text": [
      "              precision    recall  f1-score   support\n",
      "\n",
      "           0       0.66      0.87      0.75    125748\n",
      "           1       0.81      0.55      0.66    125748\n",
      "\n",
      "    accuracy                           0.71    251496\n",
      "   macro avg       0.74      0.71      0.70    251496\n",
      "weighted avg       0.74      0.71      0.70    251496\n",
      "\n"
     ]
    }
   ],
   "source": [
    "print(classification_report(y_test, preds))"
   ]
  },
  {
   "cell_type": "markdown",
   "metadata": {},
   "source": [
    "# Bagging Classifier"
   ]
  },
  {
   "cell_type": "code",
   "execution_count": 44,
   "metadata": {},
   "outputs": [],
   "source": [
    "bag = BaggingClassifier(random_state = 42)"
   ]
  },
  {
   "cell_type": "code",
   "execution_count": 45,
   "metadata": {},
   "outputs": [
    {
     "data": {
      "text/plain": [
       "0.5944945446448452"
      ]
     },
     "execution_count": 45,
     "metadata": {},
     "output_type": "execute_result"
    }
   ],
   "source": [
    "# Fit BaggingClassifier.\n",
    "bag.fit(X_train_res, y_train_res)\n",
    "\n",
    "# Score BaggingClassifier.\n",
    "bag.score(X_test, y_test)"
   ]
  },
  {
   "cell_type": "code",
   "execution_count": 46,
   "metadata": {},
   "outputs": [
    {
     "data": {
      "text/plain": [
       "0.9999125232277338"
      ]
     },
     "execution_count": 46,
     "metadata": {},
     "output_type": "execute_result"
    }
   ],
   "source": [
    "bag.score(X_train_res, y_train_res)"
   ]
  },
  {
   "cell_type": "code",
   "execution_count": 47,
   "metadata": {},
   "outputs": [],
   "source": [
    "preds1=bag.predict(X_test)"
   ]
  },
  {
   "cell_type": "code",
   "execution_count": 48,
   "metadata": {},
   "outputs": [],
   "source": [
    "cm=confusion_matrix(y_test, # True values.\n",
    "                 preds) "
   ]
  },
  {
   "cell_type": "code",
   "execution_count": 50,
   "metadata": {},
   "outputs": [
    {
     "data": {
      "image/png": "[encoded data removed]",
      "text/plain": [
       "<Figure size 432x288 with 2 Axes>"
      ]
     },
     "metadata": {
      "needs_background": "light"
     },
     "output_type": "display_data"
    }
   ],
   "source": [
    "plot_confusion_matrix(bag, X_test, y_test, cmap='Greens', values_format='d');"
   ]
  },
  {
   "cell_type": "code",
   "execution_count": 51,
   "metadata": {},
   "outputs": [
    {
     "name": "stdout",
     "output_type": "stream",
     "text": [
      "True Negatives: 109449\n",
      "True Positives: 69697\n",
      "False Positives: 16299\n",
      "False Negatives: 56051\n"
     ]
    }
   ],
   "source": [
    "\n",
    "tn = cm[0,0]; print(\"True Negatives:\", tn)\n",
    "tp = cm[1,1]; print(\"True Positives:\", tp)\n",
    "fp = cm[0,1]; print(\"False Positives:\", fp)\n",
    "fn = cm[1,0]; print(\"False Negatives:\", fn)"
   ]
  },
  {
   "cell_type": "code",
   "execution_count": 52,
   "metadata": {},
   "outputs": [
    {
     "name": "stdout",
     "output_type": "stream",
     "text": [
      "              precision    recall  f1-score   support\n",
      "\n",
      "           0       0.55      1.00      0.71    125748\n",
      "           1       0.98      0.19      0.32    125748\n",
      "\n",
      "    accuracy                           0.59    251496\n",
      "   macro avg       0.77      0.59      0.52    251496\n",
      "weighted avg       0.77      0.59      0.52    251496\n",
      "\n"
     ]
    }
   ],
   "source": [
    "print(classification_report(y_test, preds1))"
   ]
  },
  {
   "cell_type": "markdown",
   "metadata": {},
   "source": [
    "# Random Forest Classifier"
   ]
  },
  {
   "cell_type": "code",
   "execution_count": 53,
   "metadata": {},
   "outputs": [],
   "source": [
    "rf = RandomForestClassifier(n_estimators=100)"
   ]
  },
  {
   "cell_type": "code",
   "execution_count": 54,
   "metadata": {},
   "outputs": [
    {
     "data": {
      "text/plain": [
       "RandomForestClassifier()"
      ]
     },
     "execution_count": 54,
     "metadata": {},
     "output_type": "execute_result"
    }
   ],
   "source": [
    "rf.fit(X_train_res,y_train_res)"
   ]
  },
  {
   "cell_type": "code",
   "execution_count": 55,
   "metadata": {},
   "outputs": [],
   "source": [
    "y_pred=rf.predict(X_test)"
   ]
  },
  {
   "cell_type": "code",
   "execution_count": 56,
   "metadata": {},
   "outputs": [
    {
     "data": {
      "text/plain": [
       "1.0"
      ]
     },
     "execution_count": 56,
     "metadata": {},
     "output_type": "execute_result"
    }
   ],
   "source": [
    "rf.score(X_train_res,y_train_res)"
   ]
  },
  {
   "cell_type": "code",
   "execution_count": 57,
   "metadata": {},
   "outputs": [
    {
     "data": {
      "text/plain": [
       "0.5880451378948373"
      ]
     },
     "execution_count": 57,
     "metadata": {},
     "output_type": "execute_result"
    }
   ],
   "source": [
    "rf.score(X_test,y_test)"
   ]
  },
  {
   "cell_type": "code",
   "execution_count": 58,
   "metadata": {},
   "outputs": [],
   "source": [
    "cm=confusion_matrix(y_test, # True values.\n",
    "                 y_pred) "
   ]
  },
  {
   "cell_type": "code",
   "execution_count": 59,
   "metadata": {},
   "outputs": [
    {
     "data": {
      "image/png": "[encoded data removed]",
      "text/plain": [
       "<Figure size 432x288 with 2 Axes>"
      ]
     },
     "metadata": {
      "needs_background": "light"
     },
     "output_type": "display_data"
    }
   ],
   "source": [
    "plot_confusion_matrix(rf, X_test, y_test, cmap='Blues', values_format='d');"
   ]
  },
  {
   "cell_type": "code",
   "execution_count": 60,
   "metadata": {},
   "outputs": [
    {
     "name": "stdout",
     "output_type": "stream",
     "text": [
      "True Negatives: 125558\n",
      "True Positives: 22333\n",
      "False Positives: 190\n",
      "False Negatives: 103415\n"
     ]
    }
   ],
   "source": [
    "\n",
    "tn = cm[0,0]; print(\"True Negatives:\", tn)\n",
    "tp = cm[1,1]; print(\"True Positives:\", tp)\n",
    "fp = cm[0,1]; print(\"False Positives:\", fp)\n",
    "fn = cm[1,0]; print(\"False Negatives:\", fn)"
   ]
  },
  {
   "cell_type": "code",
   "execution_count": 61,
   "metadata": {},
   "outputs": [
    {
     "data": {
      "text/plain": [
       "array([0, 0, 0, ..., 0, 1, 0])"
      ]
     },
     "execution_count": 61,
     "metadata": {},
     "output_type": "execute_result"
    }
   ],
   "source": [
    "y_pred"
   ]
  },
  {
   "cell_type": "code",
   "execution_count": 62,
   "metadata": {},
   "outputs": [
    {
     "data": {
      "text/plain": [
       "0    228973\n",
       "1     22523\n",
       "dtype: int64"
      ]
     },
     "execution_count": 62,
     "metadata": {},
     "output_type": "execute_result"
    }
   ],
   "source": [
    "pd.Series(y_pred).value_counts()"
   ]
  },
  {
   "cell_type": "code",
   "execution_count": 63,
   "metadata": {},
   "outputs": [
    {
     "name": "stdout",
     "output_type": "stream",
     "text": [
      "              precision    recall  f1-score   support\n",
      "\n",
      "           0       0.55      1.00      0.71    125748\n",
      "           1       0.99      0.18      0.30    125748\n",
      "\n",
      "    accuracy                           0.59    251496\n",
      "   macro avg       0.77      0.59      0.50    251496\n",
      "weighted avg       0.77      0.59      0.50    251496\n",
      "\n"
     ]
    }
   ],
   "source": [
    "print(classification_report(y_test, y_pred))"
   ]
  },
  {
   "cell_type": "code",
   "execution_count": 64,
   "metadata": {},
   "outputs": [
    {
     "data": {
      "text/plain": [
       "[('total_drug_cost', 0.20859136765508438),\n",
       " ('total_claim_count', 0.1388319705478172),\n",
       " ('total_day_supply', 0.17740280326226213),\n",
       " ('Opioid Claim Count', 0.11872054681791536),\n",
       " ('Opioid Prescribing Rate', 0.09277483033505997),\n",
       " ('Long-Acting Opioid Claim Count', 0.059106804487296764),\n",
       " ('Long-Acting Opioid Prescribing Rate', 0.062260202679121364),\n",
       " ('Total_Payment_Sum', 0.14231147421544288)]"
      ]
     },
     "execution_count": 64,
     "metadata": {},
     "output_type": "execute_result"
    }
   ],
   "source": [
    "list(zip(X.columns, rf.feature_importances_))"
   ]
  },
  {
   "cell_type": "markdown",
   "metadata": {},
   "source": [
    "# SVC"
   ]
  },
  {
   "cell_type": "code",
   "execution_count": 65,
   "metadata": {},
   "outputs": [
    {
     "name": "stderr",
     "output_type": "stream",
     "text": [
      "/Users/umangimistry/opt/anaconda3/lib/python3.8/site-packages/sklearn/svm/_base.py:246: ConvergenceWarning: Solver terminated early (max_iter=1000).  Consider pre-processing your data with StandardScaler or MinMaxScaler.\n",
      "  warnings.warn('Solver terminated early (max_iter=%i).'\n"
     ]
    },
    {
     "data": {
      "text/plain": [
       "SVC(max_iter=1000)"
      ]
     },
     "execution_count": 65,
     "metadata": {},
     "output_type": "execute_result"
    }
   ],
   "source": [
    "svc = SVC(max_iter=1000)\n",
    "\n",
    "svc.fit(X_train_res, y_train_res)"
   ]
  },
  {
   "cell_type": "code",
   "execution_count": 66,
   "metadata": {},
   "outputs": [
    {
     "data": {
      "text/plain": [
       "0.517079177082146"
      ]
     },
     "execution_count": 66,
     "metadata": {},
     "output_type": "execute_result"
    }
   ],
   "source": [
    "svc.score(X_train_res, y_train_res)"
   ]
  },
  {
   "cell_type": "code",
   "execution_count": 67,
   "metadata": {},
   "outputs": [
    {
     "data": {
      "text/plain": [
       "0.5222071126379744"
      ]
     },
     "execution_count": 67,
     "metadata": {},
     "output_type": "execute_result"
    }
   ],
   "source": [
    "svc.score(X_test,y_test)"
   ]
  },
  {
   "cell_type": "code",
   "execution_count": 68,
   "metadata": {},
   "outputs": [
    {
     "data": {
      "text/plain": [
       "0.5222071126379744"
      ]
     },
     "execution_count": 68,
     "metadata": {},
     "output_type": "execute_result"
    }
   ],
   "source": [
    "accuracy_score(y_test, svc.predict(X_test))"
   ]
  },
  {
   "cell_type": "code",
   "execution_count": 69,
   "metadata": {},
   "outputs": [],
   "source": [
    "y_pred=svc.predict(X_test)"
   ]
  },
  {
   "cell_type": "code",
   "execution_count": 70,
   "metadata": {},
   "outputs": [],
   "source": [
    "cm=confusion_matrix(y_test, # True values.\n",
    "                 y_pred) "
   ]
  },
  {
   "cell_type": "code",
   "execution_count": 71,
   "metadata": {},
   "outputs": [
    {
     "name": "stdout",
     "output_type": "stream",
     "text": [
      "True Negatives: 109287\n",
      "True Positives: 22046\n",
      "False Positives: 16461\n",
      "False Negatives: 103702\n"
     ]
    }
   ],
   "source": [
    "\n",
    "tn = cm[0,0]; print(\"True Negatives:\", tn)\n",
    "tp = cm[1,1]; print(\"True Positives:\", tp)\n",
    "fp = cm[0,1]; print(\"False Positives:\", fp)\n",
    "fn = cm[1,0]; print(\"False Negatives:\", fn)"
   ]
  },
  {
   "cell_type": "code",
   "execution_count": 72,
   "metadata": {},
   "outputs": [
    {
     "name": "stdout",
     "output_type": "stream",
     "text": [
      "              precision    recall  f1-score   support\n",
      "\n",
      "           0       0.51      0.87      0.65    125748\n",
      "           1       0.57      0.18      0.27    125748\n",
      "\n",
      "    accuracy                           0.52    251496\n",
      "   macro avg       0.54      0.52      0.46    251496\n",
      "weighted avg       0.54      0.52      0.46    251496\n",
      "\n"
     ]
    }
   ],
   "source": [
    "print(classification_report(y_test, y_pred))"
   ]
  },
  {
   "cell_type": "markdown",
   "metadata": {},
   "source": [
    "# AdaBoost Classifier"
   ]
  },
  {
   "cell_type": "code",
   "execution_count": 73,
   "metadata": {},
   "outputs": [],
   "source": [
    "ada = AdaBoostClassifier(base_estimator=DecisionTreeClassifier())"
   ]
  },
  {
   "cell_type": "code",
   "execution_count": 74,
   "metadata": {},
   "outputs": [
    {
     "data": {
      "text/plain": [
       "AdaBoostClassifier(base_estimator=DecisionTreeClassifier())"
      ]
     },
     "execution_count": 74,
     "metadata": {},
     "output_type": "execute_result"
    }
   ],
   "source": [
    "ada.fit(X_train_res, y_train_res)"
   ]
  },
  {
   "cell_type": "code",
   "execution_count": 75,
   "metadata": {},
   "outputs": [
    {
     "data": {
      "text/plain": [
       "0.603878391704043"
      ]
     },
     "execution_count": 75,
     "metadata": {},
     "output_type": "execute_result"
    }
   ],
   "source": [
    "ada.score(X_test, y_test)"
   ]
  },
  {
   "cell_type": "code",
   "execution_count": 76,
   "metadata": {},
   "outputs": [
    {
     "data": {
      "text/plain": [
       "1.0"
      ]
     },
     "execution_count": 76,
     "metadata": {},
     "output_type": "execute_result"
    }
   ],
   "source": [
    "ada.score(X_train_res, y_train_res)"
   ]
  },
  {
   "cell_type": "code",
   "execution_count": 77,
   "metadata": {},
   "outputs": [],
   "source": [
    "pred=ada.predict(X_test)"
   ]
  },
  {
   "cell_type": "code",
   "execution_count": 78,
   "metadata": {},
   "outputs": [],
   "source": [
    "cm=confusion_matrix(y_test, # True values.\n",
    "                 pred) "
   ]
  },
  {
   "cell_type": "code",
   "execution_count": 79,
   "metadata": {},
   "outputs": [
    {
     "data": {
      "image/png": "[encoded data removed]",
      "text/plain": [
       "<Figure size 432x288 with 2 Axes>"
      ]
     },
     "metadata": {
      "needs_background": "light"
     },
     "output_type": "display_data"
    }
   ],
   "source": [
    "plot_confusion_matrix(ada, X_test, y_test, cmap='Blues', values_format='d');"
   ]
  },
  {
   "cell_type": "code",
   "execution_count": 80,
   "metadata": {},
   "outputs": [
    {
     "name": "stdout",
     "output_type": "stream",
     "text": [
      "True Negatives: 124935\n",
      "True Positives: 26938\n",
      "False Positives: 813\n",
      "False Negatives: 98810\n"
     ]
    }
   ],
   "source": [
    "\n",
    "tn = cm[0,0]; print(\"True Negatives:\", tn)\n",
    "tp = cm[1,1]; print(\"True Positives:\", tp)\n",
    "fp = cm[0,1]; print(\"False Positives:\", fp)\n",
    "fn = cm[1,0]; print(\"False Negatives:\", fn)"
   ]
  },
  {
   "cell_type": "code",
   "execution_count": 81,
   "metadata": {},
   "outputs": [
    {
     "name": "stdout",
     "output_type": "stream",
     "text": [
      "              precision    recall  f1-score   support\n",
      "\n",
      "           0       0.56      0.99      0.71    125748\n",
      "           1       0.97      0.21      0.35    125748\n",
      "\n",
      "    accuracy                           0.60    251496\n",
      "   macro avg       0.76      0.60      0.53    251496\n",
      "weighted avg       0.76      0.60      0.53    251496\n",
      "\n"
     ]
    }
   ],
   "source": [
    "print(classification_report(y_test, pred))"
   ]
  },
  {
   "cell_type": "markdown",
   "metadata": {},
   "source": [
    "# Unsupervised learming"
   ]
  },
  {
   "cell_type": "code",
   "execution_count": 82,
   "metadata": {},
   "outputs": [],
   "source": [
    "from sklearn.cluster import KMeans\n",
    "\n",
    "from sklearn.metrics import silhouette_score"
   ]
  },
  {
   "cell_type": "code",
   "execution_count": 83,
   "metadata": {},
   "outputs": [
    {
     "data": {
      "text/html": [
       "<div>\n",
       "<style scoped>\n",
       "    .dataframe tbody tr th:only-of-type {\n",
       "        vertical-align: middle;\n",
       "    }\n",
       "\n",
       "    .dataframe tbody tr th {\n",
       "        vertical-align: top;\n",
       "    }\n",
       "\n",
       "    .dataframe thead th {\n",
       "        text-align: right;\n",
       "    }\n",
       "</style>\n",
       "<table border=\"1\" class=\"dataframe\">\n",
       "  <thead>\n",
       "    <tr style=\"text-align: right;\">\n",
       "      <th></th>\n",
       "      <th>total_drug_cost</th>\n",
       "      <th>total_claim_count</th>\n",
       "      <th>total_day_supply</th>\n",
       "      <th>Opioid Claim Count</th>\n",
       "      <th>Opioid Prescribing Rate</th>\n",
       "      <th>Long-Acting Opioid Claim Count</th>\n",
       "      <th>Long-Acting Opioid Prescribing Rate</th>\n",
       "      <th>Total_Payment_Sum</th>\n",
       "    </tr>\n",
       "  </thead>\n",
       "  <tbody>\n",
       "    <tr>\n",
       "      <th>0</th>\n",
       "      <td>139113.030000</td>\n",
       "      <td>1493</td>\n",
       "      <td>40412</td>\n",
       "      <td>0.000000</td>\n",
       "      <td>0.000000</td>\n",
       "      <td>0.000000</td>\n",
       "      <td>0.000000</td>\n",
       "      <td>209.670000</td>\n",
       "    </tr>\n",
       "    <tr>\n",
       "      <th>1</th>\n",
       "      <td>393.690000</td>\n",
       "      <td>75</td>\n",
       "      <td>1864</td>\n",
       "      <td>44.000000</td>\n",
       "      <td>29.330000</td>\n",
       "      <td>0.000000</td>\n",
       "      <td>0.000000</td>\n",
       "      <td>22005.150000</td>\n",
       "    </tr>\n",
       "    <tr>\n",
       "      <th>2</th>\n",
       "      <td>59491.250000</td>\n",
       "      <td>1184</td>\n",
       "      <td>57520</td>\n",
       "      <td>20.000000</td>\n",
       "      <td>1.160000</td>\n",
       "      <td>0.000000</td>\n",
       "      <td>0.000000</td>\n",
       "      <td>1466.200000</td>\n",
       "    </tr>\n",
       "    <tr>\n",
       "      <th>3</th>\n",
       "      <td>111.980000</td>\n",
       "      <td>35</td>\n",
       "      <td>349</td>\n",
       "      <td>0.000000</td>\n",
       "      <td>0.000000</td>\n",
       "      <td>0.000000</td>\n",
       "      <td>0.000000</td>\n",
       "      <td>3554.550000</td>\n",
       "    </tr>\n",
       "    <tr>\n",
       "      <th>4</th>\n",
       "      <td>5368.040000</td>\n",
       "      <td>188</td>\n",
       "      <td>4675</td>\n",
       "      <td>0.000000</td>\n",
       "      <td>0.000000</td>\n",
       "      <td>0.000000</td>\n",
       "      <td>0.000000</td>\n",
       "      <td>546.620000</td>\n",
       "    </tr>\n",
       "    <tr>\n",
       "      <th>...</th>\n",
       "      <td>...</td>\n",
       "      <td>...</td>\n",
       "      <td>...</td>\n",
       "      <td>...</td>\n",
       "      <td>...</td>\n",
       "      <td>...</td>\n",
       "      <td>...</td>\n",
       "      <td>...</td>\n",
       "    </tr>\n",
       "    <tr>\n",
       "      <th>754481</th>\n",
       "      <td>539525.833857</td>\n",
       "      <td>5006</td>\n",
       "      <td>151013</td>\n",
       "      <td>2952.219961</td>\n",
       "      <td>57.008721</td>\n",
       "      <td>1347.472204</td>\n",
       "      <td>45.496601</td>\n",
       "      <td>2691.519016</td>\n",
       "    </tr>\n",
       "    <tr>\n",
       "      <th>754482</th>\n",
       "      <td>91204.748603</td>\n",
       "      <td>1942</td>\n",
       "      <td>97491</td>\n",
       "      <td>73.971012</td>\n",
       "      <td>2.547890</td>\n",
       "      <td>3.767042</td>\n",
       "      <td>1.743113</td>\n",
       "      <td>1854.910542</td>\n",
       "    </tr>\n",
       "    <tr>\n",
       "      <th>754483</th>\n",
       "      <td>2141.409707</td>\n",
       "      <td>172</td>\n",
       "      <td>1705</td>\n",
       "      <td>35.409505</td>\n",
       "      <td>8.311117</td>\n",
       "      <td>0.000000</td>\n",
       "      <td>0.000000</td>\n",
       "      <td>39.737364</td>\n",
       "    </tr>\n",
       "    <tr>\n",
       "      <th>754484</th>\n",
       "      <td>970.682224</td>\n",
       "      <td>85</td>\n",
       "      <td>2117</td>\n",
       "      <td>6.926422</td>\n",
       "      <td>2.584088</td>\n",
       "      <td>0.000000</td>\n",
       "      <td>0.000000</td>\n",
       "      <td>398.877199</td>\n",
       "    </tr>\n",
       "    <tr>\n",
       "      <th>754485</th>\n",
       "      <td>150206.664507</td>\n",
       "      <td>3253</td>\n",
       "      <td>174441</td>\n",
       "      <td>200.922960</td>\n",
       "      <td>5.057737</td>\n",
       "      <td>46.860507</td>\n",
       "      <td>21.498285</td>\n",
       "      <td>442.084178</td>\n",
       "    </tr>\n",
       "  </tbody>\n",
       "</table>\n",
       "<p>754486 rows × 8 columns</p>\n",
       "</div>"
      ],
      "text/plain": [
       "        total_drug_cost  total_claim_count  total_day_supply  \\\n",
       "0         139113.030000               1493             40412   \n",
       "1            393.690000                 75              1864   \n",
       "2          59491.250000               1184             57520   \n",
       "3            111.980000                 35               349   \n",
       "4           5368.040000                188              4675   \n",
       "...                 ...                ...               ...   \n",
       "754481    539525.833857               5006            151013   \n",
       "754482     91204.748603               1942             97491   \n",
       "754483      2141.409707                172              1705   \n",
       "754484       970.682224                 85              2117   \n",
       "754485    150206.664507               3253            174441   \n",
       "\n",
       "        Opioid Claim Count  Opioid Prescribing Rate  \\\n",
       "0                 0.000000                 0.000000   \n",
       "1                44.000000                29.330000   \n",
       "2                20.000000                 1.160000   \n",
       "3                 0.000000                 0.000000   \n",
       "4                 0.000000                 0.000000   \n",
       "...                    ...                      ...   \n",
       "754481         2952.219961                57.008721   \n",
       "754482           73.971012                 2.547890   \n",
       "754483           35.409505                 8.311117   \n",
       "754484            6.926422                 2.584088   \n",
       "754485          200.922960                 5.057737   \n",
       "\n",
       "        Long-Acting Opioid Claim Count  Long-Acting Opioid Prescribing Rate  \\\n",
       "0                             0.000000                             0.000000   \n",
       "1                             0.000000                             0.000000   \n",
       "2                             0.000000                             0.000000   \n",
       "3                             0.000000                             0.000000   \n",
       "4                             0.000000                             0.000000   \n",
       "...                                ...                                  ...   \n",
       "754481                     1347.472204                            45.496601   \n",
       "754482                        3.767042                             1.743113   \n",
       "754483                        0.000000                             0.000000   \n",
       "754484                        0.000000                             0.000000   \n",
       "754485                       46.860507                            21.498285   \n",
       "\n",
       "        Total_Payment_Sum  \n",
       "0              209.670000  \n",
       "1            22005.150000  \n",
       "2             1466.200000  \n",
       "3             3554.550000  \n",
       "4              546.620000  \n",
       "...                   ...  \n",
       "754481        2691.519016  \n",
       "754482        1854.910542  \n",
       "754483          39.737364  \n",
       "754484         398.877199  \n",
       "754485         442.084178  \n",
       "\n",
       "[754486 rows x 8 columns]"
      ]
     },
     "execution_count": 83,
     "metadata": {},
     "output_type": "execute_result"
    }
   ],
   "source": [
    "X_train_res"
   ]
  },
  {
   "cell_type": "code",
   "execution_count": 84,
   "metadata": {},
   "outputs": [],
   "source": [
    "ss = StandardScaler()\n",
    "df_std = ss.fit_transform(X_train_res)"
   ]
  },
  {
   "cell_type": "code",
   "execution_count": 85,
   "metadata": {},
   "outputs": [],
   "source": [
    "model = KMeans(n_clusters=6, random_state=0).fit(df_std)"
   ]
  },
  {
   "cell_type": "code",
   "execution_count": 86,
   "metadata": {},
   "outputs": [
    {
     "data": {
      "text/plain": [
       "array([1, 3, 1, ..., 1, 1, 4], dtype=int32)"
      ]
     },
     "execution_count": 86,
     "metadata": {},
     "output_type": "execute_result"
    }
   ],
   "source": [
    "model.labels_"
   ]
  },
  {
   "cell_type": "code",
   "execution_count": 87,
   "metadata": {},
   "outputs": [],
   "source": [
    "predicted_group = model.labels_"
   ]
  },
  {
   "cell_type": "code",
   "execution_count": 88,
   "metadata": {},
   "outputs": [
    {
     "data": {
      "text/plain": [
       "1    508805\n",
       "0     85429\n",
       "3     80829\n",
       "4     72076\n",
       "2      5498\n",
       "5      1849\n",
       "dtype: int64"
      ]
     },
     "execution_count": 88,
     "metadata": {},
     "output_type": "execute_result"
    }
   ],
   "source": [
    "pd.Series(predicted_group).value_counts()"
   ]
  },
  {
   "cell_type": "code",
   "execution_count": 89,
   "metadata": {},
   "outputs": [
    {
     "data": {
      "text/plain": [
       "array([[ 1.56097922,  2.16737481,  2.24447967,  0.73748105, -0.24315461,\n",
       "         0.17775688,  0.28012601, -0.02043798],\n",
       "       [-0.24447214, -0.30704975, -0.2976857 , -0.26789184, -0.43389725,\n",
       "        -0.19622225, -0.37479038, -0.04006849],\n",
       "       [ 4.10046148,  3.07549417,  2.39002936,  9.17369698,  2.3869134 ,\n",
       "         9.87436768,  2.58997656,  0.05805867],\n",
       "       [-0.43904877, -0.52106878, -0.5562575 , -0.16057934,  1.85124593,\n",
       "        -0.18245875, -0.30668839, -0.01521933],\n",
       "       [ 0.05877535, -0.04766559, -0.1124518 ,  0.48818505,  1.06027542,\n",
       "         0.6107297 ,  2.4173856 , -0.02675243],\n",
       "       [-0.1670469 , -0.18898947, -0.23703491,  0.40007029,  1.72970387,\n",
       "         0.62284915,  1.78030722, 13.51053174]])"
      ]
     },
     "execution_count": 89,
     "metadata": {},
     "output_type": "execute_result"
    }
   ],
   "source": [
    "centroids = model.cluster_centers_\n",
    "centroids"
   ]
  },
  {
   "cell_type": "code",
   "execution_count": 92,
   "metadata": {},
   "outputs": [
    {
     "ename": "IndexError",
     "evalue": "only integers, slices (`:`), ellipsis (`...`), numpy.newaxis (`None`) and integer or boolean arrays are valid indices",
     "output_type": "error",
     "traceback": [
      "\u001b[0;31m---------------------------------------------------------------------------\u001b[0m",
      "\u001b[0;31mIndexError\u001b[0m                                Traceback (most recent call last)",
      "\u001b[0;32m<ipython-input-92-6e3d21bd6cc3>\u001b[0m in \u001b[0;36m<module>\u001b[0;34m\u001b[0m\n\u001b[1;32m      3\u001b[0m \u001b[0;32mfor\u001b[0m \u001b[0mk\u001b[0m \u001b[0;32min\u001b[0m \u001b[0mrange\u001b[0m\u001b[0;34m(\u001b[0m\u001b[0;36m1\u001b[0m\u001b[0;34m,\u001b[0m \u001b[0;36m10\u001b[0m\u001b[0;34m)\u001b[0m\u001b[0;34m:\u001b[0m\u001b[0;34m\u001b[0m\u001b[0;34m\u001b[0m\u001b[0m\n\u001b[1;32m      4\u001b[0m     \u001b[0mkmeans\u001b[0m \u001b[0;34m=\u001b[0m \u001b[0mKMeans\u001b[0m\u001b[0;34m(\u001b[0m\u001b[0mn_clusters\u001b[0m\u001b[0;34m=\u001b[0m\u001b[0mk\u001b[0m\u001b[0;34m,\u001b[0m \u001b[0mmax_iter\u001b[0m\u001b[0;34m=\u001b[0m\u001b[0;36m1000\u001b[0m\u001b[0;34m)\u001b[0m\u001b[0;34m.\u001b[0m\u001b[0mfit\u001b[0m\u001b[0;34m(\u001b[0m\u001b[0mdf_std\u001b[0m\u001b[0;34m)\u001b[0m\u001b[0;34m\u001b[0m\u001b[0;34m\u001b[0m\u001b[0m\n\u001b[0;32m----> 5\u001b[0;31m     \u001b[0mdf_std\u001b[0m\u001b[0;34m[\u001b[0m\u001b[0;34m\"clusters\"\u001b[0m\u001b[0;34m]\u001b[0m \u001b[0;34m=\u001b[0m \u001b[0mkmeans\u001b[0m\u001b[0;34m.\u001b[0m\u001b[0mlabels_\u001b[0m\u001b[0;34m\u001b[0m\u001b[0;34m\u001b[0m\u001b[0m\n\u001b[0m\u001b[1;32m      6\u001b[0m     \u001b[0;31m# Inertia: Sum of distances of samples to their closest cluster center\u001b[0m\u001b[0;34m\u001b[0m\u001b[0;34m\u001b[0m\u001b[0;34m\u001b[0m\u001b[0m\n\u001b[1;32m      7\u001b[0m     \u001b[0msse\u001b[0m\u001b[0;34m[\u001b[0m\u001b[0mk\u001b[0m\u001b[0;34m]\u001b[0m \u001b[0;34m=\u001b[0m \u001b[0mkmeans\u001b[0m\u001b[0;34m.\u001b[0m\u001b[0minertia_\u001b[0m\u001b[0;34m\u001b[0m\u001b[0;34m\u001b[0m\u001b[0m\n",
      "\u001b[0;31mIndexError\u001b[0m: only integers, slices (`:`), ellipsis (`...`), numpy.newaxis (`None`) and integer or boolean arrays are valid indices"
     ]
    }
   ],
   "source": [
    "#use elbow method to find best k\n",
    "sse = {}\n",
    "for k in range(1, 10):\n",
    "    kmeans = KMeans(n_clusters=k, max_iter=1000).fit(df_std)\n",
    "    df_std[\"clusters\"] = kmeans.labels_\n",
    "    # Inertia: Sum of distances of samples to their closest cluster center\n",
    "    sse[k] = kmeans.inertia_\n",
    "\n",
    "plt.plot(list(sse.keys()), list(sse.values()))\n",
    "plt.xlabel(\"Number of cluster\")\n",
    "plt.ylabel(\"SSE\")\n",
    "plt.show()"
   ]
  },
  {
   "cell_type": "code",
   "execution_count": 93,
   "metadata": {},
   "outputs": [
    {
     "data": {
      "text/plain": [
       "array([[-0.13731092, -0.21589423, -0.3432112 , ..., -0.20974705,\n",
       "        -0.46435397, -0.09279719],\n",
       "       [-0.46214909, -0.56405117, -0.57776805, ..., -0.20974705,\n",
       "        -0.46435397,  0.16970736],\n",
       "       [-0.32376072, -0.291762  , -0.23911245, ..., -0.20974705,\n",
       "        -0.46435397, -0.07766356],\n",
       "       ...,\n",
       "       [-0.45805646, -0.54023507, -0.57873554, ..., -0.20974705,\n",
       "        -0.46435397, -0.09484386],\n",
       "       [-0.46079795, -0.5615959 , -0.5762286 , ..., -0.20974705,\n",
       "        -0.46435397, -0.09051839],\n",
       "       [-0.11133303,  0.21623285,  0.47232839, ...,  0.02440747,\n",
       "         1.84178164, -0.089998  ]])"
      ]
     },
     "execution_count": 93,
     "metadata": {},
     "output_type": "execute_result"
    }
   ],
   "source": [
    "df_std"
   ]
  },
  {
   "cell_type": "code",
   "execution_count": 94,
   "metadata": {},
   "outputs": [
    {
     "data": {
      "text/plain": [
       "array([1, 3, 1, ..., 1, 1, 4], dtype=int32)"
      ]
     },
     "execution_count": 94,
     "metadata": {},
     "output_type": "execute_result"
    }
   ],
   "source": [
    "predicted_group=predicted_group.ravel()\n",
    "predicted_group"
   ]
  },
  {
   "cell_type": "markdown",
   "metadata": {},
   "source": [
    "# Anomaly detection"
   ]
  },
  {
   "cell_type": "code",
   "execution_count": 172,
   "metadata": {},
   "outputs": [],
   "source": [
    "isolation_forest = IsolationForest(n_estimators=100)"
   ]
  },
  {
   "cell_type": "code",
   "execution_count": 173,
   "metadata": {},
   "outputs": [
    {
     "data": {
      "text/plain": [
       "IsolationForest()"
      ]
     },
     "execution_count": 173,
     "metadata": {},
     "output_type": "execute_result"
    }
   ],
   "source": [
    "isolation_forest.fit(X_train_res)"
   ]
  },
  {
   "cell_type": "code",
   "execution_count": 185,
   "metadata": {},
   "outputs": [],
   "source": [
    "xx = np.linspace(X_train_res.min(), X_train_res.max())"
   ]
  },
  {
   "cell_type": "code",
   "execution_count": 186,
   "metadata": {},
   "outputs": [],
   "source": [
    "anomaly_score = isolation_forest.decision_function(xx)"
   ]
  },
  {
   "cell_type": "code",
   "execution_count": 187,
   "metadata": {},
   "outputs": [],
   "source": [
    "outlier = isolation_forest.predict(xx)"
   ]
  },
  {
   "cell_type": "code",
   "execution_count": 188,
   "metadata": {},
   "outputs": [
    {
     "data": {
      "text/plain": [
       "array([ 1, -1, -1, -1, -1, -1, -1, -1, -1, -1, -1, -1, -1, -1, -1, -1, -1,\n",
       "       -1, -1, -1, -1, -1, -1, -1, -1, -1, -1, -1, -1, -1, -1, -1, -1, -1,\n",
       "       -1, -1, -1, -1, -1, -1, -1, -1, -1, -1, -1, -1, -1, -1, -1, -1])"
      ]
     },
     "execution_count": 188,
     "metadata": {},
     "output_type": "execute_result"
    }
   ],
   "source": [
    "outlier"
   ]
  },
  {
   "cell_type": "code",
   "execution_count": 189,
   "metadata": {},
   "outputs": [
    {
     "data": {
      "text/plain": [
       "array([ 0.14987537, -0.11507381, -0.17893581, -0.19464282, -0.21130419,\n",
       "       -0.23022811, -0.24948716, -0.25406492, -0.26382111, -0.27213468,\n",
       "       -0.28001081, -0.28583766, -0.29224388, -0.29385357, -0.29331664,\n",
       "       -0.29935504, -0.30206379, -0.30805538, -0.3135411 , -0.3135411 ,\n",
       "       -0.3135411 , -0.31851009, -0.32017316, -0.31961843, -0.31961843,\n",
       "       -0.31906407, -0.3240668 , -0.32685928, -0.32797892, -0.32910008,\n",
       "       -0.32910008, -0.32910008, -0.33022275, -0.3330361 , -0.3330361 ,\n",
       "       -0.3341641 , -0.33472868, -0.33472868, -0.33472868, -0.33472868,\n",
       "       -0.33529363, -0.33585897, -0.33585897, -0.33585897, -0.33585897,\n",
       "       -0.3369908 , -0.33585897, -0.33585897, -0.33925905, -0.33982708])"
      ]
     },
     "execution_count": 189,
     "metadata": {},
     "output_type": "execute_result"
    }
   ],
   "source": [
    "anomaly_score"
   ]
  },
  {
   "cell_type": "code",
   "execution_count": null,
   "metadata": {},
   "outputs": [],
   "source": []
  }
 ],
 "metadata": {
  "kernelspec": {
   "display_name": "Python 3",
   "language": "python",
   "name": "python3"
  },
  "language_info": {
   "codemirror_mode": {
    "name": "ipython",
    "version": 3
   },
   "file_extension": ".py",
   "mimetype": "text/x-python",
   "name": "python",
   "nbconvert_exporter": "python",
   "pygments_lexer": "ipython3",
   "version": "3.8.3"
  }
 },
 "nbformat": 4,
 "nbformat_minor": 4
}

{
 "cells": [
  {
   "cell_type": "markdown",
   "metadata": {},
   "source": [
    "# Neural Network"
   ]
  },
  {
   "cell_type": "markdown",
   "metadata": {},
   "source": [
    "As we saw the typical supervised learning model was unable to predict fraud providers effectively I am going to try Neural network in this notebook.\n",
    "\n",
    "We believe that deep learning is an important area of research that will play a critical role in the future of modeling class-imbalanced big data. Over the last 10 years, deep learning methods have grown in popularity as they have improved the state-of-the-art in speech recognition, computer vision, and other domains "
   ]
  },
  {
   "cell_type": "code",
   "execution_count": 2,
   "metadata": {},
   "outputs": [],
   "source": [
    "import pandas as pd\n",
    "import numpy as np\n",
    "import seaborn as sns\n",
    "import matplotlib.pyplot as plt\n",
    "from sklearn.model_selection import train_test_split\n",
    "import tensorflow as tf\n",
    "from tensorflow import keras\n",
    "from tensorflow.keras.models import Sequential\n",
    "from tensorflow.keras.layers import Dense\n",
    "from tensorflow.keras.utils import to_categorical\n",
    "from tensorflow.keras.regularizers import l2\n",
    "from tensorflow.keras.callbacks import EarlyStopping\n",
    "from sklearn.metrics import confusion_matrix, classification_report, \\\n",
    "recall_score, precision_score, accuracy_score, plot_confusion_matrix, roc_auc_score\n",
    "from sklearn.preprocessing import StandardScaler\n",
    "from sklearn.metrics import roc_curve\n",
    "\n",
    "import os\n",
    "import tempfile"
   ]
  },
  {
   "cell_type": "markdown",
   "metadata": {},
   "source": [
    "Loading our ckeaned and final data for modeling process"
   ]
  },
  {
   "cell_type": "code",
   "execution_count": 5,
   "metadata": {},
   "outputs": [],
   "source": [
    "df=pd.read_csv(\"./datasets/final_data.csv\",index_col=0)"
   ]
  },
  {
   "cell_type": "markdown",
   "metadata": {},
   "source": [
    "For modeling, as we know we can not add categorical column so I am selecting numerical columns"
   ]
  },
  {
   "cell_type": "code",
   "execution_count": 14,
   "metadata": {},
   "outputs": [],
   "source": [
    "X=df[['total_drug_cost', 'total_claim_count', 'total_day_supply',\n",
    "       'Opioid Claim Count', 'Opioid Prescribing Rate',\n",
    "       'Long-Acting Opioid Claim Count', 'Long-Acting Opioid Prescribing Rate',\n",
    "       'Total_Payment_Sum', 'Number of Suppliers',\n",
    "       'Number of Supplier Beneficiaries', 'Number of Supplier Claims',\n",
    "       'Average Supplier Submitted Charge',\n",
    "       'Average Supplier Medicare Allow Amount',\n",
    "       'Average Supplier Medicare Payment Amount',\n",
    "       'Average Supplier Medicare Standard Amount', 'is_fraud']]"
   ]
  },
  {
   "cell_type": "markdown",
   "metadata": {},
   "source": [
    "Spilliting the dataset as train, test and validation"
   ]
  },
  {
   "cell_type": "code",
   "execution_count": 15,
   "metadata": {},
   "outputs": [],
   "source": [
    "# Use a utility from sklearn to split and shuffle our dataset.\n",
    "X_train, X_test = train_test_split(X, test_size=0.25)\n",
    "\n",
    "# split the validation data from train data\n",
    "X_train, X_val = train_test_split(X_train, test_size=0.25)"
   ]
  },
  {
   "cell_type": "markdown",
   "metadata": {},
   "source": [
    "As we know, we do not need our target variable is \"is_fraud\". Let's extract target variable from X_train, X_test and X_val"
   ]
  },
  {
   "cell_type": "code",
   "execution_count": 16,
   "metadata": {},
   "outputs": [],
   "source": [
    "# Form np arrays of labels and features.\n",
    "\n",
    "train_labels = np.array(X_train.pop('is_fraud'))\n",
    "bool_train_labels = train_labels != 0\n",
    "val_labels = np.array(X_val.pop('is_fraud'))\n",
    "test_labels = np.array(X_test.pop('is_fraud'))\n"
   ]
  },
  {
   "cell_type": "markdown",
   "metadata": {},
   "source": [
    "Making our datasets as an array"
   ]
  },
  {
   "cell_type": "code",
   "execution_count": 18,
   "metadata": {},
   "outputs": [],
   "source": [
    "X_train = np.array(X_train)\n",
    "X_val = np.array(X_val)\n",
    "X_test = np.array(X_test)\n"
   ]
  },
  {
   "cell_type": "markdown",
   "metadata": {},
   "source": [
    "Normalize the input features using the sklearn StandardScaler. This will set the mean to 0 and standard deviation to 1."
   ]
  },
  {
   "cell_type": "code",
   "execution_count": 26,
   "metadata": {},
   "outputs": [],
   "source": [
    "ss = StandardScaler()\n",
    "X_train = ss.fit_transform(X_train)\n",
    "\n",
    "X_val = ss.transform(X_val)\n",
    "X_test = ss.transform(X_test)\n"
   ]
  },
  {
   "cell_type": "code",
   "execution_count": 28,
   "metadata": {},
   "outputs": [
    {
     "data": {
      "text/plain": [
       "((100174, 15), (44523, 15), (33392, 15))"
      ]
     },
     "execution_count": 28,
     "metadata": {},
     "output_type": "execute_result"
    }
   ],
   "source": [
    "# checking shape of X_train, X_test, X_val\n",
    "\n",
    "\n",
    "X_train.shape,X_test.shape,X_val.shape"
   ]
  },
  {
   "cell_type": "code",
   "execution_count": 29,
   "metadata": {},
   "outputs": [
    {
     "data": {
      "text/plain": [
       "((100174,), (33392,), (44523,))"
      ]
     },
     "execution_count": 29,
     "metadata": {},
     "output_type": "execute_result"
    }
   ],
   "source": [
    "# checking the shape of \n",
    "\n",
    "train_labels.shape,val_labels.shape,test_labels.shape"
   ]
  },
  {
   "cell_type": "code",
   "execution_count": 30,
   "metadata": {},
   "outputs": [],
   "source": [
    "# checking 0 and 1 in my target variable\n",
    "\n",
    "neg, pos = np.bincount(df['is_fraud'])"
   ]
  },
  {
   "cell_type": "code",
   "execution_count": 31,
   "metadata": {},
   "outputs": [
    {
     "data": {
      "text/plain": [
       "(177973, 116)"
      ]
     },
     "execution_count": 31,
     "metadata": {},
     "output_type": "execute_result"
    }
   ],
   "source": [
    "neg, pos"
   ]
  },
  {
   "cell_type": "markdown",
   "metadata": {},
   "source": [
    "Now I am setting all my matrices that I will require to evaluate my model in one list "
   ]
  },
  {
   "cell_type": "code",
   "execution_count": 96,
   "metadata": {},
   "outputs": [],
   "source": [
    "METRICS = [\n",
    "      keras.metrics.TruePositives(name='tp'),\n",
    "      keras.metrics.FalsePositives(name='fp'),\n",
    "      keras.metrics.TrueNegatives(name='tn'),\n",
    "      keras.metrics.FalseNegatives(name='fn'), \n",
    "      keras.metrics.BinaryAccuracy(name='accuracy'),\n",
    "      keras.metrics.Precision(name='precision'),\n",
    "      keras.metrics.Recall(name='recall'),\n",
    "      keras.metrics.AUC(name='auc'),\n",
    "]"
   ]
  },
  {
   "cell_type": "markdown",
   "metadata": {},
   "source": [
    "I am making one function in which will perform my modeling with two hiden layer and early stopping as my \n",
    "regularization."
   ]
  },
  {
   "cell_type": "code",
   "execution_count": 102,
   "metadata": {},
   "outputs": [],
   "source": [
    "def make_model(metrics = METRICS, output_bias=None):\n",
    "    if output_bias is not None:\n",
    "        output_bias = tf.keras.initializers.Constant(output_bias)\n",
    "         #Intantiate the model\n",
    "            \n",
    "    model = keras.Sequential([\n",
    "             keras.layers.Dense(\n",
    "               64, activation='relu',\n",
    "               input_shape=(X_train.shape[-1],)),\n",
    "            keras.layers.Dropout(0.5),\n",
    "\n",
    "        keras.layers.Dense(\n",
    "          32, activation='relu'),      #adding hidden layer\n",
    "          \n",
    "      keras.layers.Dropout(0.5),\n",
    "        \n",
    "         keras.layers.Dense(           #adding hidden layer\n",
    "          16, activation='relu'),\n",
    "          \n",
    "      keras.layers.Dropout(0.5),\n",
    "        \n",
    "      keras.layers.Dense(1, activation='sigmoid',             #output layer\n",
    "                         bias_initializer=output_bias),\n",
    "  ])\n",
    "\n",
    "    model.compile(\n",
    "      optimizer=keras.optimizers.Adam(lr=1e-3),\n",
    "      loss=keras.losses.BinaryCrossentropy(),\n",
    "      metrics=metrics)\n",
    "\n",
    "    return model"
   ]
  },
  {
   "cell_type": "markdown",
   "metadata": {},
   "source": [
    "I am setting 500 epochs and 8192 batch size so that it can detect more frauds"
   ]
  },
  {
   "cell_type": "code",
   "execution_count": 103,
   "metadata": {},
   "outputs": [],
   "source": [
    "EPOCHS = 500\n",
    "BATCH_SIZE = 8192\n",
    "\n",
    "early_stopping = tf.keras.callbacks.EarlyStopping(\n",
    "    monitor='val_auc', \n",
    "    verbose=1,\n",
    "    patience=10,\n",
    "    mode='max',\n",
    "    restore_best_weights=True)"
   ]
  },
  {
   "cell_type": "code",
   "execution_count": 104,
   "metadata": {},
   "outputs": [],
   "source": [
    "model=make_model()\n"
   ]
  },
  {
   "cell_type": "code",
   "execution_count": 105,
   "metadata": {},
   "outputs": [
    {
     "name": "stdout",
     "output_type": "stream",
     "text": [
      "Model: \"sequential_9\"\n",
      "_________________________________________________________________\n",
      "Layer (type)                 Output Shape              Param #   \n",
      "=================================================================\n",
      "dense_33 (Dense)             (None, 64)                1024      \n",
      "_________________________________________________________________\n",
      "dropout_24 (Dropout)         (None, 64)                0         \n",
      "_________________________________________________________________\n",
      "dense_34 (Dense)             (None, 32)                2080      \n",
      "_________________________________________________________________\n",
      "dropout_25 (Dropout)         (None, 32)                0         \n",
      "_________________________________________________________________\n",
      "dense_35 (Dense)             (None, 16)                528       \n",
      "_________________________________________________________________\n",
      "dropout_26 (Dropout)         (None, 16)                0         \n",
      "_________________________________________________________________\n",
      "dense_36 (Dense)             (None, 1)                 17        \n",
      "=================================================================\n",
      "Total params: 3,649\n",
      "Trainable params: 3,649\n",
      "Non-trainable params: 0\n",
      "_________________________________________________________________\n"
     ]
    }
   ],
   "source": [
    "model.summary()"
   ]
  },
  {
   "cell_type": "markdown",
   "metadata": {},
   "source": []
  },
  {
   "cell_type": "code",
   "execution_count": 108,
   "metadata": {},
   "outputs": [],
   "source": [
    "# positive and negative features\n",
    "\n",
    "pos_features = X_train[bool_train_labels]\n",
    "neg_features = X_train[~bool_train_labels]\n",
    "\n",
    "# Positive and negative labes(target variable)\n",
    "\n",
    "pos_labels = train_labels[bool_train_labels]\n",
    "neg_labels = train_labels[~bool_train_labels]\n"
   ]
  },
  {
   "cell_type": "markdown",
   "metadata": {},
   "source": [
    "As we know our data is highly imbalance so I am going to resample my minority class.I am randomly increasing my minority class using np.random."
   ]
  },
  {
   "cell_type": "code",
   "execution_count": 84,
   "metadata": {},
   "outputs": [
    {
     "data": {
      "text/plain": [
       "(100113, 15)"
      ]
     },
     "execution_count": 84,
     "metadata": {},
     "output_type": "execute_result"
    }
   ],
   "source": [
    "ids = np.arange(len(pos_features))\n",
    "choices = np.random.choice(ids, len(neg_features))\n",
    "\n",
    "# resamples positive features and positive labels\n",
    "\n",
    "res_pos_features = pos_features[choices]\n",
    "res_pos_labels = pos_labels[choices]\n",
    "\n",
    "res_pos_features.shape"
   ]
  },
  {
   "cell_type": "markdown",
   "metadata": {},
   "source": [
    "Concating the resampled poditive and negative features as well as the resampled positive and negative lables"
   ]
  },
  {
   "cell_type": "code",
   "execution_count": 111,
   "metadata": {},
   "outputs": [],
   "source": [
    "# concatig the resampled positive and negative features and labels\n",
    "\n",
    "X_res = np.concatenate([res_pos_features, neg_features], axis=0)\n",
    "label_res = np.concatenate([res_pos_labels, neg_labels], axis=0)\n",
    "\n",
    "order = np.arange(len(label_res))\n",
    "np.random.shuffle(order)\n",
    "X_res = X_res[order]\n",
    "label_res = label_res[order]\n"
   ]
  },
  {
   "cell_type": "markdown",
   "metadata": {},
   "source": [
    "If you're using tf.data the easiest way to produce balanced examples is to start with a positive and a negative dataset, and merge them"
   ]
  },
  {
   "cell_type": "code",
   "execution_count": 112,
   "metadata": {},
   "outputs": [],
   "source": [
    "BUFFER_SIZE = 150000\n",
    "def make_ds(features, labels):\n",
    "    ds = tf.data.Dataset.from_tensor_slices((features, labels))#.cache()\n",
    "    ds = ds.shuffle(BUFFER_SIZE).repeat()\n",
    "    return ds\n",
    "\n",
    "pos_ds = make_ds(pos_features, pos_labels)\n",
    "neg_ds = make_ds(neg_features, neg_labels)"
   ]
  },
  {
   "cell_type": "code",
   "execution_count": 115,
   "metadata": {},
   "outputs": [],
   "source": [
    "resampled_ds = tf.data.experimental.sample_from_datasets([pos_ds, neg_ds], weights=[0.5, 0.5])\n",
    "resampled_ds = resampled_ds.batch(BATCH_SIZE).prefetch(2)"
   ]
  },
  {
   "cell_type": "markdown",
   "metadata": {},
   "source": [
    "Steps per epoch the number of batches required to see each negative example once"
   ]
  },
  {
   "cell_type": "code",
   "execution_count": 117,
   "metadata": {},
   "outputs": [
    {
     "data": {
      "text/plain": [
       "44.0"
      ]
     },
     "execution_count": 117,
     "metadata": {},
     "output_type": "execute_result"
    }
   ],
   "source": [
    "resampled_steps_per_epoch = np.ceil(2.0*(neg)/BATCH_SIZE)\n",
    "resampled_steps_per_epoch"
   ]
  },
  {
   "cell_type": "code",
   "execution_count": 118,
   "metadata": {},
   "outputs": [
    {
     "name": "stdout",
     "output_type": "stream",
     "text": [
      "Epoch 1/500\n",
      "44/44 [==============================] - 4s 100ms/step - loss: 0.7166 - tp: 98379.0000 - fp: 90783.0000 - tn: 89234.0000 - fn: 82052.0000 - accuracy: 0.5205 - precision: 0.5201 - recall: 0.5452 - auc: 0.5339 - val_loss: 0.7108 - val_tp: 14.0000 - val_fp: 28700.0000 - val_tn: 4675.0000 - val_fn: 3.0000 - val_accuracy: 0.1404 - val_precision: 4.8757e-04 - val_recall: 0.8235 - val_auc: 0.5444\n",
      "Epoch 2/500\n",
      "44/44 [==============================] - 3s 76ms/step - loss: 0.6737 - tp: 107430.0000 - fp: 86152.0000 - tn: 94052.0000 - fn: 72814.0000 - accuracy: 0.5590 - precision: 0.5550 - recall: 0.5960 - auc: 0.5983 - val_loss: 0.6791 - val_tp: 6.0000 - val_fp: 9932.0000 - val_tn: 23443.0000 - val_fn: 11.0000 - val_accuracy: 0.7022 - val_precision: 6.0374e-04 - val_recall: 0.3529 - val_auc: 0.5146\n",
      "Epoch 3/500\n",
      "44/44 [==============================] - 3s 78ms/step - loss: 0.6446 - tp: 94318.0000 - fp: 54861.0000 - tn: 125267.0000 - fn: 86002.0000 - accuracy: 0.6092 - precision: 0.6322 - recall: 0.5231 - auc: 0.6617 - val_loss: 0.6224 - val_tp: 5.0000 - val_fp: 7235.0000 - val_tn: 26140.0000 - val_fn: 12.0000 - val_accuracy: 0.7830 - val_precision: 6.9061e-04 - val_recall: 0.2941 - val_auc: 0.5400\n",
      "Epoch 4/500\n",
      "44/44 [==============================] - 3s 76ms/step - loss: 0.6105 - tp: 103119.0000 - fp: 48346.0000 - tn: 131701.0000 - fn: 77282.0000 - accuracy: 0.6515 - precision: 0.6808 - recall: 0.5716 - auc: 0.7200 - val_loss: 0.5644 - val_tp: 5.0000 - val_fp: 7091.0000 - val_tn: 26284.0000 - val_fn: 12.0000 - val_accuracy: 0.7873 - val_precision: 7.0462e-04 - val_recall: 0.2941 - val_auc: 0.5676\n",
      "Epoch 5/500\n",
      "44/44 [==============================] - 3s 76ms/step - loss: 0.5766 - tp: 114856.0000 - fp: 49091.0000 - tn: 131326.0000 - fn: 65175.0000 - accuracy: 0.6830 - precision: 0.7006 - recall: 0.6380 - auc: 0.7626 - val_loss: 0.5212 - val_tp: 6.0000 - val_fp: 7174.0000 - val_tn: 26201.0000 - val_fn: 11.0000 - val_accuracy: 0.7848 - val_precision: 8.3565e-04 - val_recall: 0.3529 - val_auc: 0.5434\n",
      "Epoch 6/500\n",
      "44/44 [==============================] - 4s 80ms/step - loss: 0.5421 - tp: 125590.0000 - fp: 48860.0000 - tn: 131767.0000 - fn: 54231.0000 - accuracy: 0.7140 - precision: 0.7199 - recall: 0.6984 - auc: 0.7994 - val_loss: 0.4790 - val_tp: 5.0000 - val_fp: 7177.0000 - val_tn: 26198.0000 - val_fn: 12.0000 - val_accuracy: 0.7847 - val_precision: 6.9618e-04 - val_recall: 0.2941 - val_auc: 0.5224\n",
      "Epoch 7/500\n",
      "44/44 [==============================] - 4s 80ms/step - loss: 0.5085 - tp: 134605.0000 - fp: 47560.0000 - tn: 132974.0000 - fn: 45309.0000 - accuracy: 0.7424 - precision: 0.7389 - recall: 0.7482 - auc: 0.8292 - val_loss: 0.4340 - val_tp: 5.0000 - val_fp: 6425.0000 - val_tn: 26950.0000 - val_fn: 12.0000 - val_accuracy: 0.8072 - val_precision: 7.7760e-04 - val_recall: 0.2941 - val_auc: 0.5129\n",
      "Epoch 8/500\n",
      "44/44 [==============================] - 4s 80ms/step - loss: 0.4722 - tp: 143305.0000 - fp: 45161.0000 - tn: 134706.0000 - fn: 37276.0000 - accuracy: 0.7713 - precision: 0.7604 - recall: 0.7936 - auc: 0.8568 - val_loss: 0.3832 - val_tp: 3.0000 - val_fp: 5251.0000 - val_tn: 28124.0000 - val_fn: 14.0000 - val_accuracy: 0.8423 - val_precision: 5.7099e-04 - val_recall: 0.1765 - val_auc: 0.5131\n",
      "Epoch 9/500\n",
      "44/44 [==============================] - 4s 80ms/step - loss: 0.4381 - tp: 148654.0000 - fp: 41433.0000 - tn: 138511.0000 - fn: 31850.0000 - accuracy: 0.7967 - precision: 0.7820 - recall: 0.8235 - auc: 0.8792 - val_loss: 0.3483 - val_tp: 2.0000 - val_fp: 4735.0000 - val_tn: 28640.0000 - val_fn: 15.0000 - val_accuracy: 0.8578 - val_precision: 4.2221e-04 - val_recall: 0.1176 - val_auc: 0.5024\n",
      "Epoch 10/500\n",
      "44/44 [==============================] - 3s 79ms/step - loss: 0.4054 - tp: 153450.0000 - fp: 38155.0000 - tn: 141901.0000 - fn: 26942.0000 - accuracy: 0.8194 - precision: 0.8009 - recall: 0.8506 - auc: 0.8981 - val_loss: 0.3357 - val_tp: 4.0000 - val_fp: 5171.0000 - val_tn: 28204.0000 - val_fn: 13.0000 - val_accuracy: 0.8448 - val_precision: 7.7295e-04 - val_recall: 0.2353 - val_auc: 0.4974\n",
      "Epoch 11/500\n",
      "44/44 [==============================] - 4s 80ms/step - loss: 0.3779 - tp: 156614.0000 - fp: 35433.0000 - tn: 145093.0000 - fn: 23308.0000 - accuracy: 0.8370 - precision: 0.8155 - recall: 0.8705 - auc: 0.9118 - val_loss: 0.3027 - val_tp: 3.0000 - val_fp: 4527.0000 - val_tn: 28848.0000 - val_fn: 14.0000 - val_accuracy: 0.8640 - val_precision: 6.6225e-04 - val_recall: 0.1765 - val_auc: 0.4873\n",
      "Epoch 12/500\n",
      "44/44 [==============================] - 3s 78ms/step - loss: 0.3550 - tp: 159903.0000 - fp: 33277.0000 - tn: 147033.0000 - fn: 20235.0000 - accuracy: 0.8515 - precision: 0.8277 - recall: 0.8877 - auc: 0.9221 - val_loss: 0.2662 - val_tp: 3.0000 - val_fp: 3812.0000 - val_tn: 29563.0000 - val_fn: 14.0000 - val_accuracy: 0.8854 - val_precision: 7.8637e-04 - val_recall: 0.1765 - val_auc: 0.4785\n",
      "Epoch 13/500\n",
      "44/44 [==============================] - 4s 82ms/step - loss: 0.3302 - tp: 162534.0000 - fp: 30912.0000 - tn: 149214.0000 - fn: 17788.0000 - accuracy: 0.8649 - precision: 0.8402 - recall: 0.9014 - auc: 0.9325 - val_loss: 0.2571 - val_tp: 3.0000 - val_fp: 3844.0000 - val_tn: 29531.0000 - val_fn: 14.0000 - val_accuracy: 0.8845 - val_precision: 7.7983e-04 - val_recall: 0.1765 - val_auc: 0.4682\n",
      "Epoch 14/500\n",
      "44/44 [==============================] - ETA: 0s - loss: 0.3129 - tp: 163428.0000 - fp: 28806.0000 - tn: 152015.0000 - fn: 16199.0000 - accuracy: 0.8751 - precision: 0.8502 - recall: 0.9098 - auc: 0.9391Restoring model weights from the end of the best epoch.\n",
      "44/44 [==============================] - 4s 80ms/step - loss: 0.3129 - tp: 163428.0000 - fp: 28806.0000 - tn: 152015.0000 - fn: 16199.0000 - accuracy: 0.8751 - precision: 0.8502 - recall: 0.9098 - auc: 0.9391 - val_loss: 0.2451 - val_tp: 3.0000 - val_fp: 3688.0000 - val_tn: 29687.0000 - val_fn: 14.0000 - val_accuracy: 0.8891 - val_precision: 8.1279e-04 - val_recall: 0.1765 - val_auc: 0.4723\n",
      "Epoch 00014: early stopping\n"
     ]
    }
   ],
   "source": [
    "resampled_model = make_model()\n",
    "\n",
    "\n",
    "# Reset the bias to zero, since this dataset is balanced.\n",
    "output_layer = resampled_model.layers[-1] \n",
    "output_layer.bias.assign([0])\n",
    "\n",
    "val_ds = tf.data.Dataset.from_tensor_slices((X_val, val_labels)).cache()\n",
    "val_ds = val_ds.batch(BATCH_SIZE).prefetch(2) \n",
    "\n",
    "resampled_history = resampled_model.fit(\n",
    "    resampled_ds,\n",
    "    epochs=EPOCHS,\n",
    "    steps_per_epoch=resampled_steps_per_epoch,\n",
    "    callbacks = [early_stopping],\n",
    "    validation_data=val_ds)"
   ]
  },
  {
   "cell_type": "markdown",
   "metadata": {},
   "source": [
    "Getting the predictions"
   ]
  },
  {
   "cell_type": "code",
   "execution_count": 92,
   "metadata": {},
   "outputs": [],
   "source": [
    "train_pred = resampled_model.predict(X_train, batch_size=BATCH_SIZE)\n",
    "test_pred = resampled_model.predict(X_test, batch_size=BATCH_SIZE)"
   ]
  },
  {
   "cell_type": "markdown",
   "metadata": {},
   "source": [
    "Let's see the scores"
   ]
  },
  {
   "cell_type": "code",
   "execution_count": 93,
   "metadata": {},
   "outputs": [
    {
     "name": "stdout",
     "output_type": "stream",
     "text": [
      "loss :  0.49872449040412903\n",
      "tp :  13.0\n",
      "fp :  9396.0\n",
      "tn :  35089.0\n",
      "fn :  25.0\n",
      "accuracy :  0.7884014844894409\n",
      "precision :  0.0013816558057442307\n",
      "recall :  0.34210526943206787\n",
      "auc :  0.6408461332321167\n",
      "\n"
     ]
    }
   ],
   "source": [
    "resampled_results = resampled_model.evaluate(X_test, test_labels,\n",
    "                                             batch_size=BATCH_SIZE, verbose=0)\n",
    "for name, value in zip(resampled_model.metrics_names, resampled_results):\n",
    "    print(name, ': ', value)\n",
    "print()"
   ]
  },
  {
   "cell_type": "code",
   "execution_count": 120,
   "metadata": {},
   "outputs": [],
   "source": [
    "def plot_cm(labels, predictions, p=0.5):\n",
    "    cm = confusion_matrix(labels, predictions > p)\n",
    "    plt.figure(figsize=(5,5))\n",
    "    sns.heatmap(cm, annot=True, fmt=\"d\")\n",
    "    plt.title('Confusion matrix'.format(p))\n",
    "    plt.ylabel('Actual label')\n",
    "    plt.xlabel('Predicted label')\n",
    "\n",
    "    print('Legitimate medicare provider Detected (True Negatives): ', cm[0][0])\n",
    "    print('Legitimate medicare provider Incorrectly Detected (False Positives): ', cm[0][1])\n",
    "    print('Fraudulent medicare provider Missed (False Negatives): ', cm[1][0])\n",
    "    print('Fraudulent medicare provider Detected (True Positives): ', cm[1][1])\n",
    "    print('Total Fraudulent provider: ', np.sum(cm[1]))"
   ]
  },
  {
   "cell_type": "code",
   "execution_count": 121,
   "metadata": {},
   "outputs": [
    {
     "name": "stdout",
     "output_type": "stream",
     "text": [
      "Legitimate medicare provider Detected (True Negatives):  35089\n",
      "Legitimate medicare provider Incorrectly Detected (False Positives):  9396\n",
      "Fraudulent medicare provider Missed (False Negatives):  25\n",
      "Fraudulent medicare provider Detected (True Positives):  13\n",
      "Total Fraudulent provider:  38\n"
     ]
    },
    {
     "data": {
      "image/png": "[encoded data removed]",
      "text/plain": [
       "<Figure size 360x360 with 2 Axes>"
      ]
     },
     "metadata": {
      "needs_background": "light"
     },
     "output_type": "display_data"
    }
   ],
   "source": [
    "plot_cm(test_labels, test_pred)"
   ]
  },
  {
   "cell_type": "markdown",
   "metadata": {},
   "source": [
    "Here you can see that, there are only 25 false negative which is good compared to other models \n",
    "we performed before. "
   ]
  },
  {
   "cell_type": "markdown",
   "metadata": {},
   "source": [
    "Our model detect 13 correct frauds and 35089 non fraud provider. It predicted 9396 fraud providers who are not fraud. Our recall score is 0.34 so it is saying that my model is 34% correctly identify the frauds.\n"
   ]
  },
  {
   "cell_type": "markdown",
   "metadata": {},
   "source": [
    "As we know our class is highly imbalance so it is difficult to detect frauds from very low amout of previously detected \n",
    "fraud providers and in my excluded providers data there are more than 50000 missing NPI who are actual \n",
    "fraud providers. So In future I will gather mpore data and looking for that NPI in NPI registery website and will try to predict\n",
    "the actual frauds.\n",
    "\n"
   ]
  },
  {
   "cell_type": "markdown",
   "metadata": {},
   "source": [
    "credit : https://www.tensorflow.org/tutorials/structured_data/imbalanced_data"
   ]
  },
  {
   "cell_type": "code",
   "execution_count": null,
   "metadata": {},
   "outputs": [],
   "source": []
  }
 ],
 "metadata": {
  "kernelspec": {
   "display_name": "Python 3",
   "language": "python",
   "name": "python3"
  },
  "language_info": {
   "codemirror_mode": {
    "name": "ipython",
    "version": 3
   },
   "file_extension": ".py",
   "mimetype": "text/x-python",
   "name": "python",
   "nbconvert_exporter": "python",
   "pygments_lexer": "ipython3",
   "version": "3.8.3"
  }
 },
 "nbformat": 4,
 "nbformat_minor": 4
}

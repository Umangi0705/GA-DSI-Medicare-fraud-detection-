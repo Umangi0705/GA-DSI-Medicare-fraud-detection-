{
 "cells": [
  {
   "cell_type": "code",
   "execution_count": 1,
   "metadata": {},
   "outputs": [],
   "source": [
    "import pandas as pd\n",
    "import numpy as np\n",
    "import seaborn as sns\n",
    "import matplotlib.pyplot as plt\n",
    "from sklearn.model_selection import train_test_split\n",
    "import tensorflow as tf\n",
    "from tensorflow import keras\n",
    "from tensorflow.keras.models import Sequential\n",
    "from tensorflow.keras.layers import Dense\n",
    "from tensorflow.keras.utils import to_categorical\n",
    "from tensorflow.keras.regularizers import l2\n",
    "from tensorflow.keras.callbacks import EarlyStopping\n",
    "from sklearn.metrics import confusion_matrix, classification_report, \\\n",
    "recall_score, precision_score, accuracy_score, plot_confusion_matrix, roc_auc_score\n",
    "from sklearn.preprocessing import StandardScaler\n",
    "from sklearn.metrics import roc_curve\n",
    "\n",
    "import os\n",
    "import tempfile"
   ]
  },
  {
   "cell_type": "code",
   "execution_count": 2,
   "metadata": {},
   "outputs": [],
   "source": [
    "df=pd.read_csv(\"./datasets/final_data.csv\",index_col=0)"
   ]
  },
  {
   "cell_type": "code",
   "execution_count": 3,
   "metadata": {},
   "outputs": [],
   "source": [
    "X=df[['total_drug_cost', 'total_claim_count', 'total_day_supply',\n",
    "       'Opioid Claim Count', 'Opioid Prescribing Rate',\n",
    "       'Long-Acting Opioid Claim Count', 'Long-Acting Opioid Prescribing Rate',\n",
    "       'Total_Payment_Sum', 'Number of Suppliers',\n",
    "       'Number of Supplier Beneficiaries', 'Number of Supplier Claims',\n",
    "       'Average Supplier Submitted Charge',\n",
    "       'Average Supplier Medicare Allow Amount',\n",
    "       'Average Supplier Medicare Payment Amount',\n",
    "       'Average Supplier Medicare Standard Amount', 'is_fraud']]"
   ]
  },
  {
   "cell_type": "code",
   "execution_count": 4,
   "metadata": {},
   "outputs": [],
   "source": [
    "# Use a utility from sklearn to split and shuffle our dataset.\n",
    "X_train, X_test = train_test_split(X, test_size=0.25)\n",
    "X_train, X_val = train_test_split(X_train, test_size=0.25)"
   ]
  },
  {
   "cell_type": "code",
   "execution_count": 5,
   "metadata": {},
   "outputs": [],
   "source": [
    "# Form np arrays of labels and features.\n",
    "train_labels = np.array(X_train.pop('is_fraud'))\n",
    "bool_train_labels = train_labels != 0\n",
    "val_labels = np.array(X_val.pop('is_fraud'))\n",
    "test_labels = np.array(X_test.pop('is_fraud'))\n"
   ]
  },
  {
   "cell_type": "code",
   "execution_count": 6,
   "metadata": {},
   "outputs": [],
   "source": [
    "X_train = np.array(X_train)\n",
    "X_val = np.array(X_val)\n",
    "X_test = np.array(X_test)"
   ]
  },
  {
   "cell_type": "code",
   "execution_count": 7,
   "metadata": {},
   "outputs": [],
   "source": [
    "ss = StandardScaler()\n",
    "X_train = ss.fit_transform(X_train)\n",
    "\n",
    "X_val = ss.transform(X_val)\n",
    "X_test = ss.transform(X_test)\n",
    "\n"
   ]
  },
  {
   "cell_type": "code",
   "execution_count": 8,
   "metadata": {},
   "outputs": [],
   "source": [
    "X_train = np.clip(X_train, -5, 5)\n",
    "X_val = np.clip(X_val, -5, 5)\n",
    "X_test = np.clip(X_test, -5, 5)"
   ]
  },
  {
   "cell_type": "code",
   "execution_count": 9,
   "metadata": {},
   "outputs": [
    {
     "data": {
      "text/plain": [
       "((100174, 15), (44523, 15), (33392, 15))"
      ]
     },
     "execution_count": 9,
     "metadata": {},
     "output_type": "execute_result"
    }
   ],
   "source": [
    "X_train.shape,X_test.shape,X_val.shape"
   ]
  },
  {
   "cell_type": "code",
   "execution_count": 10,
   "metadata": {},
   "outputs": [
    {
     "data": {
      "text/plain": [
       "((100174,), (33392,), (44523,))"
      ]
     },
     "execution_count": 10,
     "metadata": {},
     "output_type": "execute_result"
    }
   ],
   "source": [
    "train_labels.shape,val_labels.shape,test_labels.shape"
   ]
  },
  {
   "cell_type": "code",
   "execution_count": 11,
   "metadata": {},
   "outputs": [],
   "source": [
    "neg, pos = np.bincount(df['is_fraud'])"
   ]
  },
  {
   "cell_type": "code",
   "execution_count": 12,
   "metadata": {},
   "outputs": [
    {
     "data": {
      "text/plain": [
       "(177973, 116)"
      ]
     },
     "execution_count": 12,
     "metadata": {},
     "output_type": "execute_result"
    }
   ],
   "source": [
    "neg, pos"
   ]
  },
  {
   "cell_type": "code",
   "execution_count": 13,
   "metadata": {},
   "outputs": [],
   "source": [
    "METRICS = [\n",
    "      keras.metrics.TruePositives(name='tp'),\n",
    "      keras.metrics.FalsePositives(name='fp'),\n",
    "      keras.metrics.TrueNegatives(name='tn'),\n",
    "      keras.metrics.FalseNegatives(name='fn'), \n",
    "      keras.metrics.BinaryAccuracy(name='accuracy'),\n",
    "      keras.metrics.Precision(name='precision'),\n",
    "      keras.metrics.Recall(name='recall'),\n",
    "      keras.metrics.AUC(name='auc'),\n",
    "]\n",
    "\n",
    "def make_model(metrics = METRICS, output_bias=None):\n",
    "    if output_bias is not None:\n",
    "        output_bias = tf.keras.initializers.Constant(output_bias)\n",
    "    model = keras.Sequential([\n",
    "            keras.layers.Dense(16, activation='relu',\n",
    "            input_shape=(X_train.shape[-1],)),\n",
    "            keras.layers.Dropout(0.5),\n",
    "               keras.layers.Dense(1, activation='sigmoid',\n",
    "                         bias_initializer=output_bias),\n",
    "  ])\n",
    "\n",
    "    model.compile(\n",
    "        optimizer=keras.optimizers.Adam(lr=1e-3),\n",
    "        loss=keras.losses.BinaryCrossentropy(),\n",
    "         metrics=metrics)\n",
    "\n",
    "    return model"
   ]
  },
  {
   "cell_type": "code",
   "execution_count": 14,
   "metadata": {},
   "outputs": [],
   "source": [
    "EPOCHS = 100\n",
    "BATCH_SIZE = 2048\n",
    "\n",
    "early_stopping = tf.keras.callbacks.EarlyStopping(\n",
    "    monitor='val_auc', \n",
    "    verbose=1,\n",
    "    patience=10,\n",
    "    mode='max',\n",
    "    restore_best_weights=True)"
   ]
  },
  {
   "cell_type": "code",
   "execution_count": 15,
   "metadata": {},
   "outputs": [],
   "source": [
    "model=make_model()\n"
   ]
  },
  {
   "cell_type": "code",
   "execution_count": 16,
   "metadata": {},
   "outputs": [
    {
     "name": "stdout",
     "output_type": "stream",
     "text": [
      "Model: \"sequential\"\n",
      "_________________________________________________________________\n",
      "Layer (type)                 Output Shape              Param #   \n",
      "=================================================================\n",
      "dense (Dense)                (None, 16)                256       \n",
      "_________________________________________________________________\n",
      "dropout (Dropout)            (None, 16)                0         \n",
      "_________________________________________________________________\n",
      "dense_1 (Dense)              (None, 1)                 17        \n",
      "=================================================================\n",
      "Total params: 273\n",
      "Trainable params: 273\n",
      "Non-trainable params: 0\n",
      "_________________________________________________________________\n"
     ]
    }
   ],
   "source": [
    "model.summary()"
   ]
  },
  {
   "cell_type": "markdown",
   "metadata": {},
   "source": [
    "Resampling"
   ]
  },
  {
   "cell_type": "code",
   "execution_count": 17,
   "metadata": {},
   "outputs": [],
   "source": [
    "pos_features = X_train[bool_train_labels]\n",
    "neg_features = X_train[~bool_train_labels]\n",
    "\n",
    "pos_labels = train_labels[bool_train_labels]\n",
    "neg_labels = train_labels[~bool_train_labels]"
   ]
  },
  {
   "cell_type": "code",
   "execution_count": 18,
   "metadata": {},
   "outputs": [
    {
     "data": {
      "text/plain": [
       "(100114, 15)"
      ]
     },
     "execution_count": 18,
     "metadata": {},
     "output_type": "execute_result"
    }
   ],
   "source": [
    "ids = np.arange(len(pos_features))\n",
    "choices = np.random.choice(ids, len(neg_features))\n",
    "\n",
    "res_pos_features = pos_features[choices]\n",
    "res_pos_labels = pos_labels[choices]\n",
    "\n",
    "res_pos_features.shape"
   ]
  },
  {
   "cell_type": "code",
   "execution_count": 19,
   "metadata": {},
   "outputs": [
    {
     "data": {
      "text/plain": [
       "(200228, 15)"
      ]
     },
     "execution_count": 19,
     "metadata": {},
     "output_type": "execute_result"
    }
   ],
   "source": [
    "X_res = np.concatenate([res_pos_features, neg_features], axis=0)\n",
    "label_res = np.concatenate([res_pos_labels, neg_labels], axis=0)\n",
    "\n",
    "order = np.arange(len(label_res))\n",
    "np.random.shuffle(order)\n",
    "X_res = X_res[order]\n",
    "label_res = label_res[order]\n",
    "\n",
    "X_res.shape"
   ]
  },
  {
   "cell_type": "code",
   "execution_count": 20,
   "metadata": {},
   "outputs": [],
   "source": [
    "BUFFER_SIZE = 100000\n",
    "def make_ds(features, labels):\n",
    "    ds = tf.data.Dataset.from_tensor_slices((features, labels))#.cache()\n",
    "    ds = ds.shuffle(BUFFER_SIZE).repeat()\n",
    "    return ds\n",
    "\n",
    "pos_ds = make_ds(pos_features, pos_labels)\n",
    "neg_ds = make_ds(neg_features, neg_labels)"
   ]
  },
  {
   "cell_type": "code",
   "execution_count": 21,
   "metadata": {},
   "outputs": [
    {
     "name": "stdout",
     "output_type": "stream",
     "text": [
      "Features:\n",
      " [-0.47524078 -0.32678388 -0.47087588 -0.42206689 -0.5168054  -0.22126438\n",
      " -0.48089463 -0.08229784 -0.10004723 -0.09340877 -0.21185872 -0.42155817\n",
      " -0.35711146 -0.34928098 -0.35103402]\n",
      "\n",
      "Label:  1\n"
     ]
    }
   ],
   "source": [
    "for features, label in pos_ds.take(1):\n",
    "    print(\"Features:\\n\", features.numpy())\n",
    "    print()\n",
    "    print(\"Label: \", label.numpy())"
   ]
  },
  {
   "cell_type": "code",
   "execution_count": 22,
   "metadata": {},
   "outputs": [],
   "source": [
    "resampled_ds = tf.data.experimental.sample_from_datasets([pos_ds, neg_ds], weights=[0.5, 0.5])\n",
    "resampled_ds = resampled_ds.batch(BATCH_SIZE).prefetch(2)"
   ]
  },
  {
   "cell_type": "code",
   "execution_count": 23,
   "metadata": {},
   "outputs": [
    {
     "name": "stdout",
     "output_type": "stream",
     "text": [
      "0.50732421875\n"
     ]
    }
   ],
   "source": [
    "for features, label in resampled_ds.take(1):\n",
    "    print(label.numpy().mean())"
   ]
  },
  {
   "cell_type": "code",
   "execution_count": 24,
   "metadata": {},
   "outputs": [
    {
     "data": {
      "text/plain": [
       "174.0"
      ]
     },
     "execution_count": 24,
     "metadata": {},
     "output_type": "execute_result"
    }
   ],
   "source": [
    "resampled_steps_per_epoch = np.ceil(2.0*(neg)/BATCH_SIZE)\n",
    "resampled_steps_per_epoch"
   ]
  },
  {
   "cell_type": "code",
   "execution_count": 25,
   "metadata": {},
   "outputs": [
    {
     "name": "stdout",
     "output_type": "stream",
     "text": [
      "Epoch 1/100\n",
      "174/174 [==============================] - 3s 20ms/step - loss: 0.7240 - tp: 106608.0000 - fp: 91110.0000 - tn: 87295.0000 - fn: 71339.0000 - accuracy: 0.5441 - precision: 0.5392 - recall: 0.5991 - auc: 0.5587 - val_loss: 0.6538 - val_tp: 12.0000 - val_fp: 15677.0000 - val_tn: 17692.0000 - val_fn: 11.0000 - val_accuracy: 0.5302 - val_precision: 7.6487e-04 - val_recall: 0.5217 - val_auc: 0.5710\n",
      "Epoch 2/100\n",
      "174/174 [==============================] - 3s 17ms/step - loss: 0.6616 - tp: 122437.0000 - fp: 83964.0000 - tn: 93777.0000 - fn: 56174.0000 - accuracy: 0.6067 - precision: 0.5932 - recall: 0.6855 - auc: 0.6510 - val_loss: 0.6379 - val_tp: 13.0000 - val_fp: 14821.0000 - val_tn: 18548.0000 - val_fn: 10.0000 - val_accuracy: 0.5559 - val_precision: 8.7637e-04 - val_recall: 0.5652 - val_auc: 0.6116\n",
      "Epoch 3/100\n",
      "174/174 [==============================] - 3s 17ms/step - loss: 0.6378 - tp: 122937.0000 - fp: 76334.0000 - tn: 102223.0000 - fn: 54858.0000 - accuracy: 0.6318 - precision: 0.6169 - recall: 0.6915 - auc: 0.6914 - val_loss: 0.6157 - val_tp: 12.0000 - val_fp: 13757.0000 - val_tn: 19612.0000 - val_fn: 11.0000 - val_accuracy: 0.5877 - val_precision: 8.7152e-04 - val_recall: 0.5217 - val_auc: 0.6319\n",
      "Epoch 4/100\n",
      "174/174 [==============================] - 3s 17ms/step - loss: 0.6222 - tp: 120508.0000 - fp: 68540.0000 - tn: 109518.0000 - fn: 57786.0000 - accuracy: 0.6455 - precision: 0.6374 - recall: 0.6759 - auc: 0.7139 - val_loss: 0.5945 - val_tp: 12.0000 - val_fp: 12803.0000 - val_tn: 20566.0000 - val_fn: 11.0000 - val_accuracy: 0.6163 - val_precision: 9.3640e-04 - val_recall: 0.5217 - val_auc: 0.6331\n",
      "Epoch 5/100\n",
      "174/174 [==============================] - 3s 17ms/step - loss: 0.6102 - tp: 119190.0000 - fp: 64219.0000 - tn: 114007.0000 - fn: 58936.0000 - accuracy: 0.6544 - precision: 0.6499 - recall: 0.6691 - auc: 0.7279 - val_loss: 0.5819 - val_tp: 11.0000 - val_fp: 12384.0000 - val_tn: 20985.0000 - val_fn: 12.0000 - val_accuracy: 0.6288 - val_precision: 8.8745e-04 - val_recall: 0.4783 - val_auc: 0.6096\n",
      "Epoch 6/100\n",
      "174/174 [==============================] - 3s 17ms/step - loss: 0.5985 - tp: 119921.0000 - fp: 61719.0000 - tn: 116227.0000 - fn: 58485.0000 - accuracy: 0.6627 - precision: 0.6602 - recall: 0.6722 - auc: 0.7415 - val_loss: 0.5699 - val_tp: 11.0000 - val_fp: 11823.0000 - val_tn: 21546.0000 - val_fn: 12.0000 - val_accuracy: 0.6456 - val_precision: 9.2953e-04 - val_recall: 0.4783 - val_auc: 0.6020\n",
      "Epoch 7/100\n",
      "174/174 [==============================] - 3s 17ms/step - loss: 0.5879 - tp: 120584.0000 - fp: 59506.0000 - tn: 118840.0000 - fn: 57422.0000 - accuracy: 0.6719 - precision: 0.6696 - recall: 0.6774 - auc: 0.7533 - val_loss: 0.5559 - val_tp: 11.0000 - val_fp: 11557.0000 - val_tn: 21812.0000 - val_fn: 12.0000 - val_accuracy: 0.6535 - val_precision: 9.5090e-04 - val_recall: 0.4783 - val_auc: 0.6004\n",
      "Epoch 8/100\n",
      "174/174 [==============================] - 3s 18ms/step - loss: 0.5796 - tp: 122337.0000 - fp: 59103.0000 - tn: 119190.0000 - fn: 55722.0000 - accuracy: 0.6778 - precision: 0.6743 - recall: 0.6871 - auc: 0.7622 - val_loss: 0.5429 - val_tp: 11.0000 - val_fp: 11200.0000 - val_tn: 22169.0000 - val_fn: 12.0000 - val_accuracy: 0.6642 - val_precision: 9.8118e-04 - val_recall: 0.4783 - val_auc: 0.6049\n",
      "Epoch 9/100\n",
      "174/174 [==============================] - 3s 17ms/step - loss: 0.5718 - tp: 125015.0000 - fp: 58997.0000 - tn: 118967.0000 - fn: 53373.0000 - accuracy: 0.6847 - precision: 0.6794 - recall: 0.7008 - auc: 0.7704 - val_loss: 0.5409 - val_tp: 12.0000 - val_fp: 11418.0000 - val_tn: 21951.0000 - val_fn: 11.0000 - val_accuracy: 0.6577 - val_precision: 0.0010 - val_recall: 0.5217 - val_auc: 0.6058\n",
      "Epoch 10/100\n",
      "174/174 [==============================] - 3s 17ms/step - loss: 0.5655 - tp: 124941.0000 - fp: 57867.0000 - tn: 120704.0000 - fn: 52840.0000 - accuracy: 0.6893 - precision: 0.6835 - recall: 0.7028 - auc: 0.7751 - val_loss: 0.5231 - val_tp: 12.0000 - val_fp: 10639.0000 - val_tn: 22730.0000 - val_fn: 11.0000 - val_accuracy: 0.6811 - val_precision: 0.0011 - val_recall: 0.5217 - val_auc: 0.6138\n",
      "Epoch 11/100\n",
      "174/174 [==============================] - 3s 17ms/step - loss: 0.5603 - tp: 126105.0000 - fp: 56962.0000 - tn: 121212.0000 - fn: 52073.0000 - accuracy: 0.6940 - precision: 0.6888 - recall: 0.7077 - auc: 0.7800 - val_loss: 0.5244 - val_tp: 13.0000 - val_fp: 11073.0000 - val_tn: 22296.0000 - val_fn: 10.0000 - val_accuracy: 0.6681 - val_precision: 0.0012 - val_recall: 0.5652 - val_auc: 0.6171\n",
      "Epoch 12/100\n",
      "174/174 [==============================] - 3s 17ms/step - loss: 0.5529 - tp: 130075.0000 - fp: 58315.0000 - tn: 119492.0000 - fn: 48470.0000 - accuracy: 0.7003 - precision: 0.6905 - recall: 0.7285 - auc: 0.7865 - val_loss: 0.5156 - val_tp: 13.0000 - val_fp: 10953.0000 - val_tn: 22416.0000 - val_fn: 10.0000 - val_accuracy: 0.6717 - val_precision: 0.0012 - val_recall: 0.5652 - val_auc: 0.6211\n",
      "Epoch 13/100\n",
      "174/174 [==============================] - 3s 17ms/step - loss: 0.5472 - tp: 130534.0000 - fp: 57627.0000 - tn: 120505.0000 - fn: 47686.0000 - accuracy: 0.7045 - precision: 0.6937 - recall: 0.7324 - auc: 0.7911 - val_loss: 0.5068 - val_tp: 12.0000 - val_fp: 10568.0000 - val_tn: 22801.0000 - val_fn: 11.0000 - val_accuracy: 0.6832 - val_precision: 0.0011 - val_recall: 0.5217 - val_auc: 0.6186\n",
      "Epoch 14/100\n",
      "173/174 [============================>.] - ETA: 0s - loss: 0.5427 - tp: 131272.0000 - fp: 56765.0000 - tn: 119517.0000 - fn: 46750.0000 - accuracy: 0.7078 - precision: 0.6981 - recall: 0.7374 - auc: 0.7952Restoring model weights from the end of the best epoch.\n",
      "174/174 [==============================] - 3s 18ms/step - loss: 0.5428 - tp: 132008.0000 - fp: 57117.0000 - tn: 120224.0000 - fn: 47003.0000 - accuracy: 0.7078 - precision: 0.6980 - recall: 0.7374 - auc: 0.7952 - val_loss: 0.5065 - val_tp: 12.0000 - val_fp: 10657.0000 - val_tn: 22712.0000 - val_fn: 11.0000 - val_accuracy: 0.6805 - val_precision: 0.0011 - val_recall: 0.5217 - val_auc: 0.6167\n",
      "Epoch 00014: early stopping\n"
     ]
    }
   ],
   "source": [
    "resampled_model = make_model()\n",
    "# resampled_model.load_weights(initial_weights)\n",
    "\n",
    "# Reset the bias to zero, since this dataset is balanced.\n",
    "output_layer = resampled_model.layers[-1] \n",
    "output_layer.bias.assign([0])\n",
    "\n",
    "val_ds = tf.data.Dataset.from_tensor_slices((X_val, val_labels)).cache()\n",
    "val_ds = val_ds.batch(BATCH_SIZE).prefetch(2) \n",
    "\n",
    "resampled_history = resampled_model.fit(\n",
    "    resampled_ds,\n",
    "    epochs=EPOCHS,\n",
    "    steps_per_epoch=resampled_steps_per_epoch,\n",
    "    callbacks = [early_stopping],\n",
    "    validation_data=val_ds)"
   ]
  },
  {
   "cell_type": "code",
   "execution_count": 26,
   "metadata": {},
   "outputs": [],
   "source": [
    "train_pred = resampled_model.predict(X_train, batch_size=BATCH_SIZE)\n",
    "test_pred = resampled_model.predict(X_test, batch_size=BATCH_SIZE)"
   ]
  },
  {
   "cell_type": "code",
   "execution_count": 27,
   "metadata": {},
   "outputs": [
    {
     "name": "stdout",
     "output_type": "stream",
     "text": [
      "loss :  0.5921505093574524\n",
      "tp :  18.0\n",
      "fp :  16844.0\n",
      "tn :  27646.0\n",
      "fn :  15.0\n",
      "accuracy :  0.6213417649269104\n",
      "precision :  0.001067489036358893\n",
      "recall :  0.5454545617103577\n",
      "auc :  0.650733232498169\n",
      "\n"
     ]
    }
   ],
   "source": [
    "resampled_results = resampled_model.evaluate(X_test, test_labels,\n",
    "                                             batch_size=BATCH_SIZE, verbose=0)\n",
    "for name, value in zip(resampled_model.metrics_names, resampled_results):\n",
    "    print(name, ': ', value)\n",
    "print()"
   ]
  },
  {
   "cell_type": "code",
   "execution_count": 32,
   "metadata": {},
   "outputs": [],
   "source": [
    "def plot_cm(labels, predictions, p=0.5):\n",
    "    cm = confusion_matrix(labels, predictions > p)\n",
    "    plt.figure(figsize=(5,5))\n",
    "    sns.heatmap(cm, annot=True, fmt=\"d\")\n",
    "    plt.title('Confusion matrix @{:.2f}'.format(p))\n",
    "    plt.ylabel('Actual label')\n",
    "    plt.xlabel('Predicted label')\n",
    "\n",
    "    print('Legitimate medicare provider Detected (True Negatives): ', cm[0][0])\n",
    "    print('Legitimate medicare provider Incorrectly Detected (False Positives): ', cm[0][1])\n",
    "    print('Fraudulent medicare provider Missed (False Negatives): ', cm[1][0])\n",
    "    print('Fraudulent medicare provider Detected (True Positives): ', cm[1][1])\n",
    "    print('Total Fraudulent provider: ', np.sum(cm[1]))"
   ]
  },
  {
   "cell_type": "code",
   "execution_count": 34,
   "metadata": {},
   "outputs": [
    {
     "name": "stdout",
     "output_type": "stream",
     "text": [
      "Legitimate medicare provider Detected (True Negatives):  27646\n",
      "Legitimate medicare provider Incorrectly Detected (False Positives):  16844\n",
      "Fraudulent medicare provider Missed (False Negatives):  15\n",
      "Fraudulent medicare provider Detected (True Positives):  18\n",
      "Total Fraudulent provider:  33\n"
     ]
    },
    {
     "data": {
      "image/png": "[encoded data removed]",
      "text/plain": [
       "<Figure size 360x360 with 2 Axes>"
      ]
     },
     "metadata": {
      "needs_background": "light"
     },
     "output_type": "display_data"
    }
   ],
   "source": [
    "plot_cm(test_labels, test_pred)"
   ]
  },
  {
   "cell_type": "markdown",
   "metadata": {},
   "source": [
    "credit : https://www.tensorflow.org/tutorials/structured_data/imbalanced_data"
   ]
  },
  {
   "cell_type": "code",
   "execution_count": null,
   "metadata": {},
   "outputs": [],
   "source": []
  }
 ],
 "metadata": {
  "kernelspec": {
   "display_name": "Python 3",
   "language": "python",
   "name": "python3"
  },
  "language_info": {
   "codemirror_mode": {
    "name": "ipython",
    "version": 3
   },
   "file_extension": ".py",
   "mimetype": "text/x-python",
   "name": "python",
   "nbconvert_exporter": "python",
   "pygments_lexer": "ipython3",
   "version": "3.8.3"
  }
 },
 "nbformat": 4,
 "nbformat_minor": 4
}

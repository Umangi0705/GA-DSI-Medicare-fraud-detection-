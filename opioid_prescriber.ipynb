{
 "cells": [
  {
   "cell_type": "markdown",
   "metadata": {},
   "source": [
    "This dataset is about the Medicare Part D Opioid Prescriber Summary File, which presents information on the individual opioid prescribing rates of health providers that participate in Medicare Part D program"
   ]
  },
  {
   "cell_type": "code",
   "execution_count": 6,
   "metadata": {},
   "outputs": [],
   "source": [
    "import pandas as pd\n",
    "import seaborn as sns\n",
    "import matplotlib.pyplot as plt"
   ]
  },
  {
   "cell_type": "code",
   "execution_count": 7,
   "metadata": {},
   "outputs": [],
   "source": [
    "df=pd.read_csv(\"./datasets/Medicare_Part_D_Opioid_Prescriber_Summary_File_2017.csv\")"
   ]
  },
  {
   "cell_type": "code",
   "execution_count": 8,
   "metadata": {},
   "outputs": [
    {
     "data": {
      "text/html": [
       "<div>\n",
       "<style scoped>\n",
       "    .dataframe tbody tr th:only-of-type {\n",
       "        vertical-align: middle;\n",
       "    }\n",
       "\n",
       "    .dataframe tbody tr th {\n",
       "        vertical-align: top;\n",
       "    }\n",
       "\n",
       "    .dataframe thead th {\n",
       "        text-align: right;\n",
       "    }\n",
       "</style>\n",
       "<table border=\"1\" class=\"dataframe\">\n",
       "  <thead>\n",
       "    <tr style=\"text-align: right;\">\n",
       "      <th></th>\n",
       "      <th>NPI</th>\n",
       "      <th>NPPES Provider Last Name</th>\n",
       "      <th>NPPES Provider First Name</th>\n",
       "      <th>NPPES Provider ZIP Code</th>\n",
       "      <th>NPPES Provider State</th>\n",
       "      <th>Specialty Description</th>\n",
       "      <th>Total Claim Count</th>\n",
       "      <th>Opioid Claim Count</th>\n",
       "      <th>Opioid Prescribing Rate</th>\n",
       "      <th>Long-Acting Opioid Claim Count</th>\n",
       "      <th>Long-Acting Opioid Prescribing Rate</th>\n",
       "    </tr>\n",
       "  </thead>\n",
       "  <tbody>\n",
       "    <tr>\n",
       "      <th>0</th>\n",
       "      <td>1174649131</td>\n",
       "      <td>MORAN</td>\n",
       "      <td>LAUREN</td>\n",
       "      <td>2478.0</td>\n",
       "      <td>MA</td>\n",
       "      <td>Psychiatry</td>\n",
       "      <td>27</td>\n",
       "      <td>0.0</td>\n",
       "      <td>0.0</td>\n",
       "      <td>0.0</td>\n",
       "      <td>NaN</td>\n",
       "    </tr>\n",
       "    <tr>\n",
       "      <th>1</th>\n",
       "      <td>1003804923</td>\n",
       "      <td>KASTENDIECK</td>\n",
       "      <td>KURT</td>\n",
       "      <td>87505.0</td>\n",
       "      <td>NM</td>\n",
       "      <td>Family Practice</td>\n",
       "      <td>5342</td>\n",
       "      <td>593.0</td>\n",
       "      <td>11.1</td>\n",
       "      <td>72.0</td>\n",
       "      <td>12.14</td>\n",
       "    </tr>\n",
       "    <tr>\n",
       "      <th>2</th>\n",
       "      <td>1366761108</td>\n",
       "      <td>WILEY</td>\n",
       "      <td>JULIE</td>\n",
       "      <td>73102.0</td>\n",
       "      <td>OK</td>\n",
       "      <td>Obstetrics &amp; Gynecology</td>\n",
       "      <td>125</td>\n",
       "      <td>NaN</td>\n",
       "      <td>NaN</td>\n",
       "      <td>0.0</td>\n",
       "      <td>NaN</td>\n",
       "    </tr>\n",
       "    <tr>\n",
       "      <th>3</th>\n",
       "      <td>1386611234</td>\n",
       "      <td>GUNNELL</td>\n",
       "      <td>JENNIFER</td>\n",
       "      <td>97701.0</td>\n",
       "      <td>OR</td>\n",
       "      <td>Internal Medicine</td>\n",
       "      <td>250</td>\n",
       "      <td>NaN</td>\n",
       "      <td>NaN</td>\n",
       "      <td>0.0</td>\n",
       "      <td>NaN</td>\n",
       "    </tr>\n",
       "    <tr>\n",
       "      <th>4</th>\n",
       "      <td>1871920066</td>\n",
       "      <td>COX</td>\n",
       "      <td>SUSAN</td>\n",
       "      <td>89502.0</td>\n",
       "      <td>NV</td>\n",
       "      <td>Nurse Practitioner</td>\n",
       "      <td>717</td>\n",
       "      <td>0.0</td>\n",
       "      <td>0.0</td>\n",
       "      <td>0.0</td>\n",
       "      <td>NaN</td>\n",
       "    </tr>\n",
       "  </tbody>\n",
       "</table>\n",
       "</div>"
      ],
      "text/plain": [
       "          NPI NPPES Provider Last Name NPPES Provider First Name  \\\n",
       "0  1174649131                    MORAN                    LAUREN   \n",
       "1  1003804923              KASTENDIECK                      KURT   \n",
       "2  1366761108                    WILEY                     JULIE   \n",
       "3  1386611234                  GUNNELL                  JENNIFER   \n",
       "4  1871920066                      COX                     SUSAN   \n",
       "\n",
       "   NPPES Provider ZIP Code NPPES Provider State    Specialty Description  \\\n",
       "0                   2478.0                   MA               Psychiatry   \n",
       "1                  87505.0                   NM          Family Practice   \n",
       "2                  73102.0                   OK  Obstetrics & Gynecology   \n",
       "3                  97701.0                   OR        Internal Medicine   \n",
       "4                  89502.0                   NV       Nurse Practitioner   \n",
       "\n",
       "   Total Claim Count  Opioid Claim Count  Opioid Prescribing Rate  \\\n",
       "0                 27                 0.0                      0.0   \n",
       "1               5342               593.0                     11.1   \n",
       "2                125                 NaN                      NaN   \n",
       "3                250                 NaN                      NaN   \n",
       "4                717                 0.0                      0.0   \n",
       "\n",
       "   Long-Acting Opioid Claim Count  Long-Acting Opioid Prescribing Rate  \n",
       "0                             0.0                                  NaN  \n",
       "1                            72.0                                12.14  \n",
       "2                             0.0                                  NaN  \n",
       "3                             0.0                                  NaN  \n",
       "4                             0.0                                  NaN  "
      ]
     },
     "execution_count": 8,
     "metadata": {},
     "output_type": "execute_result"
    }
   ],
   "source": [
    "df.head()"
   ]
  },
  {
   "cell_type": "markdown",
   "metadata": {},
   "source": [
    "Let's check the null values in our dataset"
   ]
  },
  {
   "cell_type": "code",
   "execution_count": 9,
   "metadata": {},
   "outputs": [
    {
     "data": {
      "text/plain": [
       "Index(['NPI', 'NPPES Provider Last Name', 'NPPES Provider First Name',\n",
       "       'NPPES Provider ZIP Code', 'NPPES Provider State',\n",
       "       'Specialty Description', 'Total Claim Count', 'Opioid Claim Count',\n",
       "       'Opioid Prescribing Rate', 'Long-Acting Opioid Claim Count',\n",
       "       'Long-Acting Opioid Prescribing Rate'],\n",
       "      dtype='object')"
      ]
     },
     "execution_count": 9,
     "metadata": {},
     "output_type": "execute_result"
    }
   ],
   "source": [
    "df.columns"
   ]
  },
  {
   "cell_type": "code",
   "execution_count": 10,
   "metadata": {},
   "outputs": [],
   "source": [
    "# Renaming the column names\n",
    "\n",
    "df=df.rename(columns={'NPPES Provider Last Name':'last_name', 'NPPES Provider First Name':'first_name',\n",
    "                     'NPPES Provider ZIP Code':'ZIP_code','NPPES Provider State':'state',\n",
    "                     })"
   ]
  },
  {
   "cell_type": "code",
   "execution_count": 11,
   "metadata": {},
   "outputs": [],
   "source": [
    "# Combining the first name and last name\n",
    "\n",
    "df[\"Name\"]=df[\"first_name\"]+\" \"+df[\"last_name\"]\n"
   ]
  },
  {
   "cell_type": "code",
   "execution_count": 12,
   "metadata": {},
   "outputs": [],
   "source": [
    "df=df.drop(columns=[\"first_name\",\"last_name\"])"
   ]
  },
  {
   "cell_type": "code",
   "execution_count": 13,
   "metadata": {},
   "outputs": [
    {
     "data": {
      "text/plain": [
       "Index(['NPI', 'ZIP_code', 'state', 'Specialty Description',\n",
       "       'Total Claim Count', 'Opioid Claim Count', 'Opioid Prescribing Rate',\n",
       "       'Long-Acting Opioid Claim Count', 'Long-Acting Opioid Prescribing Rate',\n",
       "       'Name'],\n",
       "      dtype='object')"
      ]
     },
     "execution_count": 13,
     "metadata": {},
     "output_type": "execute_result"
    }
   ],
   "source": [
    "df.columns"
   ]
  },
  {
   "cell_type": "markdown",
   "metadata": {},
   "source": [
    "I am going to select only following columns"
   ]
  },
  {
   "cell_type": "code",
   "execution_count": 14,
   "metadata": {},
   "outputs": [],
   "source": [
    "df=df[['NPI','Name', 'ZIP_code', 'state', 'Specialty Description',\n",
    "       'Total Claim Count', 'Opioid Claim Count', 'Opioid Prescribing Rate',\n",
    "       'Long-Acting Opioid Claim Count', 'Long-Acting Opioid Prescribing Rate']]"
   ]
  },
  {
   "cell_type": "code",
   "execution_count": 15,
   "metadata": {},
   "outputs": [
    {
     "name": "stdout",
     "output_type": "stream",
     "text": [
      "<class 'pandas.core.frame.DataFrame'>\n",
      "RangeIndex: 1162898 entries, 0 to 1162897\n",
      "Data columns (total 10 columns):\n",
      " #   Column                               Non-Null Count    Dtype  \n",
      "---  ------                               --------------    -----  \n",
      " 0   NPI                                  1162898 non-null  int64  \n",
      " 1   Name                                 1162842 non-null  object \n",
      " 2   ZIP_code                             1162846 non-null  float64\n",
      " 3   state                                1162898 non-null  object \n",
      " 4   Specialty Description                1162898 non-null  object \n",
      " 5   Total Claim Count                    1162898 non-null  int64  \n",
      " 6   Opioid Claim Count                   834341 non-null   float64\n",
      " 7   Opioid Prescribing Rate              834341 non-null   float64\n",
      " 8   Long-Acting Opioid Claim Count       1017426 non-null  float64\n",
      " 9   Long-Acting Opioid Prescribing Rate  374356 non-null   float64\n",
      "dtypes: float64(5), int64(2), object(3)\n",
      "memory usage: 88.7+ MB\n"
     ]
    }
   ],
   "source": [
    "df.info()"
   ]
  },
  {
   "cell_type": "code",
   "execution_count": 16,
   "metadata": {},
   "outputs": [
    {
     "data": {
      "text/plain": [
       "(1162898, 10)"
      ]
     },
     "execution_count": 16,
     "metadata": {},
     "output_type": "execute_result"
    }
   ],
   "source": [
    "df.shape"
   ]
  },
  {
   "cell_type": "markdown",
   "metadata": {},
   "source": [
    "For categorical columns I am going to put Unknown as this is the real dataset so we can not put anything random"
   ]
  },
  {
   "cell_type": "code",
   "execution_count": 17,
   "metadata": {},
   "outputs": [],
   "source": [
    "df.fillna({\"Name\":\"Unknown\",                         \n",
    "\"ZIP_code\":\"Unknown\"},inplace=True)"
   ]
  },
  {
   "cell_type": "markdown",
   "metadata": {},
   "source": [
    "For Numerical columns I am putting 0"
   ]
  },
  {
   "cell_type": "code",
   "execution_count": 18,
   "metadata": {},
   "outputs": [],
   "source": [
    "df.fillna({\"Opioid Claim Count\":0,                     \n",
    "\"Opioid Prescribing Rate\":0,                \n",
    "\"Long-Acting Opioid Claim Count\":0,         \n",
    "\"Long-Acting Opioid Prescribing Rate\":0},inplace=True)"
   ]
  },
  {
   "cell_type": "markdown",
   "metadata": {},
   "source": [
    "Reason behind keeping all nulls:\n",
    "    If I drop all nulls ,I will loose the fraud providers.As I checked there would remain only 173\n",
    "    fraud provider.So I decided to impute."
   ]
  },
  {
   "cell_type": "code",
   "execution_count": 19,
   "metadata": {},
   "outputs": [
    {
     "data": {
      "text/plain": [
       "NPI                                    0\n",
       "Name                                   0\n",
       "ZIP_code                               0\n",
       "state                                  0\n",
       "Specialty Description                  0\n",
       "Total Claim Count                      0\n",
       "Opioid Claim Count                     0\n",
       "Opioid Prescribing Rate                0\n",
       "Long-Acting Opioid Claim Count         0\n",
       "Long-Acting Opioid Prescribing Rate    0\n",
       "dtype: int64"
      ]
     },
     "execution_count": 19,
     "metadata": {},
     "output_type": "execute_result"
    }
   ],
   "source": [
    "df.isnull().sum()"
   ]
  },
  {
   "cell_type": "markdown",
   "metadata": {},
   "source": [
    "From this dataset we are only taking following columns for further process."
   ]
  },
  {
   "cell_type": "code",
   "execution_count": 20,
   "metadata": {},
   "outputs": [],
   "source": [
    "df1=df[['NPI',\"Opioid Claim Count\",                     \n",
    "\"Opioid Prescribing Rate\",                \n",
    "\"Long-Acting Opioid Claim Count\",         \n",
    "\"Long-Acting Opioid Prescribing Rate\"]]"
   ]
  },
  {
   "cell_type": "code",
   "execution_count": 21,
   "metadata": {},
   "outputs": [],
   "source": [
    "df1.to_csv(\"./datasets/opiod.csv\")"
   ]
  },
  {
   "cell_type": "markdown",
   "metadata": {},
   "source": [
    "# EDA"
   ]
  },
  {
   "cell_type": "code",
   "execution_count": 22,
   "metadata": {},
   "outputs": [
    {
     "data": {
      "text/html": [
       "<div>\n",
       "<style scoped>\n",
       "    .dataframe tbody tr th:only-of-type {\n",
       "        vertical-align: middle;\n",
       "    }\n",
       "\n",
       "    .dataframe tbody tr th {\n",
       "        vertical-align: top;\n",
       "    }\n",
       "\n",
       "    .dataframe thead th {\n",
       "        text-align: right;\n",
       "    }\n",
       "</style>\n",
       "<table border=\"1\" class=\"dataframe\">\n",
       "  <thead>\n",
       "    <tr style=\"text-align: right;\">\n",
       "      <th></th>\n",
       "      <th>NPI</th>\n",
       "      <th>Name</th>\n",
       "      <th>ZIP_code</th>\n",
       "      <th>state</th>\n",
       "      <th>Specialty Description</th>\n",
       "      <th>Total Claim Count</th>\n",
       "      <th>Opioid Claim Count</th>\n",
       "      <th>Opioid Prescribing Rate</th>\n",
       "      <th>Long-Acting Opioid Claim Count</th>\n",
       "      <th>Long-Acting Opioid Prescribing Rate</th>\n",
       "    </tr>\n",
       "  </thead>\n",
       "  <tbody>\n",
       "    <tr>\n",
       "      <th>0</th>\n",
       "      <td>1174649131</td>\n",
       "      <td>LAUREN MORAN</td>\n",
       "      <td>2478</td>\n",
       "      <td>MA</td>\n",
       "      <td>Psychiatry</td>\n",
       "      <td>27</td>\n",
       "      <td>0.0</td>\n",
       "      <td>0.0</td>\n",
       "      <td>0.0</td>\n",
       "      <td>0.00</td>\n",
       "    </tr>\n",
       "    <tr>\n",
       "      <th>1</th>\n",
       "      <td>1003804923</td>\n",
       "      <td>KURT KASTENDIECK</td>\n",
       "      <td>87505</td>\n",
       "      <td>NM</td>\n",
       "      <td>Family Practice</td>\n",
       "      <td>5342</td>\n",
       "      <td>593.0</td>\n",
       "      <td>11.1</td>\n",
       "      <td>72.0</td>\n",
       "      <td>12.14</td>\n",
       "    </tr>\n",
       "    <tr>\n",
       "      <th>2</th>\n",
       "      <td>1366761108</td>\n",
       "      <td>JULIE WILEY</td>\n",
       "      <td>73102</td>\n",
       "      <td>OK</td>\n",
       "      <td>Obstetrics &amp; Gynecology</td>\n",
       "      <td>125</td>\n",
       "      <td>0.0</td>\n",
       "      <td>0.0</td>\n",
       "      <td>0.0</td>\n",
       "      <td>0.00</td>\n",
       "    </tr>\n",
       "    <tr>\n",
       "      <th>3</th>\n",
       "      <td>1386611234</td>\n",
       "      <td>JENNIFER GUNNELL</td>\n",
       "      <td>97701</td>\n",
       "      <td>OR</td>\n",
       "      <td>Internal Medicine</td>\n",
       "      <td>250</td>\n",
       "      <td>0.0</td>\n",
       "      <td>0.0</td>\n",
       "      <td>0.0</td>\n",
       "      <td>0.00</td>\n",
       "    </tr>\n",
       "    <tr>\n",
       "      <th>4</th>\n",
       "      <td>1871920066</td>\n",
       "      <td>SUSAN COX</td>\n",
       "      <td>89502</td>\n",
       "      <td>NV</td>\n",
       "      <td>Nurse Practitioner</td>\n",
       "      <td>717</td>\n",
       "      <td>0.0</td>\n",
       "      <td>0.0</td>\n",
       "      <td>0.0</td>\n",
       "      <td>0.00</td>\n",
       "    </tr>\n",
       "  </tbody>\n",
       "</table>\n",
       "</div>"
      ],
      "text/plain": [
       "          NPI              Name ZIP_code state    Specialty Description  \\\n",
       "0  1174649131      LAUREN MORAN     2478    MA               Psychiatry   \n",
       "1  1003804923  KURT KASTENDIECK    87505    NM          Family Practice   \n",
       "2  1366761108       JULIE WILEY    73102    OK  Obstetrics & Gynecology   \n",
       "3  1386611234  JENNIFER GUNNELL    97701    OR        Internal Medicine   \n",
       "4  1871920066         SUSAN COX    89502    NV       Nurse Practitioner   \n",
       "\n",
       "   Total Claim Count  Opioid Claim Count  Opioid Prescribing Rate  \\\n",
       "0                 27                 0.0                      0.0   \n",
       "1               5342               593.0                     11.1   \n",
       "2                125                 0.0                      0.0   \n",
       "3                250                 0.0                      0.0   \n",
       "4                717                 0.0                      0.0   \n",
       "\n",
       "   Long-Acting Opioid Claim Count  Long-Acting Opioid Prescribing Rate  \n",
       "0                             0.0                                 0.00  \n",
       "1                            72.0                                12.14  \n",
       "2                             0.0                                 0.00  \n",
       "3                             0.0                                 0.00  \n",
       "4                             0.0                                 0.00  "
      ]
     },
     "execution_count": 22,
     "metadata": {},
     "output_type": "execute_result"
    }
   ],
   "source": [
    "df.head()"
   ]
  },
  {
   "cell_type": "markdown",
   "metadata": {},
   "source": [
    "Let's check the city whose providers has maximum claims"
   ]
  },
  {
   "cell_type": "code",
   "execution_count": 23,
   "metadata": {},
   "outputs": [],
   "source": [
    "a=df.groupby(\"state\")[\"Total Claim Count\"].sum()\n",
    "max_claims=a.sort_values(ascending=False).reset_index().head(15)"
   ]
  },
  {
   "cell_type": "code",
   "execution_count": 24,
   "metadata": {},
   "outputs": [
    {
     "name": "stderr",
     "output_type": "stream",
     "text": [
      "/Users/umangimistry/opt/anaconda3/lib/python3.8/site-packages/seaborn/categorical.py:3692: UserWarning: The `size` parameter has been renamed to `height`; please update your code.\n",
      "  warnings.warn(msg, UserWarning)\n"
     ]
    },
    {
     "data": {
      "text/plain": [
       "<seaborn.axisgrid.FacetGrid at 0x7fa0a9c29760>"
      ]
     },
     "execution_count": 24,
     "metadata": {},
     "output_type": "execute_result"
    },
    {
     "data": {
      "image/png": "[encoded data removed]",
      "text/plain": [
       "<Figure size 360x360 with 1 Axes>"
      ]
     },
     "metadata": {
      "needs_background": "light"
     },
     "output_type": "display_data"
    }
   ],
   "source": [
    "sns.catplot(x=\"state\", y=\"Total Claim Count\",kind=\"bar\", data=max_claims, size=5,palette=\"PRGn\")\n"
   ]
  },
  {
   "cell_type": "code",
   "execution_count": 25,
   "metadata": {},
   "outputs": [],
   "source": [
    "min_claims=a.sort_values().reset_index().head(15)"
   ]
  },
  {
   "cell_type": "code",
   "execution_count": 26,
   "metadata": {},
   "outputs": [
    {
     "data": {
      "text/plain": [
       "<seaborn.axisgrid.FacetGrid at 0x7fa08c111820>"
      ]
     },
     "execution_count": 26,
     "metadata": {},
     "output_type": "execute_result"
    },
    {
     "data": {
      "image/png": "[encoded data removed]",
      "text/plain": [
       "<Figure size 360x360 with 1 Axes>"
      ]
     },
     "metadata": {
      "needs_background": "light"
     },
     "output_type": "display_data"
    }
   ],
   "source": [
    "sns.catplot(x=\"state\", y=\"Total Claim Count\",kind=\"bar\", data=min_claims, size=5,palette=\"PRGn\")"
   ]
  },
  {
   "cell_type": "code",
   "execution_count": 27,
   "metadata": {},
   "outputs": [
    {
     "data": {
      "text/plain": [
       "Specialty Description\n",
       "Acupuncturist                                        100.0\n",
       "Addiction Medicine                                  4446.0\n",
       "Adult Companion                                        0.0\n",
       "Advanced Heart Failure and Transplant Cardiology       0.0\n",
       "Advanced Practice Dental Therapist                     0.0\n",
       "                                                     ...  \n",
       "Unknown Supplier/Provider Specialty                   69.0\n",
       "Urology                                             2407.0\n",
       "Vascular Surgery                                    1163.0\n",
       "Veterinarian                                           0.0\n",
       "Voluntary Health or Charitable Agency                  0.0\n",
       "Name: Opioid Claim Count, Length: 214, dtype: float64"
      ]
     },
     "execution_count": 27,
     "metadata": {},
     "output_type": "execute_result"
    }
   ],
   "source": [
    "df.groupby(\"Specialty Description\")[\"Opioid Claim Count\"].max()"
   ]
  },
  {
   "cell_type": "markdown",
   "metadata": {},
   "source": [
    "Prescribing rate according to speciality of provider"
   ]
  },
  {
   "cell_type": "code",
   "execution_count": 28,
   "metadata": {},
   "outputs": [],
   "source": [
    "prescribing_rate=df.groupby(\"Specialty Description\")[\"Long-Acting Opioid Prescribing Rate\"].sum()"
   ]
  },
  {
   "cell_type": "code",
   "execution_count": 29,
   "metadata": {},
   "outputs": [
    {
     "data": {
      "text/html": [
       "<div>\n",
       "<style scoped>\n",
       "    .dataframe tbody tr th:only-of-type {\n",
       "        vertical-align: middle;\n",
       "    }\n",
       "\n",
       "    .dataframe tbody tr th {\n",
       "        vertical-align: top;\n",
       "    }\n",
       "\n",
       "    .dataframe thead th {\n",
       "        text-align: right;\n",
       "    }\n",
       "</style>\n",
       "<table border=\"1\" class=\"dataframe\">\n",
       "  <thead>\n",
       "    <tr style=\"text-align: right;\">\n",
       "      <th></th>\n",
       "      <th>Specialty Description</th>\n",
       "      <th>Long-Acting Opioid Prescribing Rate</th>\n",
       "    </tr>\n",
       "  </thead>\n",
       "  <tbody>\n",
       "    <tr>\n",
       "      <th>0</th>\n",
       "      <td>Family Practice</td>\n",
       "      <td>528466.34</td>\n",
       "    </tr>\n",
       "    <tr>\n",
       "      <th>1</th>\n",
       "      <td>Internal Medicine</td>\n",
       "      <td>416850.44</td>\n",
       "    </tr>\n",
       "    <tr>\n",
       "      <th>2</th>\n",
       "      <td>Nurse Practitioner</td>\n",
       "      <td>340729.63</td>\n",
       "    </tr>\n",
       "    <tr>\n",
       "      <th>3</th>\n",
       "      <td>Physician Assistant</td>\n",
       "      <td>143810.59</td>\n",
       "    </tr>\n",
       "    <tr>\n",
       "      <th>4</th>\n",
       "      <td>Hematology-Oncology</td>\n",
       "      <td>138558.05</td>\n",
       "    </tr>\n",
       "    <tr>\n",
       "      <th>5</th>\n",
       "      <td>Physical Medicine and Rehabilitation</td>\n",
       "      <td>75425.85</td>\n",
       "    </tr>\n",
       "    <tr>\n",
       "      <th>6</th>\n",
       "      <td>Anesthesiology</td>\n",
       "      <td>67016.39</td>\n",
       "    </tr>\n",
       "    <tr>\n",
       "      <th>7</th>\n",
       "      <td>Pain Management</td>\n",
       "      <td>46723.56</td>\n",
       "    </tr>\n",
       "    <tr>\n",
       "      <th>8</th>\n",
       "      <td>Medical Oncology</td>\n",
       "      <td>45123.99</td>\n",
       "    </tr>\n",
       "    <tr>\n",
       "      <th>9</th>\n",
       "      <td>Neurology</td>\n",
       "      <td>44906.11</td>\n",
       "    </tr>\n",
       "  </tbody>\n",
       "</table>\n",
       "</div>"
      ],
      "text/plain": [
       "                  Specialty Description  Long-Acting Opioid Prescribing Rate\n",
       "0                       Family Practice                            528466.34\n",
       "1                     Internal Medicine                            416850.44\n",
       "2                    Nurse Practitioner                            340729.63\n",
       "3                   Physician Assistant                            143810.59\n",
       "4                   Hematology-Oncology                            138558.05\n",
       "5  Physical Medicine and Rehabilitation                             75425.85\n",
       "6                        Anesthesiology                             67016.39\n",
       "7                       Pain Management                             46723.56\n",
       "8                      Medical Oncology                             45123.99\n",
       "9                             Neurology                             44906.11"
      ]
     },
     "execution_count": 29,
     "metadata": {},
     "output_type": "execute_result"
    }
   ],
   "source": [
    "prescribing_rate=prescribing_rate.sort_values(ascending=False).head(10).reset_index()\n",
    "prescribing_rate"
   ]
  },
  {
   "cell_type": "markdown",
   "metadata": {},
   "source": [
    "Here is the top 10 Speciality with highest opioid prescribing rate"
   ]
  },
  {
   "cell_type": "code",
   "execution_count": 30,
   "metadata": {},
   "outputs": [
    {
     "data": {
      "text/plain": [
       "<matplotlib.axes._subplots.AxesSubplot at 0x7fa08c3136a0>"
      ]
     },
     "execution_count": 30,
     "metadata": {},
     "output_type": "execute_result"
    },
    {
     "data": {
      "image/png": "[encoded data removed]",
      "text/plain": [
       "<Figure size 2160x720 with 1 Axes>"
      ]
     },
     "metadata": {
      "needs_background": "light"
     },
     "output_type": "display_data"
    }
   ],
   "source": [
    "fig_dims = (30, 10)\n",
    "fig, ax = plt.subplots(figsize=fig_dims)\n",
    "\n",
    "sns.barplot(x='Specialty Description',y=\"Long-Acting Opioid Prescribing Rate\",\n",
    "            data=prescribing_rate,orient=\"v\",ax=ax,color=\"yellow\")"
   ]
  },
  {
   "cell_type": "code",
   "execution_count": 31,
   "metadata": {},
   "outputs": [
    {
     "data": {
      "text/html": [
       "<div>\n",
       "<style scoped>\n",
       "    .dataframe tbody tr th:only-of-type {\n",
       "        vertical-align: middle;\n",
       "    }\n",
       "\n",
       "    .dataframe tbody tr th {\n",
       "        vertical-align: top;\n",
       "    }\n",
       "\n",
       "    .dataframe thead th {\n",
       "        text-align: right;\n",
       "    }\n",
       "</style>\n",
       "<table border=\"1\" class=\"dataframe\">\n",
       "  <thead>\n",
       "    <tr style=\"text-align: right;\">\n",
       "      <th></th>\n",
       "      <th>NPI</th>\n",
       "      <th>Total Claim Count</th>\n",
       "      <th>Opioid Claim Count</th>\n",
       "      <th>Opioid Prescribing Rate</th>\n",
       "      <th>Long-Acting Opioid Claim Count</th>\n",
       "      <th>Long-Acting Opioid Prescribing Rate</th>\n",
       "    </tr>\n",
       "  </thead>\n",
       "  <tbody>\n",
       "    <tr>\n",
       "      <th>count</th>\n",
       "      <td>1.162898e+06</td>\n",
       "      <td>1162898.00</td>\n",
       "      <td>1162898.00</td>\n",
       "      <td>1162898.00</td>\n",
       "      <td>1162898.00</td>\n",
       "      <td>1162898.00</td>\n",
       "    </tr>\n",
       "    <tr>\n",
       "      <th>mean</th>\n",
       "      <td>1.499872e+09</td>\n",
       "      <td>1284.99</td>\n",
       "      <td>64.04</td>\n",
       "      <td>7.22</td>\n",
       "      <td>7.83</td>\n",
       "      <td>1.82</td>\n",
       "    </tr>\n",
       "    <tr>\n",
       "      <th>std</th>\n",
       "      <td>2.879383e+08</td>\n",
       "      <td>3094.37</td>\n",
       "      <td>265.63</td>\n",
       "      <td>14.93</td>\n",
       "      <td>64.09</td>\n",
       "      <td>6.94</td>\n",
       "    </tr>\n",
       "    <tr>\n",
       "      <th>min</th>\n",
       "      <td>1.003000e+09</td>\n",
       "      <td>11.00</td>\n",
       "      <td>0.00</td>\n",
       "      <td>0.00</td>\n",
       "      <td>0.00</td>\n",
       "      <td>0.00</td>\n",
       "    </tr>\n",
       "    <tr>\n",
       "      <th>25%</th>\n",
       "      <td>1.245771e+09</td>\n",
       "      <td>55.00</td>\n",
       "      <td>0.00</td>\n",
       "      <td>0.00</td>\n",
       "      <td>0.00</td>\n",
       "      <td>0.00</td>\n",
       "    </tr>\n",
       "    <tr>\n",
       "      <th>50%</th>\n",
       "      <td>1.497974e+09</td>\n",
       "      <td>203.00</td>\n",
       "      <td>0.00</td>\n",
       "      <td>0.00</td>\n",
       "      <td>0.00</td>\n",
       "      <td>0.00</td>\n",
       "    </tr>\n",
       "    <tr>\n",
       "      <th>75%</th>\n",
       "      <td>1.740739e+09</td>\n",
       "      <td>995.00</td>\n",
       "      <td>35.00</td>\n",
       "      <td>5.95</td>\n",
       "      <td>0.00</td>\n",
       "      <td>0.00</td>\n",
       "    </tr>\n",
       "    <tr>\n",
       "      <th>max</th>\n",
       "      <td>1.993000e+09</td>\n",
       "      <td>447288.00</td>\n",
       "      <td>20599.00</td>\n",
       "      <td>100.00</td>\n",
       "      <td>6056.00</td>\n",
       "      <td>100.00</td>\n",
       "    </tr>\n",
       "  </tbody>\n",
       "</table>\n",
       "</div>"
      ],
      "text/plain": [
       "                NPI  Total Claim Count  Opioid Claim Count  \\\n",
       "count  1.162898e+06         1162898.00          1162898.00   \n",
       "mean   1.499872e+09            1284.99               64.04   \n",
       "std    2.879383e+08            3094.37              265.63   \n",
       "min    1.003000e+09              11.00                0.00   \n",
       "25%    1.245771e+09              55.00                0.00   \n",
       "50%    1.497974e+09             203.00                0.00   \n",
       "75%    1.740739e+09             995.00               35.00   \n",
       "max    1.993000e+09          447288.00            20599.00   \n",
       "\n",
       "       Opioid Prescribing Rate  Long-Acting Opioid Claim Count  \\\n",
       "count               1162898.00                      1162898.00   \n",
       "mean                      7.22                            7.83   \n",
       "std                      14.93                           64.09   \n",
       "min                       0.00                            0.00   \n",
       "25%                       0.00                            0.00   \n",
       "50%                       0.00                            0.00   \n",
       "75%                       5.95                            0.00   \n",
       "max                     100.00                         6056.00   \n",
       "\n",
       "       Long-Acting Opioid Prescribing Rate  \n",
       "count                           1162898.00  \n",
       "mean                                  1.82  \n",
       "std                                   6.94  \n",
       "min                                   0.00  \n",
       "25%                                   0.00  \n",
       "50%                                   0.00  \n",
       "75%                                   0.00  \n",
       "max                                 100.00  "
      ]
     },
     "execution_count": 31,
     "metadata": {},
     "output_type": "execute_result"
    }
   ],
   "source": [
    "df.describe().round(2)"
   ]
  },
  {
   "cell_type": "markdown",
   "metadata": {},
   "source": [
    "Get the data with Fraud providers"
   ]
  },
  {
   "cell_type": "code",
   "execution_count": 32,
   "metadata": {},
   "outputs": [],
   "source": [
    "fraud_provider=pd.read_csv(\"./datasets/fraud.csv\",index_col=0)"
   ]
  },
  {
   "cell_type": "code",
   "execution_count": 33,
   "metadata": {},
   "outputs": [],
   "source": [
    "df2=df.merge(fraud_provider)"
   ]
  },
  {
   "cell_type": "code",
   "execution_count": 34,
   "metadata": {},
   "outputs": [
    {
     "data": {
      "text/html": [
       "<div>\n",
       "<style scoped>\n",
       "    .dataframe tbody tr th:only-of-type {\n",
       "        vertical-align: middle;\n",
       "    }\n",
       "\n",
       "    .dataframe tbody tr th {\n",
       "        vertical-align: top;\n",
       "    }\n",
       "\n",
       "    .dataframe thead th {\n",
       "        text-align: right;\n",
       "    }\n",
       "</style>\n",
       "<table border=\"1\" class=\"dataframe\">\n",
       "  <thead>\n",
       "    <tr style=\"text-align: right;\">\n",
       "      <th></th>\n",
       "      <th>NPI</th>\n",
       "      <th>Name</th>\n",
       "      <th>ZIP_code</th>\n",
       "      <th>state</th>\n",
       "      <th>Specialty Description</th>\n",
       "      <th>Total Claim Count</th>\n",
       "      <th>Opioid Claim Count</th>\n",
       "      <th>Opioid Prescribing Rate</th>\n",
       "      <th>Long-Acting Opioid Claim Count</th>\n",
       "      <th>Long-Acting Opioid Prescribing Rate</th>\n",
       "      <th>is_fraud</th>\n",
       "    </tr>\n",
       "  </thead>\n",
       "  <tbody>\n",
       "    <tr>\n",
       "      <th>0</th>\n",
       "      <td>1669758959</td>\n",
       "      <td>PHOUNING KEO</td>\n",
       "      <td>85260</td>\n",
       "      <td>AZ</td>\n",
       "      <td>Nurse Practitioner</td>\n",
       "      <td>3464</td>\n",
       "      <td>65.0</td>\n",
       "      <td>1.88</td>\n",
       "      <td>0.0</td>\n",
       "      <td>0.00</td>\n",
       "      <td>1</td>\n",
       "    </tr>\n",
       "    <tr>\n",
       "      <th>1</th>\n",
       "      <td>1245350354</td>\n",
       "      <td>SPIRO KASSIS</td>\n",
       "      <td>19403</td>\n",
       "      <td>PA</td>\n",
       "      <td>Psychiatry &amp; Neurology</td>\n",
       "      <td>798</td>\n",
       "      <td>0.0</td>\n",
       "      <td>0.00</td>\n",
       "      <td>0.0</td>\n",
       "      <td>0.00</td>\n",
       "      <td>1</td>\n",
       "    </tr>\n",
       "    <tr>\n",
       "      <th>2</th>\n",
       "      <td>1760553580</td>\n",
       "      <td>JOBIE CREAR</td>\n",
       "      <td>70125</td>\n",
       "      <td>LA</td>\n",
       "      <td>Ophthalmology</td>\n",
       "      <td>50</td>\n",
       "      <td>0.0</td>\n",
       "      <td>0.00</td>\n",
       "      <td>0.0</td>\n",
       "      <td>0.00</td>\n",
       "      <td>1</td>\n",
       "    </tr>\n",
       "    <tr>\n",
       "      <th>3</th>\n",
       "      <td>1013009729</td>\n",
       "      <td>HAILU KABTIMER</td>\n",
       "      <td>37075</td>\n",
       "      <td>TN</td>\n",
       "      <td>Internal Medicine</td>\n",
       "      <td>7243</td>\n",
       "      <td>417.0</td>\n",
       "      <td>5.76</td>\n",
       "      <td>23.0</td>\n",
       "      <td>5.52</td>\n",
       "      <td>1</td>\n",
       "    </tr>\n",
       "    <tr>\n",
       "      <th>4</th>\n",
       "      <td>1144212978</td>\n",
       "      <td>HARCHARAN NARANG</td>\n",
       "      <td>77429</td>\n",
       "      <td>TX</td>\n",
       "      <td>Internal Medicine</td>\n",
       "      <td>77</td>\n",
       "      <td>0.0</td>\n",
       "      <td>0.00</td>\n",
       "      <td>0.0</td>\n",
       "      <td>0.00</td>\n",
       "      <td>1</td>\n",
       "    </tr>\n",
       "    <tr>\n",
       "      <th>...</th>\n",
       "      <td>...</td>\n",
       "      <td>...</td>\n",
       "      <td>...</td>\n",
       "      <td>...</td>\n",
       "      <td>...</td>\n",
       "      <td>...</td>\n",
       "      <td>...</td>\n",
       "      <td>...</td>\n",
       "      <td>...</td>\n",
       "      <td>...</td>\n",
       "      <td>...</td>\n",
       "    </tr>\n",
       "    <tr>\n",
       "      <th>529</th>\n",
       "      <td>1891719621</td>\n",
       "      <td>ROBERT LOWENSTEIN</td>\n",
       "      <td>13501</td>\n",
       "      <td>NY</td>\n",
       "      <td>Family Medicine</td>\n",
       "      <td>39</td>\n",
       "      <td>0.0</td>\n",
       "      <td>0.00</td>\n",
       "      <td>0.0</td>\n",
       "      <td>0.00</td>\n",
       "      <td>1</td>\n",
       "    </tr>\n",
       "    <tr>\n",
       "      <th>530</th>\n",
       "      <td>1154471621</td>\n",
       "      <td>AZAD KHAN</td>\n",
       "      <td>19131</td>\n",
       "      <td>PA</td>\n",
       "      <td>Internal Medicine</td>\n",
       "      <td>198</td>\n",
       "      <td>0.0</td>\n",
       "      <td>0.00</td>\n",
       "      <td>0.0</td>\n",
       "      <td>0.00</td>\n",
       "      <td>1</td>\n",
       "    </tr>\n",
       "    <tr>\n",
       "      <th>531</th>\n",
       "      <td>1134280779</td>\n",
       "      <td>MICHAEL PENDLETON</td>\n",
       "      <td>78411</td>\n",
       "      <td>TX</td>\n",
       "      <td>Internal Medicine</td>\n",
       "      <td>4808</td>\n",
       "      <td>210.0</td>\n",
       "      <td>4.37</td>\n",
       "      <td>0.0</td>\n",
       "      <td>0.00</td>\n",
       "      <td>1</td>\n",
       "    </tr>\n",
       "    <tr>\n",
       "      <th>532</th>\n",
       "      <td>1962434027</td>\n",
       "      <td>STEVEN COX</td>\n",
       "      <td>36105</td>\n",
       "      <td>AL</td>\n",
       "      <td>Nurse Practitioner</td>\n",
       "      <td>2902</td>\n",
       "      <td>216.0</td>\n",
       "      <td>7.44</td>\n",
       "      <td>11.0</td>\n",
       "      <td>5.09</td>\n",
       "      <td>1</td>\n",
       "    </tr>\n",
       "    <tr>\n",
       "      <th>533</th>\n",
       "      <td>1346442514</td>\n",
       "      <td>SHUREE OLDEHOEFT-OHLEMANN</td>\n",
       "      <td>85032</td>\n",
       "      <td>AZ</td>\n",
       "      <td>Physician Assistant</td>\n",
       "      <td>12</td>\n",
       "      <td>0.0</td>\n",
       "      <td>0.00</td>\n",
       "      <td>0.0</td>\n",
       "      <td>0.00</td>\n",
       "      <td>1</td>\n",
       "    </tr>\n",
       "  </tbody>\n",
       "</table>\n",
       "<p>534 rows × 11 columns</p>\n",
       "</div>"
      ],
      "text/plain": [
       "            NPI                       Name ZIP_code state  \\\n",
       "0    1669758959               PHOUNING KEO    85260    AZ   \n",
       "1    1245350354               SPIRO KASSIS    19403    PA   \n",
       "2    1760553580                JOBIE CREAR    70125    LA   \n",
       "3    1013009729             HAILU KABTIMER    37075    TN   \n",
       "4    1144212978           HARCHARAN NARANG    77429    TX   \n",
       "..          ...                        ...      ...   ...   \n",
       "529  1891719621          ROBERT LOWENSTEIN    13501    NY   \n",
       "530  1154471621                  AZAD KHAN    19131    PA   \n",
       "531  1134280779          MICHAEL PENDLETON    78411    TX   \n",
       "532  1962434027                 STEVEN COX    36105    AL   \n",
       "533  1346442514  SHUREE OLDEHOEFT-OHLEMANN    85032    AZ   \n",
       "\n",
       "      Specialty Description  Total Claim Count  Opioid Claim Count  \\\n",
       "0        Nurse Practitioner               3464                65.0   \n",
       "1    Psychiatry & Neurology                798                 0.0   \n",
       "2             Ophthalmology                 50                 0.0   \n",
       "3         Internal Medicine               7243               417.0   \n",
       "4         Internal Medicine                 77                 0.0   \n",
       "..                      ...                ...                 ...   \n",
       "529         Family Medicine                 39                 0.0   \n",
       "530       Internal Medicine                198                 0.0   \n",
       "531       Internal Medicine               4808               210.0   \n",
       "532      Nurse Practitioner               2902               216.0   \n",
       "533     Physician Assistant                 12                 0.0   \n",
       "\n",
       "     Opioid Prescribing Rate  Long-Acting Opioid Claim Count  \\\n",
       "0                       1.88                             0.0   \n",
       "1                       0.00                             0.0   \n",
       "2                       0.00                             0.0   \n",
       "3                       5.76                            23.0   \n",
       "4                       0.00                             0.0   \n",
       "..                       ...                             ...   \n",
       "529                     0.00                             0.0   \n",
       "530                     0.00                             0.0   \n",
       "531                     4.37                             0.0   \n",
       "532                     7.44                            11.0   \n",
       "533                     0.00                             0.0   \n",
       "\n",
       "     Long-Acting Opioid Prescribing Rate  is_fraud  \n",
       "0                                   0.00         1  \n",
       "1                                   0.00         1  \n",
       "2                                   0.00         1  \n",
       "3                                   5.52         1  \n",
       "4                                   0.00         1  \n",
       "..                                   ...       ...  \n",
       "529                                 0.00         1  \n",
       "530                                 0.00         1  \n",
       "531                                 0.00         1  \n",
       "532                                 5.09         1  \n",
       "533                                 0.00         1  \n",
       "\n",
       "[534 rows x 11 columns]"
      ]
     },
     "execution_count": 34,
     "metadata": {},
     "output_type": "execute_result"
    }
   ],
   "source": [
    "df2"
   ]
  },
  {
   "cell_type": "markdown",
   "metadata": {},
   "source": [
    "We can see that in our dataset there is 534 providers who are fraud"
   ]
  },
  {
   "cell_type": "markdown",
   "metadata": {},
   "source": [
    "Lets check in which state there are more frauds"
   ]
  },
  {
   "cell_type": "code",
   "execution_count": 35,
   "metadata": {},
   "outputs": [],
   "source": [
    "fraud_states=df2.groupby(\"state\")[\"is_fraud\"].sum()\n",
    "fraud_states=fraud_states.reset_index().sort_values(by=\"is_fraud\",ascending=False).head(20)"
   ]
  },
  {
   "cell_type": "code",
   "execution_count": 36,
   "metadata": {},
   "outputs": [
    {
     "data": {
      "text/html": [
       "<div>\n",
       "<style scoped>\n",
       "    .dataframe tbody tr th:only-of-type {\n",
       "        vertical-align: middle;\n",
       "    }\n",
       "\n",
       "    .dataframe tbody tr th {\n",
       "        vertical-align: top;\n",
       "    }\n",
       "\n",
       "    .dataframe thead th {\n",
       "        text-align: right;\n",
       "    }\n",
       "</style>\n",
       "<table border=\"1\" class=\"dataframe\">\n",
       "  <thead>\n",
       "    <tr style=\"text-align: right;\">\n",
       "      <th></th>\n",
       "      <th>state</th>\n",
       "      <th>is_fraud</th>\n",
       "    </tr>\n",
       "  </thead>\n",
       "  <tbody>\n",
       "    <tr>\n",
       "      <th>31</th>\n",
       "      <td>NY</td>\n",
       "      <td>51</td>\n",
       "    </tr>\n",
       "    <tr>\n",
       "      <th>4</th>\n",
       "      <td>CA</td>\n",
       "      <td>46</td>\n",
       "    </tr>\n",
       "    <tr>\n",
       "      <th>8</th>\n",
       "      <td>FL</td>\n",
       "      <td>44</td>\n",
       "    </tr>\n",
       "    <tr>\n",
       "      <th>21</th>\n",
       "      <td>MI</td>\n",
       "      <td>35</td>\n",
       "    </tr>\n",
       "    <tr>\n",
       "      <th>41</th>\n",
       "      <td>TX</td>\n",
       "      <td>35</td>\n",
       "    </tr>\n",
       "    <tr>\n",
       "      <th>35</th>\n",
       "      <td>PA</td>\n",
       "      <td>29</td>\n",
       "    </tr>\n",
       "    <tr>\n",
       "      <th>28</th>\n",
       "      <td>NJ</td>\n",
       "      <td>23</td>\n",
       "    </tr>\n",
       "    <tr>\n",
       "      <th>13</th>\n",
       "      <td>IL</td>\n",
       "      <td>21</td>\n",
       "    </tr>\n",
       "    <tr>\n",
       "      <th>43</th>\n",
       "      <td>VA</td>\n",
       "      <td>21</td>\n",
       "    </tr>\n",
       "    <tr>\n",
       "      <th>9</th>\n",
       "      <td>GA</td>\n",
       "      <td>17</td>\n",
       "    </tr>\n",
       "    <tr>\n",
       "      <th>22</th>\n",
       "      <td>MO</td>\n",
       "      <td>16</td>\n",
       "    </tr>\n",
       "    <tr>\n",
       "      <th>1</th>\n",
       "      <td>AL</td>\n",
       "      <td>15</td>\n",
       "    </tr>\n",
       "    <tr>\n",
       "      <th>40</th>\n",
       "      <td>TN</td>\n",
       "      <td>14</td>\n",
       "    </tr>\n",
       "    <tr>\n",
       "      <th>3</th>\n",
       "      <td>AZ</td>\n",
       "      <td>12</td>\n",
       "    </tr>\n",
       "    <tr>\n",
       "      <th>32</th>\n",
       "      <td>OH</td>\n",
       "      <td>11</td>\n",
       "    </tr>\n",
       "    <tr>\n",
       "      <th>17</th>\n",
       "      <td>LA</td>\n",
       "      <td>11</td>\n",
       "    </tr>\n",
       "    <tr>\n",
       "      <th>19</th>\n",
       "      <td>MD</td>\n",
       "      <td>11</td>\n",
       "    </tr>\n",
       "    <tr>\n",
       "      <th>30</th>\n",
       "      <td>NV</td>\n",
       "      <td>10</td>\n",
       "    </tr>\n",
       "    <tr>\n",
       "      <th>5</th>\n",
       "      <td>CO</td>\n",
       "      <td>9</td>\n",
       "    </tr>\n",
       "    <tr>\n",
       "      <th>16</th>\n",
       "      <td>KY</td>\n",
       "      <td>8</td>\n",
       "    </tr>\n",
       "  </tbody>\n",
       "</table>\n",
       "</div>"
      ],
      "text/plain": [
       "   state  is_fraud\n",
       "31    NY        51\n",
       "4     CA        46\n",
       "8     FL        44\n",
       "21    MI        35\n",
       "41    TX        35\n",
       "35    PA        29\n",
       "28    NJ        23\n",
       "13    IL        21\n",
       "43    VA        21\n",
       "9     GA        17\n",
       "22    MO        16\n",
       "1     AL        15\n",
       "40    TN        14\n",
       "3     AZ        12\n",
       "32    OH        11\n",
       "17    LA        11\n",
       "19    MD        11\n",
       "30    NV        10\n",
       "5     CO         9\n",
       "16    KY         8"
      ]
     },
     "execution_count": 36,
     "metadata": {},
     "output_type": "execute_result"
    }
   ],
   "source": [
    "fraud_states"
   ]
  },
  {
   "cell_type": "markdown",
   "metadata": {},
   "source": [
    "The above data is the fraudulent in perticular state."
   ]
  },
  {
   "cell_type": "code",
   "execution_count": 40,
   "metadata": {},
   "outputs": [
    {
     "data": {
      "text/plain": [
       "<matplotlib.axes._subplots.AxesSubplot at 0x7fa08c5636d0>"
      ]
     },
     "execution_count": 40,
     "metadata": {},
     "output_type": "execute_result"
    },
    {
     "data": {
      "image/png": "[encoded data removed]",
      "text/plain": [
       "<Figure size 2160x720 with 1 Axes>"
      ]
     },
     "metadata": {
      "needs_background": "light"
     },
     "output_type": "display_data"
    }
   ],
   "source": [
    "fig_dims = (30, 10)\n",
    "fig, ax = plt.subplots(figsize=fig_dims)\n",
    "\n",
    "sns.barplot(x='state',y=\"is_fraud\",\n",
    "            data=fraud_states,orient=\"v\",ax=ax,color=\"green\")"
   ]
  },
  {
   "cell_type": "markdown",
   "metadata": {},
   "source": [
    "In the top 20 highest fraud provider based on the state Newyork is at the top with 51 frauds and Kentucky is at 20th position\n",
    "with 8 frauds related to opioid drug prescription."
   ]
  },
  {
   "cell_type": "code",
   "execution_count": null,
   "metadata": {},
   "outputs": [],
   "source": []
  }
 ],
 "metadata": {
  "kernelspec": {
   "display_name": "Python 3",
   "language": "python",
   "name": "python3"
  },
  "language_info": {
   "codemirror_mode": {
    "name": "ipython",
    "version": 3
   },
   "file_extension": ".py",
   "mimetype": "text/x-python",
   "name": "python",
   "nbconvert_exporter": "python",
   "pygments_lexer": "ipython3",
   "version": "3.8.3"
  }
 },
 "nbformat": 4,
 "nbformat_minor": 4
}
